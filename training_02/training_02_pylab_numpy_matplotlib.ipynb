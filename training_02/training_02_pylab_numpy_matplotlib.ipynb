{
 "cells": [
  {
   "cell_type": "markdown",
   "metadata": {
    "editable": true,
    "tags": []
   },
   "source": [
    "# Training 2. PyLAB (MATLAB &#8594; Python ), NumPy, Matplotlib"
   ]
  },
  {
   "cell_type": "markdown",
   "metadata": {},
   "source": [
    "## Цель:\n",
    "Попробовать режим MATLAB-user-friendly и что за этим стоит"
   ]
  },
  {
   "cell_type": "markdown",
   "metadata": {},
   "source": [
    "## PyLAB"
   ]
  },
  {
   "cell_type": "markdown",
   "metadata": {
    "editable": true,
    "execution": {
     "iopub.execute_input": "2022-10-27T05:23:58.336250Z",
     "iopub.status.busy": "2022-10-27T05:23:58.334329Z",
     "iopub.status.idle": "2022-10-27T05:23:58.340727Z",
     "shell.execute_reply": "2022-10-27T05:23:58.340186Z",
     "shell.execute_reply.started": "2022-10-27T05:23:58.336164Z"
    },
    "tags": []
   },
   "source": [
    "Раньше можно было\n",
    "```python\n",
    "%pylab inline\n",
    "```"
   ]
  },
  {
   "cell_type": "code",
   "execution_count": 1,
   "metadata": {
    "execution": {
     "iopub.execute_input": "2023-05-11T12:16:04.034142Z",
     "iopub.status.busy": "2023-05-11T12:16:04.032480Z",
     "iopub.status.idle": "2023-05-11T12:16:04.055361Z",
     "shell.execute_reply": "2023-05-11T12:16:04.054429Z",
     "shell.execute_reply.started": "2023-05-11T12:16:04.034061Z"
    },
    "tags": []
   },
   "outputs": [
    {
     "data": {
      "application/json": {
       "cell": {
        "!": "OSMagics",
        "HTML": "Other",
        "SVG": "Other",
        "bash": "Other",
        "capture": "ExecutionMagics",
        "debug": "ExecutionMagics",
        "file": "Other",
        "html": "DisplayMagics",
        "javascript": "DisplayMagics",
        "js": "DisplayMagics",
        "latex": "DisplayMagics",
        "markdown": "DisplayMagics",
        "perl": "Other",
        "prun": "ExecutionMagics",
        "pypy": "Other",
        "python": "Other",
        "python2": "Other",
        "python3": "Other",
        "ruby": "Other",
        "script": "ScriptMagics",
        "sh": "Other",
        "svg": "DisplayMagics",
        "sx": "OSMagics",
        "system": "OSMagics",
        "time": "ExecutionMagics",
        "timeit": "ExecutionMagics",
        "writefile": "OSMagics"
       },
       "line": {
        "alias": "OSMagics",
        "alias_magic": "BasicMagics",
        "autoawait": "AsyncMagics",
        "autocall": "AutoMagics",
        "automagic": "AutoMagics",
        "autosave": "KernelMagics",
        "bookmark": "OSMagics",
        "cat": "Other",
        "cd": "OSMagics",
        "clear": "KernelMagics",
        "colors": "BasicMagics",
        "conda": "PackagingMagics",
        "config": "ConfigMagics",
        "connect_info": "KernelMagics",
        "cp": "Other",
        "debug": "ExecutionMagics",
        "dhist": "OSMagics",
        "dirs": "OSMagics",
        "doctest_mode": "BasicMagics",
        "ed": "Other",
        "edit": "KernelMagics",
        "env": "OSMagics",
        "gui": "BasicMagics",
        "hist": "Other",
        "history": "HistoryMagics",
        "killbgscripts": "ScriptMagics",
        "ldir": "Other",
        "less": "KernelMagics",
        "lf": "Other",
        "lk": "Other",
        "ll": "Other",
        "load": "CodeMagics",
        "load_ext": "ExtensionMagics",
        "loadpy": "CodeMagics",
        "logoff": "LoggingMagics",
        "logon": "LoggingMagics",
        "logstart": "LoggingMagics",
        "logstate": "LoggingMagics",
        "logstop": "LoggingMagics",
        "ls": "Other",
        "lsmagic": "BasicMagics",
        "lx": "Other",
        "macro": "ExecutionMagics",
        "magic": "BasicMagics",
        "man": "KernelMagics",
        "matplotlib": "PylabMagics",
        "mkdir": "Other",
        "more": "KernelMagics",
        "mv": "Other",
        "notebook": "BasicMagics",
        "page": "BasicMagics",
        "pastebin": "CodeMagics",
        "pdb": "ExecutionMagics",
        "pdef": "NamespaceMagics",
        "pdoc": "NamespaceMagics",
        "pfile": "NamespaceMagics",
        "pinfo": "NamespaceMagics",
        "pinfo2": "NamespaceMagics",
        "pip": "PackagingMagics",
        "popd": "OSMagics",
        "pprint": "BasicMagics",
        "precision": "BasicMagics",
        "prun": "ExecutionMagics",
        "psearch": "NamespaceMagics",
        "psource": "NamespaceMagics",
        "pushd": "OSMagics",
        "pwd": "OSMagics",
        "pycat": "OSMagics",
        "pylab": "PylabMagics",
        "qtconsole": "KernelMagics",
        "quickref": "BasicMagics",
        "recall": "HistoryMagics",
        "rehashx": "OSMagics",
        "reload_ext": "ExtensionMagics",
        "rep": "Other",
        "rerun": "HistoryMagics",
        "reset": "NamespaceMagics",
        "reset_selective": "NamespaceMagics",
        "rm": "Other",
        "rmdir": "Other",
        "run": "ExecutionMagics",
        "save": "CodeMagics",
        "sc": "OSMagics",
        "set_env": "OSMagics",
        "store": "StoreMagics",
        "sx": "OSMagics",
        "system": "OSMagics",
        "tb": "ExecutionMagics",
        "time": "ExecutionMagics",
        "timeit": "ExecutionMagics",
        "unalias": "OSMagics",
        "unload_ext": "ExtensionMagics",
        "who": "NamespaceMagics",
        "who_ls": "NamespaceMagics",
        "whos": "NamespaceMagics",
        "xdel": "NamespaceMagics",
        "xmode": "BasicMagics"
       }
      },
      "text/plain": [
       "Available line magics:\n",
       "%alias  %alias_magic  %autoawait  %autocall  %automagic  %autosave  %bookmark  %cat  %cd  %clear  %colors  %conda  %config  %connect_info  %cp  %debug  %dhist  %dirs  %doctest_mode  %ed  %edit  %env  %gui  %hist  %history  %killbgscripts  %ldir  %less  %lf  %lk  %ll  %load  %load_ext  %loadpy  %logoff  %logon  %logstart  %logstate  %logstop  %ls  %lsmagic  %lx  %macro  %magic  %man  %matplotlib  %mkdir  %more  %mv  %notebook  %page  %pastebin  %pdb  %pdef  %pdoc  %pfile  %pinfo  %pinfo2  %pip  %popd  %pprint  %precision  %prun  %psearch  %psource  %pushd  %pwd  %pycat  %pylab  %qtconsole  %quickref  %recall  %rehashx  %reload_ext  %rep  %rerun  %reset  %reset_selective  %rm  %rmdir  %run  %save  %sc  %set_env  %store  %sx  %system  %tb  %time  %timeit  %unalias  %unload_ext  %who  %who_ls  %whos  %xdel  %xmode\n",
       "\n",
       "Available cell magics:\n",
       "%%!  %%HTML  %%SVG  %%bash  %%capture  %%debug  %%file  %%html  %%javascript  %%js  %%latex  %%markdown  %%perl  %%prun  %%pypy  %%python  %%python2  %%python3  %%ruby  %%script  %%sh  %%svg  %%sx  %%system  %%time  %%timeit  %%writefile\n",
       "\n",
       "Automagic is ON, % prefix IS NOT needed for line magics."
      ]
     },
     "execution_count": 1,
     "metadata": {},
     "output_type": "execute_result"
    }
   ],
   "source": [
    "%lsmagic"
   ]
  },
  {
   "cell_type": "code",
   "execution_count": 2,
   "metadata": {
    "execution": {
     "iopub.execute_input": "2023-05-11T12:16:07.352765Z",
     "iopub.status.busy": "2023-05-11T12:16:07.352253Z",
     "iopub.status.idle": "2023-05-11T12:16:07.359723Z",
     "shell.execute_reply": "2023-05-11T12:16:07.358844Z",
     "shell.execute_reply.started": "2023-05-11T12:16:07.352722Z"
    },
    "tags": []
   },
   "outputs": [
    {
     "name": "stdout",
     "output_type": "stream",
     "text": [
      "Available matplotlib backends: ['tk', 'gtk', 'gtk3', 'gtk4', 'wx', 'qt4', 'qt5', 'qt6', 'qt', 'osx', 'nbagg', 'webagg', 'notebook', 'agg', 'svg', 'pdf', 'ps', 'inline', 'ipympl', 'widget']\n"
     ]
    }
   ],
   "source": [
    "%matplotlib --list"
   ]
  },
  {
   "cell_type": "code",
   "execution_count": 3,
   "metadata": {
    "deletable": true,
    "editable": true,
    "execution": {
     "iopub.execute_input": "2023-05-11T12:17:41.024108Z",
     "iopub.status.busy": "2023-05-11T12:17:41.023514Z",
     "iopub.status.idle": "2023-05-11T12:17:41.349582Z",
     "shell.execute_reply": "2023-05-11T12:17:41.348921Z",
     "shell.execute_reply.started": "2023-05-11T12:17:41.024083Z"
    },
    "tags": []
   },
   "outputs": [],
   "source": [
    "%matplotlib inline\n",
    "from pylab import *"
   ]
  },
  {
   "cell_type": "code",
   "execution_count": 4,
   "metadata": {
    "collapsed": false,
    "deletable": true,
    "editable": true,
    "execution": {
     "iopub.execute_input": "2023-05-11T12:17:43.410828Z",
     "iopub.status.busy": "2023-05-11T12:17:43.410304Z",
     "iopub.status.idle": "2023-05-11T12:17:43.427438Z",
     "shell.execute_reply": "2023-05-11T12:17:43.426839Z",
     "shell.execute_reply.started": "2023-05-11T12:17:43.410805Z"
    },
    "jupyter": {
     "outputs_hidden": false
    },
    "scrolled": true,
    "tags": []
   },
   "outputs": [
    {
     "name": "stdout",
     "output_type": "stream",
     "text": [
      "Variable                     Type                          Data/Info\n",
      "--------------------------------------------------------------------\n",
      "ALLOW_THREADS                int                           1\n",
      "Annotation                   type                          <class 'matplotlib.text.Annotation'>\n",
      "Arrow                        type                          <class 'matplotlib.patches.Arrow'>\n",
      "Artist                       type                          <class 'matplotlib.artist.Artist'>\n",
      "AutoLocator                  type                          <class 'matplotlib.ticker.AutoLocator'>\n",
      "Axes                         type                          <class 'matplotlib.axes._axes.Axes'>\n",
      "AxisError                    type                          <class 'numpy.AxisError'>\n",
      "BUFSIZE                      int                           8192\n",
      "BitGenerator                 type                          <class 'numpy.random.bit_generator.BitGenerator'>\n",
      "Button                       type                          <class 'matplotlib.widgets.Button'>\n",
      "CLIP                         int                           0\n",
      "Circle                       type                          <class 'matplotlib.patches.Circle'>\n",
      "ComplexWarning               type                          <class 'numpy.ComplexWarning'>\n",
      "DAILY                        int                           3\n",
      "DataSource                   type                          <class 'numpy.DataSource'>\n",
      "DateFormatter                type                          <class 'matplotlib.dates.DateFormatter'>\n",
      "DateLocator                  type                          <class 'matplotlib.dates.DateLocator'>\n",
      "DayLocator                   type                          <class 'matplotlib.dates.DayLocator'>\n",
      "ERR_CALL                     int                           3\n",
      "ERR_DEFAULT                  int                           521\n",
      "ERR_IGNORE                   int                           0\n",
      "ERR_LOG                      int                           5\n",
      "ERR_PRINT                    int                           4\n",
      "ERR_RAISE                    int                           2\n",
      "ERR_WARN                     int                           1\n",
      "Enum                         EnumType                      <enum 'Enum'>\n",
      "ExitStack                    ABCMeta                       <class 'contextlib.ExitStack'>\n",
      "FLOATING_POINT_SUPPORT       int                           1\n",
      "FPE_DIVIDEBYZERO             int                           1\n",
      "FPE_INVALID                  int                           8\n",
      "FPE_OVERFLOW                 int                           2\n",
      "FPE_UNDERFLOW                int                           4\n",
      "FR                           weekday                       FR\n",
      "False_                       bool_                         False\n",
      "Figure                       type                          <class 'matplotlib.figure.Figure'>\n",
      "FigureBase                   type                          <class 'matplotlib.figure.FigureBase'>\n",
      "FigureCanvasBase             type                          <class 'matplotlib.backen<...>_bases.FigureCanvasBase'>\n",
      "FigureManagerBase            type                          <class 'matplotlib.backen<...>bases.FigureManagerBase'>\n",
      "FixedFormatter               type                          <class 'matplotlib.ticker.FixedFormatter'>\n",
      "FixedLocator                 type                          <class 'matplotlib.ticker.FixedLocator'>\n",
      "FormatStrFormatter           type                          <class 'matplotlib.ticker.FormatStrFormatter'>\n",
      "Formatter                    type                          <class 'matplotlib.ticker.Formatter'>\n",
      "FuncFormatter                type                          <class 'matplotlib.ticker.FuncFormatter'>\n",
      "Generator                    type                          <class 'numpy.random._generator.Generator'>\n",
      "GridSpec                     type                          <class 'matplotlib.gridspec.GridSpec'>\n",
      "HOURLY                       int                           4\n",
      "HourLocator                  type                          <class 'matplotlib.dates.HourLocator'>\n",
      "IndexLocator                 type                          <class 'matplotlib.ticker.IndexLocator'>\n",
      "Inf                          float                         inf\n",
      "Infinity                     float                         inf\n",
      "LinAlgError                  type                          <class 'numpy.linalg.LinAlgError'>\n",
      "Line2D                       type                          <class 'matplotlib.lines.Line2D'>\n",
      "LinearLocator                type                          <class 'matplotlib.ticker.LinearLocator'>\n",
      "Locator                      type                          <class 'matplotlib.ticker.Locator'>\n",
      "LogFormatter                 type                          <class 'matplotlib.ticker.LogFormatter'>\n",
      "LogFormatterExponent         type                          <class 'matplotlib.ticker.LogFormatterExponent'>\n",
      "LogFormatterMathtext         type                          <class 'matplotlib.ticker.LogFormatterMathtext'>\n",
      "LogLocator                   type                          <class 'matplotlib.ticker.LogLocator'>\n",
      "MAXDIMS                      int                           32\n",
      "MAY_SHARE_BOUNDS             int                           0\n",
      "MAY_SHARE_EXACT              int                           -1\n",
      "MINUTELY                     int                           5\n",
      "MO                           weekday                       MO\n",
      "MONTHLY                      int                           1\n",
      "MT19937                      type                          <class 'numpy.random._mt19937.MT19937'>\n",
      "MaxNLocator                  type                          <class 'matplotlib.ticker.MaxNLocator'>\n",
      "MinuteLocator                type                          <class 'matplotlib.dates.MinuteLocator'>\n",
      "ModuleDeprecationWarning     type                          <class 'numpy.ModuleDeprecationWarning'>\n",
      "MonthLocator                 type                          <class 'matplotlib.dates.MonthLocator'>\n",
      "MouseButton                  EnumType                      <enum 'MouseButton'>\n",
      "MultipleLocator              type                          <class 'matplotlib.ticker.MultipleLocator'>\n",
      "NAN                          float                         nan\n",
      "NINF                         float                         -inf\n",
      "NZERO                        float                         -0.0\n",
      "NaN                          float                         nan\n",
      "Normalize                    type                          <class 'matplotlib.colors.Normalize'>\n",
      "NullFormatter                type                          <class 'matplotlib.ticker.NullFormatter'>\n",
      "NullLocator                  type                          <class 'matplotlib.ticker.NullLocator'>\n",
      "Number                       ABCMeta                       <class 'numbers.Number'>\n",
      "PCG64                        type                          <class 'numpy.random._pcg64.PCG64'>\n",
      "PCG64DXSM                    type                          <class 'numpy.random._pcg64.PCG64DXSM'>\n",
      "PINF                         float                         inf\n",
      "PZERO                        float                         0.0\n",
      "Philox                       type                          <class 'numpy.random._philox.Philox'>\n",
      "PolarAxes                    type                          <class 'matplotlib.projections.polar.PolarAxes'>\n",
      "Polygon                      type                          <class 'matplotlib.patches.Polygon'>\n",
      "RAISE                        int                           2\n",
      "RRuleLocator                 type                          <class 'matplotlib.dates.RRuleLocator'>\n",
      "RandomState                  type                          <class 'numpy.random.mtrand.RandomState'>\n",
      "RankWarning                  type                          <class 'numpy.RankWarning'>\n",
      "Rectangle                    type                          <class 'matplotlib.patches.Rectangle'>\n",
      "SA                           weekday                       SA\n",
      "SECONDLY                     int                           6\n",
      "SFC64                        type                          <class 'numpy.random._sfc64.SFC64'>\n",
      "SHIFT_DIVIDEBYZERO           int                           0\n",
      "SHIFT_INVALID                int                           9\n",
      "SHIFT_OVERFLOW               int                           3\n",
      "SHIFT_UNDERFLOW              int                           6\n",
      "SU                           weekday                       SU\n",
      "ScalarFormatter              type                          <class 'matplotlib.ticker.ScalarFormatter'>\n",
      "ScalarType                   tuple                         n=31\n",
      "SecondLocator                type                          <class 'matplotlib.dates.SecondLocator'>\n",
      "SeedSequence                 type                          <class 'numpy.random.bit_generator.SeedSequence'>\n",
      "Slider                       type                          <class 'matplotlib.widgets.Slider'>\n",
      "Subplot                      type                          <class 'matplotlib.axes._axes.Axes'>\n",
      "SubplotSpec                  type                          <class 'matplotlib.gridspec.SubplotSpec'>\n",
      "TH                           weekday                       TH\n",
      "TU                           weekday                       TU\n",
      "Text                         type                          <class 'matplotlib.text.Text'>\n",
      "TickHelper                   type                          <class 'matplotlib.ticker.TickHelper'>\n",
      "TooHardError                 type                          <class 'numpy.TooHardError'>\n",
      "True_                        bool_                         True\n",
      "UFUNC_BUFSIZE_DEFAULT        int                           8192\n",
      "UFUNC_PYVALS_NAME            str                           UFUNC_PYVALS\n",
      "VisibleDeprecationWarning    type                          <class 'numpy.VisibleDeprecationWarning'>\n",
      "WE                           weekday                       WE\n",
      "WEEKLY                       int                           2\n",
      "WRAP                         int                           1\n",
      "WeekdayLocator               type                          <class 'matplotlib.dates.WeekdayLocator'>\n",
      "Widget                       type                          <class 'matplotlib.widgets.Widget'>\n",
      "YEARLY                       int                           0\n",
      "YearLocator                  type                          <class 'matplotlib.dates.YearLocator'>\n",
      "absolute                     ufunc                         <ufunc 'absolute'>\n",
      "acorr                        function                      <function acorr at 0x7efdd6b17a60>\n",
      "add                          ufunc                         <ufunc 'add'>\n",
      "add_docstring                builtin_function_or_method    <built-in function add_docstring>\n",
      "add_newdoc                   function                      <function add_newdoc at 0x7efe145db600>\n",
      "add_newdoc_ufunc             builtin_function_or_method    <built-in function _add_newdoc_ufunc>\n",
      "all                          function                      <function all at 0x7efe1456d120>\n",
      "allclose                     function                      <function allclose at 0x7efe1c68a7a0>\n",
      "alltrue                      function                      <function alltrue at 0x7efe1456ede0>\n",
      "amax                         function                      <function amax at 0x7efe1456d6c0>\n",
      "amin                         function                      <function amin at 0x7efe1456d8a0>\n",
      "angle                        function                      <function angle at 0x7efe1449a340>\n",
      "angle_spectrum               function                      <function angle_spectrum at 0x7efdd6b17b00>\n",
      "annotate                     function                      <function annotate at 0x7efdd6b17ba0>\n",
      "any                          function                      <function any at 0x7efe1456cf40>\n",
      "append                       function                      <function append at 0x7efe144a1b20>\n",
      "apply_along_axis             function                      <function apply_along_axis at 0x7efe144b1c60>\n",
      "apply_over_axes              function                      <function apply_over_axes at 0x7efe144b1e40>\n",
      "arange                       builtin_function_or_method    <built-in function arange>\n",
      "arccos                       ufunc                         <ufunc 'arccos'>\n",
      "arccosh                      ufunc                         <ufunc 'arccosh'>\n",
      "arcsin                       ufunc                         <ufunc 'arcsin'>\n",
      "arcsinh                      ufunc                         <ufunc 'arcsinh'>\n",
      "arctan                       ufunc                         <ufunc 'arctan'>\n",
      "arctan2                      ufunc                         <ufunc 'arctan2'>\n",
      "arctanh                      ufunc                         <ufunc 'arctanh'>\n",
      "argmax                       function                      <function argmax at 0x7efe1455f6a0>\n",
      "argmin                       function                      <function argmin at 0x7efe1455f880>\n",
      "argpartition                 function                      <function argpartition at 0x7efe1455f100>\n",
      "argsort                      function                      <function argsort at 0x7efe1455f4c0>\n",
      "argwhere                     function                      <function argwhere at 0x7efe1c688cc0>\n",
      "around                       function                      <function around at 0x7efe1456e200>\n",
      "array                        builtin_function_or_method    <built-in function array>\n",
      "array2string                 function                      <function array2string at 0x7efe145a00e0>\n",
      "array_equal                  function                      <function array_equal at 0x7efe1c68ab60>\n",
      "array_equiv                  function                      <function array_equiv at 0x7efe1c68ad40>\n",
      "array_repr                   function                      <function array_repr at 0x7efe145a16c0>\n",
      "array_split                  function                      <function array_split at 0x7efe144b2700>\n",
      "array_str                    function                      <function array_str at 0x7efe145a1a80>\n",
      "arrow                        function                      <function arrow at 0x7efdd6b17c40>\n",
      "asanyarray                   builtin_function_or_method    <built-in function asanyarray>\n",
      "asarray                      builtin_function_or_method    <built-in function asarray>\n",
      "asarray_chkfinite            function                      <function asarray_chkfinite at 0x7efe14499620>\n",
      "ascontiguousarray            builtin_function_or_method    <built-in function ascontiguousarray>\n",
      "asfarray                     function                      <function asfarray at 0x7efe14624e00>\n",
      "asfortranarray               builtin_function_or_method    <built-in function asfortranarray>\n",
      "asmatrix                     function                      <function asmatrix at 0x7efe14627560>\n",
      "atleast_1d                   function                      <function atleast_1d at 0x7efe1456ee80>\n",
      "atleast_2d                   function                      <function atleast_2d at 0x7efe1456f060>\n",
      "atleast_3d                   function                      <function atleast_3d at 0x7efe1456f240>\n",
      "autoscale                    function                      <function autoscale at 0x7efdd6b17ce0>\n",
      "autumn                       function                      <function autumn at 0x7efdd6b4e840>\n",
      "average                      function                      <function average at 0x7efe14499580>\n",
      "axes                         function                      <function axes at 0x7efdd6b16160>\n",
      "axhline                      function                      <function axhline at 0x7efdd6b17d80>\n",
      "axhspan                      function                      <function axhspan at 0x7efdd6b17e20>\n",
      "axis                         function                      <function axis at 0x7efdd6b17ec0>\n",
      "axline                       function                      <function axline at 0x7efdd6b17f60>\n",
      "axvline                      function                      <function axvline at 0x7efdd6b4c040>\n",
      "axvspan                      function                      <function axvspan at 0x7efdd6b4c0e0>\n",
      "bar                          function                      <function bar at 0x7efdd6b4c180>\n",
      "bar_label                    function                      <function bar_label at 0x7efdd6b4c360>\n",
      "barbs                        function                      <function barbs at 0x7efdd6b4c220>\n",
      "barh                         function                      <function barh at 0x7efdd6b4c2c0>\n",
      "bartlett                     function                      <function bartlett at 0x7efe1449b920>\n",
      "base_repr                    function                      <function base_repr at 0x7efe1c68a340>\n",
      "beta                         builtin_function_or_method    <built-in method beta of <...>object at 0x7efe14371d40>\n",
      "binary_repr                  function                      <function binary_repr at 0x7efe1c68a2a0>\n",
      "bincount                     function                      <function bincount at 0x7efe1c5f3740>\n",
      "binomial                     builtin_function_or_method    <built-in method binomial<...>object at 0x7efe14371d40>\n",
      "bitwise_and                  ufunc                         <ufunc 'bitwise_and'>\n",
      "bitwise_not                  ufunc                         <ufunc 'invert'>\n",
      "bitwise_or                   ufunc                         <ufunc 'bitwise_or'>\n",
      "bitwise_xor                  ufunc                         <ufunc 'bitwise_xor'>\n",
      "blackman                     function                      <function blackman at 0x7efe1449b880>\n",
      "block                        function                      <function block at 0x7efe1456fe20>\n",
      "bmat                         function                      <function bmat at 0x7efe14476980>\n",
      "bone                         function                      <function bone at 0x7efdd6b4e8e0>\n",
      "bool_                        type                          <class 'numpy.bool_'>\n",
      "box                          function                      <function box at 0x7efdd6b16840>\n",
      "boxplot                      function                      <function boxplot at 0x7efdd6b4c400>\n",
      "broadcast                    type                          <class 'numpy.broadcast'>\n",
      "broadcast_arrays             function                      <function broadcast_arrays at 0x7efe14460c20>\n",
      "broadcast_shapes             function                      <function broadcast_shapes at 0x7efe14460a40>\n",
      "broadcast_to                 function                      <function broadcast_to at 0x7efe14460900>\n",
      "broken_barh                  function                      <function broken_barh at 0x7efdd6b4c4a0>\n",
      "busday_count                 function                      <function busday_count at 0x7efe1c660540>\n",
      "busday_offset                function                      <function busday_offset at 0x7efe1c660400>\n",
      "busdaycalendar               type                          <class 'numpy.busdaycalendar'>\n",
      "byte                         type                          <class 'numpy.int8'>\n",
      "byte_bounds                  function                      <function byte_bounds at 0x7efe144d60c0>\n",
      "bytes                        type                          <class 'bytes'>\n",
      "bytes_                       type                          <class 'numpy.bytes_'>\n",
      "c_                           CClass                        <numpy.lib.index_tricks.C<...>object at 0x7efe144a8dd0>\n",
      "can_cast                     function                      <function can_cast at 0x7efe1c5f3100>\n",
      "cast                         _typedict                     {<class 'numpy.complex64'<...>mbda> at 0x7efe1c662fc0>}\n",
      "cbook                        module                        <module 'matplotlib.cbook<...>otlib/cbook/__init__.py'>\n",
      "cbrt                         ufunc                         <ufunc 'cbrt'>\n",
      "cdouble                      type                          <class 'numpy.complex128'>\n",
      "ceil                         ufunc                         <ufunc 'ceil'>\n",
      "cfloat                       type                          <class 'numpy.complex128'>\n",
      "char                         module                        <module 'numpy.core.defch<...>py/core/defchararray.py'>\n",
      "character                    type                          <class 'numpy.character'>\n",
      "chararray                    type                          <class 'numpy.chararray'>\n",
      "chisquare                    builtin_function_or_method    <built-in method chisquar<...>object at 0x7efe14371d40>\n",
      "choice                       builtin_function_or_method    <built-in method choice o<...>object at 0x7efe14371d40>\n",
      "cholesky                     function                      <function cholesky at 0x7efe14463b00>\n",
      "choose                       function                      <function choose at 0x7efe1455e5c0>\n",
      "cla                          function                      <function cla at 0x7efdd6b16340>\n",
      "clabel                       function                      <function clabel at 0x7efdd6b4c540>\n",
      "clf                          function                      <function clf at 0x7efdd6b15ee0>\n",
      "clim                         function                      <function clim at 0x7efdd6b17060>\n",
      "clip                         function                      <function clip at 0x7efe1456cb80>\n",
      "clongdouble                  type                          <class 'numpy.complex256'>\n",
      "clongfloat                   type                          <class 'numpy.complex256'>\n",
      "close                        function                      <function close at 0x7efdd6b15e40>\n",
      "cm                           module                        <module 'matplotlib.cm' f<...>ckages/matplotlib/cm.py'>\n",
      "cohere                       function                      <function cohere at 0x7efdd6b4c5e0>\n",
      "color_sequences              ColorSequenceRegistry         ColorSequenceRegistry; av<...>', 'Set1', 'Set2', 'Set3'\n",
      "colorbar                     function                      <function colorbar at 0x7efdd6b16de0>\n",
      "colormaps                    ColormapRegistry              ColormapRegistry; availab<...>', 'tab20b_r', 'tab20c_r'\n",
      "column_stack                 function                      <function column_stack at 0x7efe144b2200>\n",
      "common_type                  function                      <function common_type at 0x7efe14625ee0>\n",
      "compare_chararrays           builtin_function_or_method    <built-in function compare_chararrays>\n",
      "complex128                   type                          <class 'numpy.complex128'>\n",
      "complex256                   type                          <class 'numpy.complex256'>\n",
      "complex64                    type                          <class 'numpy.complex64'>\n",
      "complex_                     type                          <class 'numpy.complex128'>\n",
      "complexfloating              type                          <class 'numpy.complexfloating'>\n",
      "compress                     function                      <function compress at 0x7efe1456c9a0>\n",
      "concatenate                  function                      <function concatenate at 0x7efe1c5f2c00>\n",
      "cond                         function                      <function cond at 0x7efe14474720>\n",
      "conj                         ufunc                         <ufunc 'conjugate'>\n",
      "conjugate                    ufunc                         <ufunc 'conjugate'>\n",
      "connect                      function                      <function connect at 0x7efdd6b15d00>\n",
      "contour                      function                      <function contour at 0x7efdd6b4c680>\n",
      "contourf                     function                      <function contourf at 0x7efdd6b4c720>\n",
      "convolve                     function                      <function convolve at 0x7efe1c689260>\n",
      "cool                         function                      <function cool at 0x7efdd6b4e980>\n",
      "copper                       function                      <function copper at 0x7efdd6b4ea20>\n",
      "copy                         function                      <function copy at 0x7efe14499bc0>\n",
      "copysign                     ufunc                         <ufunc 'copysign'>\n",
      "copyto                       function                      <function copyto at 0x7efe1c5f3b00>\n",
      "corrcoef                     function                      <function corrcoef at 0x7efe1449b7e0>\n",
      "correlate                    function                      <function correlate at 0x7efe1c689080>\n",
      "cos                          ufunc                         <ufunc 'cos'>\n",
      "cosh                         ufunc                         <ufunc 'cosh'>\n",
      "count_nonzero                function                      <function count_nonzero at 0x7efe1c688a40>\n",
      "cov                          function                      <function cov at 0x7efe1449b600>\n",
      "cross                        function                      <function cross at 0x7efe1c689e40>\n",
      "csd                          function                      <function csd at 0x7efdd6b4c7c0>\n",
      "csingle                      type                          <class 'numpy.complex64'>\n",
      "ctypeslib                    module                        <module 'numpy.ctypeslib'<...>ages/numpy/ctypeslib.py'>\n",
      "cumprod                      function                      <function cumprod at 0x7efe1456dc60>\n",
      "cumproduct                   function                      <function cumproduct at 0x7efe1456eb60>\n",
      "cumsum                       function                      <function cumsum at 0x7efe1456d300>\n",
      "cycler                       function                      <function cycler at 0x7efdd7449300>\n",
      "date2num                     function                      <function date2num at 0x7efdd6d3a8e0>\n",
      "datestr2num                  function                      <function datestr2num at 0x7efdd6d3a840>\n",
      "datetime                     module                        <module 'datetime' from '<...>/python3.11/datetime.py'>\n",
      "datetime64                   type                          <class 'numpy.datetime64'>\n",
      "datetime_as_string           function                      <function datetime_as_string at 0x7efe1c660680>\n",
      "datetime_data                builtin_function_or_method    <built-in function datetime_data>\n",
      "default_rng                  builtin_function_or_method    <built-in function default_rng>\n",
      "deg2rad                      ufunc                         <ufunc 'deg2rad'>\n",
      "degrees                      ufunc                         <ufunc 'degrees'>\n",
      "delaxes                      function                      <function delaxes at 0x7efdd6b16200>\n",
      "delete                       function                      <function delete at 0x7efe144a1760>\n",
      "deprecate                    function                      <function deprecate at 0x7efe144d5f80>\n",
      "deprecate_with_doc           function                      <function deprecate_with_doc at 0x7efe144d6020>\n",
      "det                          function                      <function det at 0x7efe14474d60>\n",
      "detrend                      function                      <function detrend at 0x7efdd6d72ac0>\n",
      "detrend_linear               function                      <function detrend_linear at 0x7efdd6d72ca0>\n",
      "detrend_mean                 function                      <function detrend_mean at 0x7efdd6d72b60>\n",
      "detrend_none                 function                      <function detrend_none at 0x7efdd6d72c00>\n",
      "diag                         function                      <function diag at 0x7efe14461260>\n",
      "diag_indices                 function                      <function diag_indices at 0x7efe144a2ca0>\n",
      "diag_indices_from            function                      <function diag_indices_from at 0x7efe144a2e80>\n",
      "diagflat                     function                      <function diagflat at 0x7efe144613a0>\n",
      "diagonal                     function                      <function diagonal at 0x7efe1456c040>\n",
      "diff                         function                      <function diff at 0x7efe14499f80>\n",
      "digitize                     function                      <function digitize at 0x7efe144a1d00>\n",
      "dirichlet                    builtin_function_or_method    <built-in method dirichle<...>object at 0x7efe14371d40>\n",
      "disconnect                   function                      <function disconnect at 0x7efdd6b15da0>\n",
      "disp                         function                      <function disp at 0x7efe1449ac00>\n",
      "divide                       ufunc                         <ufunc 'divide'>\n",
      "divmod                       ufunc                         <ufunc 'divmod'>\n",
      "dot                          function                      <function dot at 0x7efe1c5f34c0>\n",
      "double                       type                          <class 'numpy.float64'>\n",
      "drange                       function                      <function drange at 0x7efdd6d3af20>\n",
      "draw                         function                      <function draw at 0x7efdd6b15f80>\n",
      "draw_all                     method                        <bound method Gcf.draw_al<...>lib._pylab_helpers.Gcf'>>\n",
      "draw_if_interactive          function                      <function flag_calls.<loc<...>rapper at 0x7efdd6ae2e80>\n",
      "dsplit                       function                      <function dsplit at 0x7efe144b2d40>\n",
      "dstack                       function                      <function dstack at 0x7efe144b23e0>\n",
      "dtype                        _DTypeMeta                    <class 'numpy.dtype'>\n",
      "e                            float                         2.718281828459045\n",
      "ediff1d                      function                      <function ediff1d at 0x7efe144d6de0>\n",
      "eig                          function                      <function eig at 0x7efe14474220>\n",
      "eigh                         function                      <function eigh at 0x7efe14474360>\n",
      "eigvals                      function                      <function eigvals at 0x7efe14463e20>\n",
      "eigvalsh                     function                      <function eigvalsh at 0x7efe14474040>\n",
      "einsum                       function                      <function einsum at 0x7efe145ed620>\n",
      "einsum_path                  function                      <function einsum_path at 0x7efe145ed440>\n",
      "emath                        module                        <module 'numpy.lib.scimat<...>es/numpy/lib/scimath.py'>\n",
      "empty                        builtin_function_or_method    <built-in function empty>\n",
      "empty_like                   function                      <function empty_like at 0x7efe1c5f2ac0>\n",
      "equal                        ufunc                         <ufunc 'equal'>\n",
      "errorbar                     function                      <function errorbar at 0x7efdd6b4c860>\n",
      "errstate                     type                          <class 'numpy.errstate'>\n",
      "euler_gamma                  float                         0.5772156649015329\n",
      "eventplot                    function                      <function eventplot at 0x7efdd6b4c900>\n",
      "exp                          ufunc                         <ufunc 'exp'>\n",
      "exp2                         ufunc                         <ufunc 'exp2'>\n",
      "expand_dims                  function                      <function expand_dims at 0x7efe144b2020>\n",
      "expm1                        ufunc                         <ufunc 'expm1'>\n",
      "exponential                  builtin_function_or_method    <built-in method exponent<...>object at 0x7efe14371d40>\n",
      "extract                      function                      <function extract at 0x7efe1449ab60>\n",
      "eye                          function                      <function eye at 0x7efe14460fe0>\n",
      "f                            builtin_function_or_method    <built-in method f of num<...>object at 0x7efe14371d40>\n",
      "fabs                         ufunc                         <ufunc 'fabs'>\n",
      "fastCopyAndTranspose         builtin_function_or_method    <built-in function fastCopyAndTranspose>\n",
      "fft                          function                      <function fft at 0x7efe14517240>\n",
      "fft2                         function                      <function fft2 at 0x7efe14517e20>\n",
      "fftfreq                      function                      <function fftfreq at 0x7efe14524860>\n",
      "fftn                         function                      <function fftn at 0x7efe14517ba0>\n",
      "fftshift                     function                      <function fftshift at 0x7efe14524680>\n",
      "figaspect                    function                      <function figaspect at 0x7efdd6ac22a0>\n",
      "figimage                     function                      <function figimage at 0x7efdd6b174c0>\n",
      "figlegend                    function                      <function figlegend at 0x7efdd6b160c0>\n",
      "fignum_exists                function                      <function fignum_exists at 0x7efdd6b15620>\n",
      "figtext                      function                      <function figtext at 0x7efdd6b17560>\n",
      "figure                       function                      <function figure at 0x7efdd6b154e0>\n",
      "fill                         function                      <function fill at 0x7efdd6b4c9a0>\n",
      "fill_between                 function                      <function fill_between at 0x7efdd6b4ca40>\n",
      "fill_betweenx                function                      <function fill_betweenx at 0x7efdd6b4cae0>\n",
      "fill_diagonal                function                      <function fill_diagonal at 0x7efe144a2c00>\n",
      "find_common_type             function                      <function find_common_type at 0x7efe1c663380>\n",
      "findobj                      function                      <function findobj at 0x7efdd6b14720>\n",
      "finfo                        type                          <class 'numpy.finfo'>\n",
      "fix                          function                      <function fix at 0x7efe14624900>\n",
      "flag                         function                      <function flag at 0x7efdd6b4eac0>\n",
      "flatiter                     type                          <class 'numpy.flatiter'>\n",
      "flatnonzero                  function                      <function flatnonzero at 0x7efe1c688ea0>\n",
      "flatten                      function                      <function flatten at 0x7efe1441f6a0>\n",
      "flexible                     type                          <class 'numpy.flexible'>\n",
      "flip                         function                      <function flip at 0x7efe14499300>\n",
      "fliplr                       function                      <function fliplr at 0x7efe14460d60>\n",
      "flipud                       function                      <function flipud at 0x7efe14460ea0>\n",
      "float128                     type                          <class 'numpy.float128'>\n",
      "float16                      type                          <class 'numpy.float16'>\n",
      "float32                      type                          <class 'numpy.float32'>\n",
      "float64                      type                          <class 'numpy.float64'>\n",
      "float_                       type                          <class 'numpy.float64'>\n",
      "float_power                  ufunc                         <ufunc 'float_power'>\n",
      "floating                     type                          <class 'numpy.floating'>\n",
      "floor                        ufunc                         <ufunc 'floor'>\n",
      "floor_divide                 ufunc                         <ufunc 'floor_divide'>\n",
      "fmax                         ufunc                         <ufunc 'fmax'>\n",
      "fmin                         ufunc                         <ufunc 'fmin'>\n",
      "fmod                         ufunc                         <ufunc 'fmod'>\n",
      "format_float_positional      function                      <function format_float_po<...>tional at 0x7efe145a0680>\n",
      "format_float_scientific      function                      <function format_float_sc<...>ntific at 0x7efe145a05e0>\n",
      "format_parser                type                          <class 'numpy.format_parser'>\n",
      "frexp                        ufunc                         <ufunc 'frexp'>\n",
      "from_dlpack                  builtin_function_or_method    <built-in function from_dlpack>\n",
      "frombuffer                   builtin_function_or_method    <built-in function frombuffer>\n",
      "fromfile                     builtin_function_or_method    <built-in function fromfile>\n",
      "fromfunction                 function                      <function fromfunction at 0x7efe1c68a020>\n",
      "fromiter                     builtin_function_or_method    <built-in function fromiter>\n",
      "frompyfunc                   builtin_function_or_method    <built-in function frompyfunc>\n",
      "fromregex                    function                      <function fromregex at 0x7efe14515080>\n",
      "fromstring                   builtin_function_or_method    <built-in function fromstring>\n",
      "full                         function                      <function full at 0x7efe1c6885e0>\n",
      "full_like                    function                      <function full_like at 0x7efe1c688860>\n",
      "functools                    module                        <module 'functools' from <...>python3.11/functools.py'>\n",
      "gamma                        builtin_function_or_method    <built-in method gamma of<...>object at 0x7efe14371d40>\n",
      "gca                          function                      <function gca at 0x7efdd6b17600>\n",
      "gcd                          ufunc                         <ufunc 'gcd'>\n",
      "gcf                          function                      <function gcf at 0x7efdd6b153a0>\n",
      "gci                          function                      <function gci at 0x7efdd6b176a0>\n",
      "generic                      type                          <class 'numpy.generic'>\n",
      "genfromtxt                   function                      <function genfromtxt at 0x7efe145151c0>\n",
      "geometric                    builtin_function_or_method    <built-in method geometri<...>object at 0x7efe14371d40>\n",
      "geomspace                    function                      <function geomspace at 0x7efe145db4c0>\n",
      "get                          function                      <function get at 0x7efdd6b15120>\n",
      "get_array_wrap               function                      <function get_array_wrap at 0x7efe144b2de0>\n",
      "get_backend                  function                      <function get_backend at 0x7efdd7487560>\n",
      "get_cmap                     function                      <function get_cmap at 0x7efdd6b17100>\n",
      "get_current_fig_manager      function                      <function get_current_fig<...>anager at 0x7efdd6b159e0>\n",
      "get_figlabels                function                      <function get_figlabels at 0x7efdd6b15940>\n",
      "get_fignums                  function                      <function get_fignums at 0x7efdd6b15580>\n",
      "get_include                  function                      <function get_include at 0x7efe144d5d00>\n",
      "get_plot_commands            function                      <function get_plot_commands at 0x7efdd6b16f20>\n",
      "get_printoptions             function                      <function get_printoptions at 0x7efe1c68b6a0>\n",
      "get_scale_names              function                      <function get_scale_names at 0x7efdd777a480>\n",
      "get_state                    builtin_function_or_method    <built-in method get_stat<...>object at 0x7efe14371d40>\n",
      "getbufsize                   function                      <function getbufsize at 0x7efe1455d080>\n",
      "geterr                       function                      <function geterr at 0x7efe1455cf40>\n",
      "geterrcall                   function                      <function geterrcall at 0x7efe1455d1c0>\n",
      "geterrobj                    builtin_function_or_method    <built-in function geterrobj>\n",
      "getp                         function                      <function getp at 0x7efdd6b15080>\n",
      "ginput                       function                      <function ginput at 0x7efdd6b17740>\n",
      "gradient                     function                      <function gradient at 0x7efe14499da0>\n",
      "gray                         function                      <function gray at 0x7efdd6b4eb60>\n",
      "greater                      ufunc                         <ufunc 'greater'>\n",
      "greater_equal                ufunc                         <ufunc 'greater_equal'>\n",
      "grid                         function                      <function grid at 0x7efdd6b4cb80>\n",
      "gumbel                       builtin_function_or_method    <built-in method gumbel o<...>object at 0x7efe14371d40>\n",
      "half                         type                          <class 'numpy.float16'>\n",
      "hamming                      function                      <function hamming at 0x7efe1449ba60>\n",
      "hanning                      function                      <function hanning at 0x7efe1449b9c0>\n",
      "heaviside                    ufunc                         <ufunc 'heaviside'>\n",
      "hexbin                       function                      <function hexbin at 0x7efdd6b4cc20>\n",
      "hfft                         function                      <function hfft at 0x7efe14517740>\n",
      "hist                         function                      <function hist at 0x7efdd6b4ccc0>\n",
      "hist2d                       function                      <function hist2d at 0x7efdd6b4ce00>\n",
      "histogram                    function                      <function histogram at 0x7efe14477e20>\n",
      "histogram2d                  function                      <function histogram2d at 0x7efe14461c60>\n",
      "histogram_bin_edges          function                      <function histogram_bin_edges at 0x7efe14477c40>\n",
      "histogramdd                  function                      <function histogramdd at 0x7efe14498040>\n",
      "hlines                       function                      <function hlines at 0x7efdd6b4cea0>\n",
      "hot                          function                      <function hot at 0x7efdd6b4ec00>\n",
      "hsplit                       function                      <function hsplit at 0x7efe144b2ac0>\n",
      "hstack                       function                      <function hstack at 0x7efe1456f600>\n",
      "hsv                          function                      <function hsv at 0x7efdd6b4eca0>\n",
      "hypergeometric               builtin_function_or_method    <built-in method hypergeo<...>object at 0x7efe14371d40>\n",
      "hypot                        ufunc                         <ufunc 'hypot'>\n",
      "i0                           function                      <function i0 at 0x7efe1449be20>\n",
      "identity                     function                      <function identity at 0x7efe1c68a520>\n",
      "ifft                         function                      <function ifft at 0x7efe14517380>\n",
      "ifft2                        function                      <function ifft2 at 0x7efe14517f60>\n",
      "ifftn                        function                      <function ifftn at 0x7efe14517ce0>\n",
      "ifftshift                    function                      <function ifftshift at 0x7efe145247c0>\n",
      "ihfft                        function                      <function ihfft at 0x7efe14517880>\n",
      "iinfo                        type                          <class 'numpy.iinfo'>\n",
      "imag                         function                      <function imag at 0x7efe146251c0>\n",
      "importlib                    module                        <module 'importlib' from <...>1/importlib/__init__.py'>\n",
      "imread                       function                      <function imread at 0x7efdd6b17240>\n",
      "imsave                       function                      <function imsave at 0x7efdd6b172e0>\n",
      "imshow                       function                      <function imshow at 0x7efdd6b4cf40>\n",
      "in1d                         function                      <function in1d at 0x7efe144d76a0>\n",
      "index_exp                    IndexExpression               <numpy.lib.index_tricks.I<...>object at 0x7efe144a9050>\n",
      "indices                      function                      <function indices at 0x7efe1c689ee0>\n",
      "inexact                      type                          <class 'numpy.inexact'>\n",
      "inf                          float                         inf\n",
      "inferno                      function                      <function inferno at 0x7efdd6b4f1a0>\n",
      "info                         function                      <function info at 0x7efe144d6480>\n",
      "infty                        float                         inf\n",
      "inner                        function                      <function inner at 0x7efe1c5f2d40>\n",
      "insert                       function                      <function insert at 0x7efe144a1940>\n",
      "inspect                      module                        <module 'inspect' from '/<...>b/python3.11/inspect.py'>\n",
      "install_repl_displayhook     function                      <function install_repl_di<...>ayhook at 0x7efdd6ae3740>\n",
      "int16                        type                          <class 'numpy.int16'>\n",
      "int32                        type                          <class 'numpy.int32'>\n",
      "int64                        type                          <class 'numpy.int64'>\n",
      "int8                         type                          <class 'numpy.int8'>\n",
      "int_                         type                          <class 'numpy.int64'>\n",
      "intc                         type                          <class 'numpy.int32'>\n",
      "integer                      type                          <class 'numpy.integer'>\n",
      "interactive                  function                      <function interactive at 0x7efdd74876a0>\n",
      "interp                       function                      <function interp at 0x7efe1449a160>\n",
      "intersect1d                  function                      <function intersect1d at 0x7efe144d72e0>\n",
      "intp                         type                          <class 'numpy.int64'>\n",
      "inv                          function                      <function inv at 0x7efe144637e0>\n",
      "invert                       ufunc                         <ufunc 'invert'>\n",
      "ioff                         function                      <function ioff at 0x7efdd6b14cc0>\n",
      "ion                          function                      <function ion at 0x7efdd6b14d60>\n",
      "irfft                        function                      <function irfft at 0x7efe14517600>\n",
      "irfft2                       function                      <function irfft2 at 0x7efe145244a0>\n",
      "irfftn                       function                      <function irfftn at 0x7efe14524360>\n",
      "is_busday                    function                      <function is_busday at 0x7efe1c6602c0>\n",
      "isclose                      function                      <function isclose at 0x7efe1c68a980>\n",
      "iscomplex                    function                      <function iscomplex at 0x7efe146253a0>\n",
      "iscomplexobj                 function                      <function iscomplexobj at 0x7efe14625620>\n",
      "isfinite                     ufunc                         <ufunc 'isfinite'>\n",
      "isfortran                    function                      <function isfortran at 0x7efe1c688ae0>\n",
      "isin                         function                      <function isin at 0x7efe144d7880>\n",
      "isinf                        ufunc                         <ufunc 'isinf'>\n",
      "isinteractive                function                      <function isinteractive at 0x7efdd6b14c20>\n",
      "isnan                        ufunc                         <ufunc 'isnan'>\n",
      "isnat                        ufunc                         <ufunc 'isnat'>\n",
      "isneginf                     function                      <function isneginf at 0x7efe14624cc0>\n",
      "isposinf                     function                      <function isposinf at 0x7efe14624ae0>\n",
      "isreal                       function                      <function isreal at 0x7efe146254e0>\n",
      "isrealobj                    function                      <function isrealobj at 0x7efe14625760>\n",
      "isscalar                     function                      <function isscalar at 0x7efe1c68a200>\n",
      "issctype                     function                      <function issctype at 0x7efe1c661d00>\n",
      "issubclass_                  function                      <function issubclass_ at 0x7efe1c661e40>\n",
      "issubdtype                   function                      <function issubdtype at 0x7efe1c661f80>\n",
      "issubsctype                  function                      <function issubsctype at 0x7efe1c661ee0>\n",
      "iterable                     function                      <function iterable at 0x7efe144993a0>\n",
      "ix_                          function                      <function ix_ at 0x7efe144a1da0>\n",
      "jet                          function                      <function jet at 0x7efdd6b4ed40>\n",
      "kaiser                       function                      <function kaiser at 0x7efe1449bec0>\n",
      "kron                         function                      <function kron at 0x7efe144b3060>\n",
      "laplace                      builtin_function_or_method    <built-in method laplace <...>object at 0x7efe14371d40>\n",
      "lcm                          ufunc                         <ufunc 'lcm'>\n",
      "ldexp                        ufunc                         <ufunc 'ldexp'>\n",
      "left_shift                   ufunc                         <ufunc 'left_shift'>\n",
      "legend                       function                      <function legend at 0x7efdd6b4cfe0>\n",
      "less                         ufunc                         <ufunc 'less'>\n",
      "less_equal                   ufunc                         <ufunc 'less_equal'>\n",
      "lexsort                      function                      <function lexsort at 0x7efe1c5f2fc0>\n",
      "linalg                       module                        <module 'numpy.linalg' fr<...>umpy/linalg/__init__.py'>\n",
      "linspace                     function                      <function linspace at 0x7efe145db100>\n",
      "little_endian                bool                          True\n",
      "load                         function                      <function load at 0x7efe14514220>\n",
      "loadtxt                      function                      <function loadtxt at 0x7efe14514cc0>\n",
      "locator_params               function                      <function locator_params at 0x7efdd6b4d080>\n",
      "log                          ufunc                         <ufunc 'log'>\n",
      "log10                        ufunc                         <ufunc 'log10'>\n",
      "log1p                        ufunc                         <ufunc 'log1p'>\n",
      "log2                         ufunc                         <ufunc 'log2'>\n",
      "logaddexp                    ufunc                         <ufunc 'logaddexp'>\n",
      "logaddexp2                   ufunc                         <ufunc 'logaddexp2'>\n",
      "logging                      module                        <module 'logging' from '/<...>.11/logging/__init__.py'>\n",
      "logical_and                  ufunc                         <ufunc 'logical_and'>\n",
      "logical_not                  ufunc                         <ufunc 'logical_not'>\n",
      "logical_or                   ufunc                         <ufunc 'logical_or'>\n",
      "logical_xor                  ufunc                         <ufunc 'logical_xor'>\n",
      "logistic                     builtin_function_or_method    <built-in method logistic<...>object at 0x7efe14371d40>\n",
      "loglog                       function                      <function loglog at 0x7efdd6b4d120>\n",
      "lognormal                    builtin_function_or_method    <built-in method lognorma<...>object at 0x7efe14371d40>\n",
      "logseries                    builtin_function_or_method    <built-in method logserie<...>object at 0x7efe14371d40>\n",
      "logspace                     function                      <function logspace at 0x7efe145db2e0>\n",
      "longcomplex                  type                          <class 'numpy.complex256'>\n",
      "longdouble                   type                          <class 'numpy.float128'>\n",
      "longfloat                    type                          <class 'numpy.float128'>\n",
      "longlong                     type                          <class 'numpy.longlong'>\n",
      "lookfor                      function                      <function lookfor at 0x7efe144d65c0>\n",
      "lstsq                        function                      <function lstsq at 0x7efe14474f40>\n",
      "ma                           module                        <module 'numpy.ma' from '<...>es/numpy/ma/__init__.py'>\n",
      "magma                        function                      <function magma at 0x7efdd6b4f100>\n",
      "magnitude_spectrum           function                      <function magnitude_spectrum at 0x7efdd6b4d1c0>\n",
      "margins                      function                      <function margins at 0x7efdd6b4d260>\n",
      "mask_indices                 function                      <function mask_indices at 0x7efe14461d00>\n",
      "mat                          function                      <function asmatrix at 0x7efe14627560>\n",
      "math                         module                        <module 'math' from '/opt<...>311-x86_64-linux-gnu.so'>\n",
      "matmul                       ufunc                         <ufunc 'matmul'>\n",
      "matplotlib                   module                        <module 'matplotlib' from<...>/matplotlib/__init__.py'>\n",
      "matrix                       type                          <class 'numpy.matrix'>\n",
      "matrix_power                 function                      <function matrix_power at 0x7efe144639c0>\n",
      "matrix_rank                  function                      <function matrix_rank at 0x7efe14474900>\n",
      "matshow                      function                      <function matshow at 0x7efdd6b17380>\n",
      "maximum                      ufunc                         <ufunc 'maximum'>\n",
      "maximum_sctype               function                      <function maximum_sctype at 0x7efe1c660ae0>\n",
      "may_share_memory             function                      <function may_share_memory at 0x7efe1c660180>\n",
      "mean                         function                      <function mean at 0x7efe1456e3e0>\n",
      "median                       function                      <function median at 0x7efe144a0540>\n",
      "memmap                       type                          <class 'numpy.memmap'>\n",
      "meshgrid                     function                      <function meshgrid at 0x7efe144a1580>\n",
      "mgrid                        MGridClass                    <numpy.lib.index_tricks.M<...>object at 0x7efe1447a350>\n",
      "min_scalar_type              function                      <function min_scalar_type at 0x7efe1c5f3240>\n",
      "minimum                      ufunc                         <ufunc 'minimum'>\n",
      "minorticks_off               function                      <function minorticks_off at 0x7efdd6b4d300>\n",
      "minorticks_on                function                      <function minorticks_on at 0x7efdd6b4d3a0>\n",
      "mintypecode                  function                      <function mintypecode at 0x7efe146242c0>\n",
      "mlab                         module                        <module 'matplotlib.mlab'<...>ages/matplotlib/mlab.py'>\n",
      "mod                          ufunc                         <ufunc 'remainder'>\n",
      "modf                         ufunc                         <ufunc 'modf'>\n",
      "moveaxis                     function                      <function moveaxis at 0x7efe1c689c60>\n",
      "mpl                          module                        <module 'matplotlib' from<...>/matplotlib/__init__.py'>\n",
      "msort                        function                      <function msort at 0x7efe144a02c0>\n",
      "multi_dot                    function                      <function multi_dot at 0x7efe144753a0>\n",
      "multinomial                  builtin_function_or_method    <built-in method multinom<...>object at 0x7efe14371d40>\n",
      "multiply                     ufunc                         <ufunc 'multiply'>\n",
      "multivariate_normal          builtin_function_or_method    <built-in method multivar<...>object at 0x7efe14371d40>\n",
      "nan                          float                         nan\n",
      "nan_to_num                   function                      <function nan_to_num at 0x7efe14625a80>\n",
      "nanargmax                    function                      <function nanargmax at 0x7efe144a3ba0>\n",
      "nanargmin                    function                      <function nanargmin at 0x7efe144a39c0>\n",
      "nancumprod                   function                      <function nancumprod at 0x7efe144b0360>\n",
      "nancumsum                    function                      <function nancumsum at 0x7efe144b0180>\n",
      "nanmax                       function                      <function nanmax at 0x7efe144a37e0>\n",
      "nanmean                      function                      <function nanmean at 0x7efe144b0540>\n",
      "nanmedian                    function                      <function nanmedian at 0x7efe144b0900>\n",
      "nanmin                       function                      <function nanmin at 0x7efe144a3600>\n",
      "nanpercentile                function                      <function nanpercentile at 0x7efe144b0ae0>\n",
      "nanprod                      function                      <function nanprod at 0x7efe144a3f60>\n",
      "nanquantile                  function                      <function nanquantile at 0x7efe144b0cc0>\n",
      "nanstd                       function                      <function nanstd at 0x7efe144b1260>\n",
      "nansum                       function                      <function nansum at 0x7efe144a3d80>\n",
      "nanvar                       function                      <function nanvar at 0x7efe144b1080>\n",
      "nbytes                       _typedict                     {<class 'numpy.bool_'>: 1<...> 'numpy.timedelta64'>: 8}\n",
      "ndarray                      type                          <class 'numpy.ndarray'>\n",
      "ndenumerate                  type                          <class 'numpy.ndenumerate'>\n",
      "ndim                         function                      <function ndim at 0x7efe1456de40>\n",
      "ndindex                      type                          <class 'numpy.ndindex'>\n",
      "nditer                       type                          <class 'numpy.nditer'>\n",
      "negative                     ufunc                         <ufunc 'negative'>\n",
      "negative_binomial            builtin_function_or_method    <built-in method negative<...>object at 0x7efe14371d40>\n",
      "nested_iters                 builtin_function_or_method    <built-in function nested_iters>\n",
      "new_figure_manager           function                      <function new_figure_manager at 0x7efdd6b14a40>\n",
      "newaxis                      NoneType                      None\n",
      "nextafter                    ufunc                         <ufunc 'nextafter'>\n",
      "nipy_spectral                function                      <function nipy_spectral at 0x7efdd6b4f380>\n",
      "noncentral_chisquare         builtin_function_or_method    <built-in method noncentr<...>object at 0x7efe14371d40>\n",
      "noncentral_f                 builtin_function_or_method    <built-in method noncentr<...>object at 0x7efe14371d40>\n",
      "nonzero                      function                      <function nonzero at 0x7efe1456c5e0>\n",
      "norm                         function                      <function norm at 0x7efe144751c0>\n",
      "normal                       builtin_function_or_method    <built-in method normal o<...>object at 0x7efe14371d40>\n",
      "not_equal                    ufunc                         <ufunc 'not_equal'>\n",
      "np                           module                        <module 'numpy' from '/op<...>kages/numpy/__init__.py'>\n",
      "num2date                     function                      <function num2date at 0x7efdd6d3a980>\n",
      "number                       type                          <class 'numpy.number'>\n",
      "obj2sctype                   function                      <function obj2sctype at 0x7efe1c661da0>\n",
      "object_                      type                          <class 'numpy.object_'>\n",
      "ogrid                        OGridClass                    <numpy.lib.index_tricks.O<...>object at 0x7efe144a8a50>\n",
      "ones                         function                      <function ones at 0x7efe1c688220>\n",
      "ones_like                    function                      <function ones_like at 0x7efe1c6884a0>\n",
      "outer                        function                      <function outer at 0x7efe1c689440>\n",
      "packbits                     function                      <function packbits at 0x7efe1c5f3d80>\n",
      "pad                          function                      <function pad at 0x7efe14516520>\n",
      "pareto                       builtin_function_or_method    <built-in method pareto o<...>object at 0x7efe14371d40>\n",
      "partition                    function                      <function partition at 0x7efe1455ef20>\n",
      "pause                        function                      <function pause at 0x7efdd6b14e00>\n",
      "pcolor                       function                      <function pcolor at 0x7efdd6b4d440>\n",
      "pcolormesh                   function                      <function pcolormesh at 0x7efdd6b4d4e0>\n",
      "percentile                   function                      <function percentile at 0x7efe144a07c0>\n",
      "permutation                  builtin_function_or_method    <built-in method permutat<...>object at 0x7efe14371d40>\n",
      "phase_spectrum               function                      <function phase_spectrum at 0x7efdd6b4d580>\n",
      "pi                           float                         3.141592653589793\n",
      "pie                          function                      <function pie at 0x7efdd6b4d620>\n",
      "piecewise                    function                      <function piecewise at 0x7efe14499800>\n",
      "pink                         function                      <function pink at 0x7efdd6b4ede0>\n",
      "pinv                         function                      <function pinv at 0x7efe14474ae0>\n",
      "place                        function                      <function place at 0x7efe1449ad40>\n",
      "plasma                       function                      <function plasma at 0x7efdd6b4f240>\n",
      "plot                         function                      <function plot at 0x7efdd6b4d6c0>\n",
      "plot_date                    function                      <function plot_date at 0x7efdd6b4d760>\n",
      "plt                          module                        <module 'matplotlib.pyplo<...>es/matplotlib/pyplot.py'>\n",
      "poisson                      builtin_function_or_method    <built-in method poisson <...>object at 0x7efe14371d40>\n",
      "polar                        function                      <function polar at 0x7efdd6b17420>\n",
      "poly                         function                      <function poly at 0x7efe144b36a0>\n",
      "poly1d                       type                          <class 'numpy.poly1d'>\n",
      "polyadd                      function                      <function polyadd at 0x7efe144d4220>\n",
      "polyder                      function                      <function polyder at 0x7efe144b3c40>\n",
      "polydiv                      function                      <function polydiv at 0x7efe144d4680>\n",
      "polyfit                      function                      <function polyfit at 0x7efe144b3e20>\n",
      "polyint                      function                      <function polyint at 0x7efe144b3a60>\n",
      "polymul                      function                      <function polymul at 0x7efe144d44a0>\n",
      "polysub                      function                      <function polysub at 0x7efe144d4360>\n",
      "polyval                      function                      <function polyval at 0x7efe144d4040>\n",
      "positive                     ufunc                         <ufunc 'positive'>\n",
      "power                        builtin_function_or_method    <built-in method power of<...>object at 0x7efe14371d40>\n",
      "printoptions                 function                      <function printoptions at 0x7efe1c68b880>\n",
      "prism                        function                      <function prism at 0x7efdd6b4ee80>\n",
      "prod                         function                      <function prod at 0x7efe1456da80>\n",
      "product                      function                      <function product at 0x7efe1456ea20>\n",
      "promote_types                builtin_function_or_method    <built-in function promote_types>\n",
      "psd                          function                      <function psd at 0x7efdd6b4d800>\n",
      "ptp                          function                      <function ptp at 0x7efe1456d4e0>\n",
      "put                          function                      <function put at 0x7efe1455e980>\n",
      "put_along_axis               function                      <function put_along_axis at 0x7efe144b1a80>\n",
      "putmask                      function                      <function putmask at 0x7efe1c5f3c40>\n",
      "qr                           function                      <function qr at 0x7efe14463ce0>\n",
      "quantile                     function                      <function quantile at 0x7efe144a09a0>\n",
      "quiver                       function                      <function quiver at 0x7efdd6b4d8a0>\n",
      "quiverkey                    function                      <function quiverkey at 0x7efdd6b4d940>\n",
      "r_                           RClass                        <numpy.lib.index_tricks.R<...>object at 0x7efe144a8d10>\n",
      "rad2deg                      ufunc                         <ufunc 'rad2deg'>\n",
      "radians                      ufunc                         <ufunc 'radians'>\n",
      "rand                         builtin_function_or_method    <built-in method rand of <...>object at 0x7efe14371d40>\n",
      "randint                      builtin_function_or_method    <built-in method randint <...>object at 0x7efe14371d40>\n",
      "randn                        builtin_function_or_method    <built-in method randn of<...>object at 0x7efe14371d40>\n",
      "random                       builtin_function_or_method    <built-in method random o<...>object at 0x7efe14371d40>\n",
      "random_integers              builtin_function_or_method    <built-in method random_i<...>object at 0x7efe14371d40>\n",
      "random_sample                builtin_function_or_method    <built-in method random_s<...>object at 0x7efe14371d40>\n",
      "ranf                         builtin_function_or_method    <built-in function ranf>\n",
      "ravel                        function                      <function ravel at 0x7efe1456c400>\n",
      "ravel_multi_index            function                      <function ravel_multi_index at 0x7efe1c5f3880>\n",
      "rayleigh                     builtin_function_or_method    <built-in method rayleigh<...>object at 0x7efe14371d40>\n",
      "rc                           function                      <function rc at 0x7efdd6b14ea0>\n",
      "rcParams                     RcParams                      _internal.classic_mode: F<...>: 0.6\\nytick.right: False\n",
      "rcParamsDefault              RcParams                      _internal.classic_mode: F<...>: 0.6\\nytick.right: False\n",
      "rcParamsOrig                 RcParams                      _internal.classic_mode: F<...>: 0.6\\nytick.right: False\n",
      "rc_context                   function                      <function rc_context at 0x7efdd6b14f40>\n",
      "rcdefaults                   function                      <function rcdefaults at 0x7efdd6b14fe0>\n",
      "rcsetup                      module                        <module 'matplotlib.rcset<...>s/matplotlib/rcsetup.py'>\n",
      "re                           module                        <module 're' from '/opt/m<...>thon3.11/re/__init__.py'>\n",
      "real                         function                      <function real at 0x7efe14624fe0>\n",
      "real_if_close                function                      <function real_if_close at 0x7efe14625c60>\n",
      "rec                          module                        <module 'numpy.core.recor<...>s/numpy/core/records.py'>\n",
      "recarray                     type                          <class 'numpy.recarray'>\n",
      "recfromcsv                   function                      <function recfromcsv at 0x7efe14515300>\n",
      "recfromtxt                   function                      <function recfromtxt at 0x7efe14515120>\n",
      "reciprocal                   ufunc                         <ufunc 'reciprocal'>\n",
      "record                       type                          <class 'numpy.record'>\n",
      "register_cmap                function                      <function register_cmap at 0x7efdd722c540>\n",
      "relativedelta                type                          <class 'dateutil.relativedelta.relativedelta'>\n",
      "remainder                    ufunc                         <ufunc 'remainder'>\n",
      "repeat                       function                      <function repeat at 0x7efe1455e7a0>\n",
      "require                      function                      <function require at 0x7efe145a1d00>\n",
      "reshape                      function                      <function reshape at 0x7efe1455e3e0>\n",
      "resize                       function                      <function resize at 0x7efe1455fc40>\n",
      "result_type                  function                      <function result_type at 0x7efe1c5f3380>\n",
      "rfft                         function                      <function rfft at 0x7efe145174c0>\n",
      "rfft2                        function                      <function rfft2 at 0x7efe14524220>\n",
      "rfftfreq                     function                      <function rfftfreq at 0x7efe14524900>\n",
      "rfftn                        function                      <function rfftn at 0x7efe145240e0>\n",
      "rgrids                       function                      <function rgrids at 0x7efdd6b16b60>\n",
      "right_shift                  ufunc                         <ufunc 'right_shift'>\n",
      "rint                         ufunc                         <ufunc 'rint'>\n",
      "roll                         function                      <function roll at 0x7efe1c689800>\n",
      "rollaxis                     function                      <function rollaxis at 0x7efe1c6899e0>\n",
      "roots                        function                      <function roots at 0x7efe144b3880>\n",
      "rot90                        function                      <function rot90 at 0x7efe14499120>\n",
      "round_                       function                      <function round_ at 0x7efe1456e8e0>\n",
      "row_stack                    function                      <function vstack at 0x7efe1456f4c0>\n",
      "rrule                        type                          <class 'dateutil.rrule.rrule'>\n",
      "s_                           IndexExpression               <numpy.lib.index_tricks.I<...>object at 0x7efe144a9090>\n",
      "safe_eval                    function                      <function safe_eval at 0x7efe144d6700>\n",
      "sample                       builtin_function_or_method    <built-in function sample>\n",
      "save                         function                      <function save at 0x7efe14514400>\n",
      "savefig                      function                      <function savefig at 0x7efdd6b16020>\n",
      "savetxt                      function                      <function savetxt at 0x7efe14514fe0>\n",
      "savez                        function                      <function savez at 0x7efe145145e0>\n",
      "savez_compressed             function                      <function savez_compressed at 0x7efe145147c0>\n",
      "sca                          function                      <function sca at 0x7efdd6b162a0>\n",
      "scatter                      function                      <function scatter at 0x7efdd6b4d9e0>\n",
      "sci                          function                      <function sci at 0x7efdd6b4e480>\n",
      "sctype2char                  function                      <function sctype2char at 0x7efe1c662200>\n",
      "sctypeDict                   dict                          n=136\n",
      "sctypes                      dict                          n=5\n",
      "searchsorted                 function                      <function searchsorted at 0x7efe1455fa60>\n",
      "seed                         builtin_function_or_method    <built-in function seed>\n",
      "select                       function                      <function select at 0x7efe144999e0>\n",
      "semilogx                     function                      <function semilogx at 0x7efdd6b4da80>\n",
      "semilogy                     function                      <function semilogy at 0x7efdd6b4db20>\n",
      "set_cmap                     function                      <function set_cmap at 0x7efdd6b171a0>\n",
      "set_loglevel                 function                      <function set_loglevel at 0x7efdd6b145e0>\n",
      "set_numeric_ops              builtin_function_or_method    <built-in function set_numeric_ops>\n",
      "set_printoptions             function                      <function set_printoptions at 0x7efe1c68b600>\n",
      "set_state                    builtin_function_or_method    <built-in method set_stat<...>object at 0x7efe14371d40>\n",
      "set_string_function          function                      <function set_string_function at 0x7efe145a1940>\n",
      "setbufsize                   function                      <function setbufsize at 0x7efe1455cfe0>\n",
      "setdiff1d                    function                      <function setdiff1d at 0x7efe144d7c40>\n",
      "seterr                       function                      <function seterr at 0x7efe1455cea0>\n",
      "seterrcall                   function                      <function seterrcall at 0x7efe1455d120>\n",
      "seterrobj                    builtin_function_or_method    <built-in function seterrobj>\n",
      "setp                         function                      <function setp at 0x7efdd6b151c0>\n",
      "setxor1d                     function                      <function setxor1d at 0x7efe144d74c0>\n",
      "shape                        function                      <function shape at 0x7efe1456c7c0>\n",
      "shares_memory                function                      <function shares_memory at 0x7efe1c660040>\n",
      "short                        type                          <class 'numpy.int16'>\n",
      "show                         function                      <function show at 0x7efdd6b14b80>\n",
      "show_config                  function                      <function show at 0x7efe1df86fc0>\n",
      "show_runtime                 function                      <function show_runtime at 0x7efe144d5c60>\n",
      "shuffle                      builtin_function_or_method    <built-in method shuffle <...>object at 0x7efe14371d40>\n",
      "sign                         ufunc                         <ufunc 'sign'>\n",
      "signbit                      ufunc                         <ufunc 'signbit'>\n",
      "signedinteger                type                          <class 'numpy.signedinteger'>\n",
      "silent_list                  type                          <class 'matplotlib.cbook.silent_list'>\n",
      "sin                          ufunc                         <ufunc 'sin'>\n",
      "sinc                         function                      <function sinc at 0x7efe144a00e0>\n",
      "single                       type                          <class 'numpy.float32'>\n",
      "singlecomplex                type                          <class 'numpy.complex64'>\n",
      "sinh                         ufunc                         <ufunc 'sinh'>\n",
      "size                         function                      <function size at 0x7efe1456e020>\n",
      "slogdet                      function                      <function slogdet at 0x7efe14474c20>\n",
      "solve                        function                      <function solve at 0x7efe14463420>\n",
      "sometrue                     function                      <function sometrue at 0x7efe1456eca0>\n",
      "sort                         function                      <function sort at 0x7efe1455f2e0>\n",
      "sort_complex                 function                      <function sort_complex at 0x7efe1449a7a0>\n",
      "source                       function                      <function source at 0x7efe144d6520>\n",
      "spacing                      ufunc                         <ufunc 'spacing'>\n",
      "specgram                     function                      <function specgram at 0x7efdd6b15c60>\n",
      "split                        function                      <function split at 0x7efe144b28e0>\n",
      "spring                       function                      <function spring at 0x7efdd6b4ef20>\n",
      "spy                          function                      <function spy at 0x7efdd6b15b20>\n",
      "sqrt                         ufunc                         <ufunc 'sqrt'>\n",
      "square                       ufunc                         <ufunc 'square'>\n",
      "squeeze                      function                      <function squeeze at 0x7efe1455fe20>\n",
      "stack                        function                      <function stack at 0x7efe1456f7e0>\n",
      "stackplot                    function                      <function stackplot at 0x7efdd6b15a80>\n",
      "stairs                       function                      <function stairs at 0x7efdd6b4cd60>\n",
      "standard_cauchy              builtin_function_or_method    <built-in method standard<...>object at 0x7efe14371d40>\n",
      "standard_exponential         builtin_function_or_method    <built-in method standard<...>object at 0x7efe14371d40>\n",
      "standard_gamma               builtin_function_or_method    <built-in method standard<...>object at 0x7efe14371d40>\n",
      "standard_normal              builtin_function_or_method    <built-in method standard<...>object at 0x7efe14371d40>\n",
      "standard_t                   builtin_function_or_method    <built-in method standard<...>object at 0x7efe14371d40>\n",
      "std                          function                      <function std at 0x7efe1456e5c0>\n",
      "stem                         function                      <function stem at 0x7efdd6b4dda0>\n",
      "step                         function                      <function step at 0x7efdd6b4dbc0>\n",
      "str_                         type                          <class 'numpy.str_'>\n",
      "streamplot                   function                      <function streamplot at 0x7efdd6b4dd00>\n",
      "string_                      type                          <class 'numpy.bytes_'>\n",
      "style                        module                        <module 'matplotlib.style<...>otlib/style/__init__.py'>\n",
      "subplot                      function                      <function subplot at 0x7efdd6b163e0>\n",
      "subplot2grid                 function                      <function subplot2grid at 0x7efdd6b165c0>\n",
      "subplot_mosaic               function                      <function subplot_mosaic at 0x7efdd6b16480>\n",
      "subplot_tool                 function                      <function subplot_tool at 0x7efdd6b167a0>\n",
      "subplots                     function                      <function subplots at 0x7efdd6b16520>\n",
      "subplots_adjust              function                      <function subplots_adjust at 0x7efdd6b177e0>\n",
      "subtract                     ufunc                         <ufunc 'subtract'>\n",
      "sum                          function                      <function sum at 0x7efe1456cd60>\n",
      "summer                       function                      <function summer at 0x7efdd6b4efc0>\n",
      "suptitle                     function                      <function suptitle at 0x7efdd6b17880>\n",
      "svd                          function                      <function svd at 0x7efe14474540>\n",
      "swapaxes                     function                      <function swapaxes at 0x7efe1455eb60>\n",
      "switch_backend               function                      <function switch_backend at 0x7efdd6b14900>\n",
      "sys                          module                        <module 'sys' (built-in)>\n",
      "table                        function                      <function table at 0x7efdd6b4dc60>\n",
      "take                         function                      <function take at 0x7efe1455e200>\n",
      "take_along_axis              function                      <function take_along_axis at 0x7efe144b1760>\n",
      "tan                          ufunc                         <ufunc 'tan'>\n",
      "tanh                         ufunc                         <ufunc 'tanh'>\n",
      "tensordot                    function                      <function tensordot at 0x7efe1c689620>\n",
      "tensorinv                    function                      <function tensorinv at 0x7efe14463600>\n",
      "tensorsolve                  function                      <function tensorsolve at 0x7efe14463240>\n",
      "text                         function                      <function text at 0x7efdd6b4de40>\n",
      "thetagrids                   function                      <function thetagrids at 0x7efdd6b16c00>\n",
      "threading                    module                        <module 'threading' from <...>python3.11/threading.py'>\n",
      "tick_params                  function                      <function tick_params at 0x7efdd6b4dee0>\n",
      "ticklabel_format             function                      <function ticklabel_format at 0x7efdd6b4df80>\n",
      "tight_layout                 function                      <function tight_layout at 0x7efdd6b17920>\n",
      "tile                         function                      <function tile at 0x7efe144b3240>\n",
      "time                         module                        <module 'time' (built-in)>\n",
      "timedelta64                  type                          <class 'numpy.timedelta64'>\n",
      "title                        function                      <function title at 0x7efdd6b4e520>\n",
      "trace                        function                      <function trace at 0x7efe1456c220>\n",
      "tracemalloc_domain           int                           389047\n",
      "transpose                    function                      <function transpose at 0x7efe1455ed40>\n",
      "trapz                        function                      <function trapz at 0x7efe144a13a0>\n",
      "tri                          function                      <function tri at 0x7efe144614e0>\n",
      "triangular                   builtin_function_or_method    <built-in method triangul<...>object at 0x7efe14371d40>\n",
      "tricontour                   function                      <function tricontour at 0x7efdd6b4e020>\n",
      "tricontourf                  function                      <function tricontourf at 0x7efdd6b4e0c0>\n",
      "tril                         function                      <function tril at 0x7efe14461760>\n",
      "tril_indices                 function                      <function tril_indices at 0x7efe14461da0>\n",
      "tril_indices_from            function                      <function tril_indices_from at 0x7efe14461f80>\n",
      "trim_zeros                   function                      <function trim_zeros at 0x7efe1449a980>\n",
      "tripcolor                    function                      <function tripcolor at 0x7efdd6b4e160>\n",
      "triplot                      function                      <function triplot at 0x7efdd6b4e200>\n",
      "triu                         function                      <function triu at 0x7efe144618a0>\n",
      "triu_indices                 function                      <function triu_indices at 0x7efe14462020>\n",
      "triu_indices_from            function                      <function triu_indices_from at 0x7efe14462160>\n",
      "true_divide                  ufunc                         <ufunc 'divide'>\n",
      "trunc                        ufunc                         <ufunc 'trunc'>\n",
      "twinx                        function                      <function twinx at 0x7efdd6b16660>\n",
      "twiny                        function                      <function twiny at 0x7efdd6b16700>\n",
      "typecodes                    dict                          n=9\n",
      "typename                     function                      <function typename at 0x7efe14625d00>\n",
      "ubyte                        type                          <class 'numpy.uint8'>\n",
      "ufunc                        type                          <class 'numpy.ufunc'>\n",
      "uint                         type                          <class 'numpy.uint64'>\n",
      "uint16                       type                          <class 'numpy.uint16'>\n",
      "uint32                       type                          <class 'numpy.uint32'>\n",
      "uint64                       type                          <class 'numpy.uint64'>\n",
      "uint8                        type                          <class 'numpy.uint8'>\n",
      "uintc                        type                          <class 'numpy.uint32'>\n",
      "uintp                        type                          <class 'numpy.uint64'>\n",
      "ulonglong                    type                          <class 'numpy.ulonglong'>\n",
      "unicode_                     type                          <class 'numpy.str_'>\n",
      "uniform                      builtin_function_or_method    <built-in method uniform <...>object at 0x7efe14371d40>\n",
      "uninstall_repl_displayhook   function                      <function uninstall_repl_<...>ayhook at 0x7efdd6b15440>\n",
      "union1d                      function                      <function union1d at 0x7efe144d7a60>\n",
      "unique                       function                      <function unique at 0x7efe144d7060>\n",
      "unpackbits                   function                      <function unpackbits at 0x7efe1c5f3ec0>\n",
      "unravel_index                function                      <function unravel_index at 0x7efe1c5f39c0>\n",
      "unsignedinteger              type                          <class 'numpy.unsignedinteger'>\n",
      "unwrap                       function                      <function unwrap at 0x7efe1449a5c0>\n",
      "ushort                       type                          <class 'numpy.uint16'>\n",
      "vander                       function                      <function vander at 0x7efe14461a80>\n",
      "var                          function                      <function var at 0x7efe1456e7a0>\n",
      "vdot                         function                      <function vdot at 0x7efe1c5f3600>\n",
      "vectorize                    type                          <class 'numpy.vectorize'>\n",
      "violinplot                   function                      <function violinplot at 0x7efdd6b4e2a0>\n",
      "viridis                      function                      <function viridis at 0x7efdd6b4f2e0>\n",
      "vlines                       function                      <function vlines at 0x7efdd6b4e340>\n",
      "void                         type                          <class 'numpy.void'>\n",
      "vonmises                     builtin_function_or_method    <built-in method vonmises<...>object at 0x7efe14371d40>\n",
      "vsplit                       function                      <function vsplit at 0x7efe144b2c00>\n",
      "vstack                       function                      <function vstack at 0x7efe1456f4c0>\n",
      "waitforbuttonpress           function                      <function waitforbuttonpress at 0x7efdd6b179c0>\n",
      "wald                         builtin_function_or_method    <built-in method wald of <...>object at 0x7efe14371d40>\n",
      "weibull                      builtin_function_or_method    <built-in method weibull <...>object at 0x7efe14371d40>\n",
      "where                        function                      <function where at 0x7efe1c5f2e80>\n",
      "who                          function                      <function who at 0x7efe144d6160>\n",
      "window_hanning               function                      <function window_hanning at 0x7efdd6d72980>\n",
      "window_none                  function                      <function window_none at 0x7efdd6d72a20>\n",
      "winter                       function                      <function winter at 0x7efdd6b4f060>\n",
      "xcorr                        function                      <function xcorr at 0x7efdd6b4e3e0>\n",
      "xkcd                         function                      <function xkcd at 0x7efdd6b15260>\n",
      "xlabel                       function                      <function xlabel at 0x7efdd6b4e5c0>\n",
      "xlim                         function                      <function xlim at 0x7efdd6b168e0>\n",
      "xscale                       function                      <function xscale at 0x7efdd6b4e700>\n",
      "xticks                       function                      <function xticks at 0x7efdd6b16a20>\n",
      "ylabel                       function                      <function ylabel at 0x7efdd6b4e660>\n",
      "ylim                         function                      <function ylim at 0x7efdd6b16980>\n",
      "yscale                       function                      <function yscale at 0x7efdd6b4e7a0>\n",
      "yticks                       function                      <function yticks at 0x7efdd6b16ac0>\n",
      "zeros                        builtin_function_or_method    <built-in function zeros>\n",
      "zeros_like                   function                      <function zeros_like at 0x7efe1c6880e0>\n",
      "zipf                         builtin_function_or_method    <built-in method zipf of <...>object at 0x7efe14371d40>\n"
     ]
    }
   ],
   "source": [
    "%whos"
   ]
  },
  {
   "cell_type": "markdown",
   "metadata": {},
   "source": [
    "### 1Д визуализация "
   ]
  },
  {
   "cell_type": "code",
   "execution_count": 5,
   "metadata": {
    "collapsed": false,
    "deletable": true,
    "editable": true,
    "execution": {
     "iopub.execute_input": "2023-05-11T12:19:19.416495Z",
     "iopub.status.busy": "2023-05-11T12:19:19.415802Z",
     "iopub.status.idle": "2023-05-11T12:19:19.422035Z",
     "shell.execute_reply": "2023-05-11T12:19:19.421384Z",
     "shell.execute_reply.started": "2023-05-11T12:19:19.416457Z"
    },
    "jupyter": {
     "outputs_hidden": false
    },
    "tags": []
   },
   "outputs": [
    {
     "data": {
      "text/plain": [
       "array([-6.28318531, -6.15625227, -6.02931923, -5.9023862 , -5.77545316,\n",
       "       -5.64852012, -5.52158709, -5.39465405, -5.26772102, -5.14078798,\n",
       "       -5.01385494, -4.88692191, -4.75998887, -4.63305583, -4.5061228 ,\n",
       "       -4.37918976, -4.25225672, -4.12532369, -3.99839065, -3.87145761,\n",
       "       -3.74452458, -3.61759154, -3.4906585 , -3.36372547, -3.23679243,\n",
       "       -3.10985939, -2.98292636, -2.85599332, -2.72906028, -2.60212725,\n",
       "       -2.47519421, -2.34826118, -2.22132814, -2.0943951 , -1.96746207,\n",
       "       -1.84052903, -1.71359599, -1.58666296, -1.45972992, -1.33279688,\n",
       "       -1.20586385, -1.07893081, -0.95199777, -0.82506474, -0.6981317 ,\n",
       "       -0.57119866, -0.44426563, -0.31733259, -0.19039955, -0.06346652,\n",
       "        0.06346652,  0.19039955,  0.31733259,  0.44426563,  0.57119866,\n",
       "        0.6981317 ,  0.82506474,  0.95199777,  1.07893081,  1.20586385,\n",
       "        1.33279688,  1.45972992,  1.58666296,  1.71359599,  1.84052903,\n",
       "        1.96746207,  2.0943951 ,  2.22132814,  2.34826118,  2.47519421,\n",
       "        2.60212725,  2.72906028,  2.85599332,  2.98292636,  3.10985939,\n",
       "        3.23679243,  3.36372547,  3.4906585 ,  3.61759154,  3.74452458,\n",
       "        3.87145761,  3.99839065,  4.12532369,  4.25225672,  4.37918976,\n",
       "        4.5061228 ,  4.63305583,  4.75998887,  4.88692191,  5.01385494,\n",
       "        5.14078798,  5.26772102,  5.39465405,  5.52158709,  5.64852012,\n",
       "        5.77545316,  5.9023862 ,  6.02931923,  6.15625227,  6.28318531])"
      ]
     },
     "execution_count": 5,
     "metadata": {},
     "output_type": "execute_result"
    }
   ],
   "source": [
    "x = linspace(-2*pi,2*pi,100)\n",
    "x"
   ]
  },
  {
   "cell_type": "code",
   "execution_count": 6,
   "metadata": {
    "execution": {
     "iopub.execute_input": "2023-05-11T12:19:23.557736Z",
     "iopub.status.busy": "2023-05-11T12:19:23.553741Z",
     "iopub.status.idle": "2023-05-11T12:19:23.570942Z",
     "shell.execute_reply": "2023-05-11T12:19:23.569390Z",
     "shell.execute_reply.started": "2023-05-11T12:19:23.557651Z"
    },
    "tags": []
   },
   "outputs": [
    {
     "data": {
      "text/plain": [
       "\u001b[0;31mType:\u001b[0m        ndarray\n",
       "\u001b[0;31mString form:\u001b[0m\n",
       "[-6.28318531 -6.15625227 -6.02931923 -5.9023862  -5.77545316 -5.64852012\n",
       "           -5.52158709 -5.39465405 <...>  5.39465405  5.52158709  5.64852012  5.77545316\n",
       "           5.9023862   6.02931923  6.15625227  6.28318531]\n",
       "\u001b[0;31mLength:\u001b[0m      100\n",
       "\u001b[0;31mFile:\u001b[0m        /opt/mamba/envs/ocean/lib/python3.11/site-packages/numpy/__init__.py\n",
       "\u001b[0;31mDocstring:\u001b[0m  \n",
       "ndarray(shape, dtype=float, buffer=None, offset=0,\n",
       "        strides=None, order=None)\n",
       "\n",
       "An array object represents a multidimensional, homogeneous array\n",
       "of fixed-size items.  An associated data-type object describes the\n",
       "format of each element in the array (its byte-order, how many bytes it\n",
       "occupies in memory, whether it is an integer, a floating point number,\n",
       "or something else, etc.)\n",
       "\n",
       "Arrays should be constructed using `array`, `zeros` or `empty` (refer\n",
       "to the See Also section below).  The parameters given here refer to\n",
       "a low-level method (`ndarray(...)`) for instantiating an array.\n",
       "\n",
       "For more information, refer to the `numpy` module and examine the\n",
       "methods and attributes of an array.\n",
       "\n",
       "Parameters\n",
       "----------\n",
       "(for the __new__ method; see Notes below)\n",
       "\n",
       "shape : tuple of ints\n",
       "    Shape of created array.\n",
       "dtype : data-type, optional\n",
       "    Any object that can be interpreted as a numpy data type.\n",
       "buffer : object exposing buffer interface, optional\n",
       "    Used to fill the array with data.\n",
       "offset : int, optional\n",
       "    Offset of array data in buffer.\n",
       "strides : tuple of ints, optional\n",
       "    Strides of data in memory.\n",
       "order : {'C', 'F'}, optional\n",
       "    Row-major (C-style) or column-major (Fortran-style) order.\n",
       "\n",
       "Attributes\n",
       "----------\n",
       "T : ndarray\n",
       "    Transpose of the array.\n",
       "data : buffer\n",
       "    The array's elements, in memory.\n",
       "dtype : dtype object\n",
       "    Describes the format of the elements in the array.\n",
       "flags : dict\n",
       "    Dictionary containing information related to memory use, e.g.,\n",
       "    'C_CONTIGUOUS', 'OWNDATA', 'WRITEABLE', etc.\n",
       "flat : numpy.flatiter object\n",
       "    Flattened version of the array as an iterator.  The iterator\n",
       "    allows assignments, e.g., ``x.flat = 3`` (See `ndarray.flat` for\n",
       "    assignment examples; TODO).\n",
       "imag : ndarray\n",
       "    Imaginary part of the array.\n",
       "real : ndarray\n",
       "    Real part of the array.\n",
       "size : int\n",
       "    Number of elements in the array.\n",
       "itemsize : int\n",
       "    The memory use of each array element in bytes.\n",
       "nbytes : int\n",
       "    The total number of bytes required to store the array data,\n",
       "    i.e., ``itemsize * size``.\n",
       "ndim : int\n",
       "    The array's number of dimensions.\n",
       "shape : tuple of ints\n",
       "    Shape of the array.\n",
       "strides : tuple of ints\n",
       "    The step-size required to move from one element to the next in\n",
       "    memory. For example, a contiguous ``(3, 4)`` array of type\n",
       "    ``int16`` in C-order has strides ``(8, 2)``.  This implies that\n",
       "    to move from element to element in memory requires jumps of 2 bytes.\n",
       "    To move from row-to-row, one needs to jump 8 bytes at a time\n",
       "    (``2 * 4``).\n",
       "ctypes : ctypes object\n",
       "    Class containing properties of the array needed for interaction\n",
       "    with ctypes.\n",
       "base : ndarray\n",
       "    If the array is a view into another array, that array is its `base`\n",
       "    (unless that array is also a view).  The `base` array is where the\n",
       "    array data is actually stored.\n",
       "\n",
       "See Also\n",
       "--------\n",
       "array : Construct an array.\n",
       "zeros : Create an array, each element of which is zero.\n",
       "empty : Create an array, but leave its allocated memory unchanged (i.e.,\n",
       "        it contains \"garbage\").\n",
       "dtype : Create a data-type.\n",
       "numpy.typing.NDArray : An ndarray alias :term:`generic <generic type>`\n",
       "                       w.r.t. its `dtype.type <numpy.dtype.type>`.\n",
       "\n",
       "Notes\n",
       "-----\n",
       "There are two modes of creating an array using ``__new__``:\n",
       "\n",
       "1. If `buffer` is None, then only `shape`, `dtype`, and `order`\n",
       "   are used.\n",
       "2. If `buffer` is an object exposing the buffer interface, then\n",
       "   all keywords are interpreted.\n",
       "\n",
       "No ``__init__`` method is needed because the array is fully initialized\n",
       "after the ``__new__`` method.\n",
       "\n",
       "Examples\n",
       "--------\n",
       "These examples illustrate the low-level `ndarray` constructor.  Refer\n",
       "to the `See Also` section above for easier ways of constructing an\n",
       "ndarray.\n",
       "\n",
       "First mode, `buffer` is None:\n",
       "\n",
       ">>> np.ndarray(shape=(2,2), dtype=float, order='F')\n",
       "array([[0.0e+000, 0.0e+000], # random\n",
       "       [     nan, 2.5e-323]])\n",
       "\n",
       "Second mode:\n",
       "\n",
       ">>> np.ndarray((2,), buffer=np.array([1,2,3]),\n",
       "...            offset=np.int_().itemsize,\n",
       "...            dtype=int) # offset = 1*itemsize, i.e. skip first element\n",
       "array([2, 3])"
      ]
     },
     "metadata": {},
     "output_type": "display_data"
    }
   ],
   "source": [
    "x?"
   ]
  },
  {
   "cell_type": "code",
   "execution_count": 7,
   "metadata": {
    "execution": {
     "iopub.execute_input": "2023-05-11T12:19:30.950565Z",
     "iopub.status.busy": "2023-05-11T12:19:30.949843Z",
     "iopub.status.idle": "2023-05-11T12:19:31.001915Z",
     "shell.execute_reply": "2023-05-11T12:19:31.000872Z",
     "shell.execute_reply.started": "2023-05-11T12:19:30.950498Z"
    },
    "tags": []
   },
   "outputs": [
    {
     "data": {
      "text/plain": [
       "\u001b[0;31mCall signature:\u001b[0m  \u001b[0msin\u001b[0m\u001b[0;34m(\u001b[0m\u001b[0;34m*\u001b[0m\u001b[0margs\u001b[0m\u001b[0;34m,\u001b[0m \u001b[0;34m**\u001b[0m\u001b[0mkwargs\u001b[0m\u001b[0;34m)\u001b[0m\u001b[0;34m\u001b[0m\u001b[0;34m\u001b[0m\u001b[0m\n",
       "\u001b[0;31mType:\u001b[0m            ufunc\n",
       "\u001b[0;31mString form:\u001b[0m     <ufunc 'sin'>\n",
       "\u001b[0;31mFile:\u001b[0m            /opt/mamba/envs/ocean/lib/python3.11/site-packages/numpy/__init__.py\n",
       "\u001b[0;31mDocstring:\u001b[0m      \n",
       "sin(x, /, out=None, *, where=True, casting='same_kind', order='K', dtype=None, subok=True[, signature, extobj])\n",
       "\n",
       "Trigonometric sine, element-wise.\n",
       "\n",
       "Parameters\n",
       "----------\n",
       "x : array_like\n",
       "    Angle, in radians (:math:`2 \\pi` rad equals 360 degrees).\n",
       "out : ndarray, None, or tuple of ndarray and None, optional\n",
       "    A location into which the result is stored. If provided, it must have\n",
       "    a shape that the inputs broadcast to. If not provided or None,\n",
       "    a freshly-allocated array is returned. A tuple (possible only as a\n",
       "    keyword argument) must have length equal to the number of outputs.\n",
       "where : array_like, optional\n",
       "    This condition is broadcast over the input. At locations where the\n",
       "    condition is True, the `out` array will be set to the ufunc result.\n",
       "    Elsewhere, the `out` array will retain its original value.\n",
       "    Note that if an uninitialized `out` array is created via the default\n",
       "    ``out=None``, locations within it where the condition is False will\n",
       "    remain uninitialized.\n",
       "**kwargs\n",
       "    For other keyword-only arguments, see the\n",
       "    :ref:`ufunc docs <ufuncs.kwargs>`.\n",
       "\n",
       "Returns\n",
       "-------\n",
       "y : array_like\n",
       "    The sine of each element of x.\n",
       "    This is a scalar if `x` is a scalar.\n",
       "\n",
       "See Also\n",
       "--------\n",
       "arcsin, sinh, cos\n",
       "\n",
       "Notes\n",
       "-----\n",
       "The sine is one of the fundamental functions of trigonometry (the\n",
       "mathematical study of triangles).  Consider a circle of radius 1\n",
       "centered on the origin.  A ray comes in from the :math:`+x` axis, makes\n",
       "an angle at the origin (measured counter-clockwise from that axis), and\n",
       "departs from the origin.  The :math:`y` coordinate of the outgoing\n",
       "ray's intersection with the unit circle is the sine of that angle.  It\n",
       "ranges from -1 for :math:`x=3\\pi / 2` to +1 for :math:`\\pi / 2.`  The\n",
       "function has zeroes where the angle is a multiple of :math:`\\pi`.\n",
       "Sines of angles between :math:`\\pi` and :math:`2\\pi` are negative.\n",
       "The numerous properties of the sine and related functions are included\n",
       "in any standard trigonometry text.\n",
       "\n",
       "Examples\n",
       "--------\n",
       "Print sine of one angle:\n",
       "\n",
       ">>> np.sin(np.pi/2.)\n",
       "1.0\n",
       "\n",
       "Print sines of an array of angles given in degrees:\n",
       "\n",
       ">>> np.sin(np.array((0., 30., 45., 60., 90.)) * np.pi / 180. )\n",
       "array([ 0.        ,  0.5       ,  0.70710678,  0.8660254 ,  1.        ])\n",
       "\n",
       "Plot the sine function:\n",
       "\n",
       ">>> import matplotlib.pylab as plt\n",
       ">>> x = np.linspace(-np.pi, np.pi, 201)\n",
       ">>> plt.plot(x, np.sin(x))\n",
       ">>> plt.xlabel('Angle [rad]')\n",
       ">>> plt.ylabel('sin(x)')\n",
       ">>> plt.axis('tight')\n",
       ">>> plt.show()\n",
       "\u001b[0;31mClass docstring:\u001b[0m\n",
       "Functions that operate element by element on whole arrays.\n",
       "\n",
       "To see the documentation for a specific ufunc, use `info`.  For\n",
       "example, ``np.info(np.sin)``.  Because ufuncs are written in C\n",
       "(for speed) and linked into Python with NumPy's ufunc facility,\n",
       "Python's help() function finds this page whenever help() is called\n",
       "on a ufunc.\n",
       "\n",
       "A detailed explanation of ufuncs can be found in the docs for :ref:`ufuncs`.\n",
       "\n",
       "**Calling ufuncs:** ``op(*x[, out], where=True, **kwargs)``\n",
       "\n",
       "Apply `op` to the arguments `*x` elementwise, broadcasting the arguments.\n",
       "\n",
       "The broadcasting rules are:\n",
       "\n",
       "* Dimensions of length 1 may be prepended to either array.\n",
       "* Arrays may be repeated along dimensions of length 1.\n",
       "\n",
       "Parameters\n",
       "----------\n",
       "*x : array_like\n",
       "    Input arrays.\n",
       "out : ndarray, None, or tuple of ndarray and None, optional\n",
       "    Alternate array object(s) in which to put the result; if provided, it\n",
       "    must have a shape that the inputs broadcast to. A tuple of arrays\n",
       "    (possible only as a keyword argument) must have length equal to the\n",
       "    number of outputs; use None for uninitialized outputs to be\n",
       "    allocated by the ufunc.\n",
       "where : array_like, optional\n",
       "    This condition is broadcast over the input. At locations where the\n",
       "    condition is True, the `out` array will be set to the ufunc result.\n",
       "    Elsewhere, the `out` array will retain its original value.\n",
       "    Note that if an uninitialized `out` array is created via the default\n",
       "    ``out=None``, locations within it where the condition is False will\n",
       "    remain uninitialized.\n",
       "**kwargs\n",
       "    For other keyword-only arguments, see the :ref:`ufunc docs <ufuncs.kwargs>`.\n",
       "\n",
       "Returns\n",
       "-------\n",
       "r : ndarray or tuple of ndarray\n",
       "    `r` will have the shape that the arrays in `x` broadcast to; if `out` is\n",
       "    provided, it will be returned. If not, `r` will be allocated and\n",
       "    may contain uninitialized values. If the function has more than one\n",
       "    output, then the result will be a tuple of arrays."
      ]
     },
     "metadata": {},
     "output_type": "display_data"
    }
   ],
   "source": [
    "sin?"
   ]
  },
  {
   "cell_type": "code",
   "execution_count": 8,
   "metadata": {
    "deletable": true,
    "editable": true,
    "execution": {
     "iopub.execute_input": "2023-05-11T12:19:43.588553Z",
     "iopub.status.busy": "2023-05-11T12:19:43.588252Z",
     "iopub.status.idle": "2023-05-11T12:19:43.591930Z",
     "shell.execute_reply": "2023-05-11T12:19:43.591112Z",
     "shell.execute_reply.started": "2023-05-11T12:19:43.588528Z"
    },
    "tags": []
   },
   "outputs": [],
   "source": [
    "y = sin(x)"
   ]
  },
  {
   "cell_type": "code",
   "execution_count": 9,
   "metadata": {
    "collapsed": false,
    "deletable": true,
    "editable": true,
    "execution": {
     "iopub.execute_input": "2023-05-11T12:19:53.579913Z",
     "iopub.status.busy": "2023-05-11T12:19:53.579657Z",
     "iopub.status.idle": "2023-05-11T12:19:53.737058Z",
     "shell.execute_reply": "2023-05-11T12:19:53.736356Z",
     "shell.execute_reply.started": "2023-05-11T12:19:53.579891Z"
    },
    "jupyter": {
     "outputs_hidden": false
    },
    "tags": []
   },
   "outputs": [
    {
     "data": {
      "text/plain": [
       "[<matplotlib.lines.Line2D at 0x7efdd6b39950>]"
      ]
     },
     "execution_count": 9,
     "metadata": {},
     "output_type": "execute_result"
    },
    {
     "data": {
      "image/png": "[encoded data removed]",
      "text/plain": [
       "<Figure size 640x480 with 1 Axes>"
      ]
     },
     "metadata": {},
     "output_type": "display_data"
    }
   ],
   "source": [
    "plot(x,y)"
   ]
  },
  {
   "cell_type": "code",
   "execution_count": 10,
   "metadata": {
    "collapsed": false,
    "deletable": true,
    "editable": true,
    "execution": {
     "iopub.execute_input": "2023-05-11T12:19:58.994281Z",
     "iopub.status.busy": "2023-05-11T12:19:58.993684Z",
     "iopub.status.idle": "2023-05-11T12:19:59.143164Z",
     "shell.execute_reply": "2023-05-11T12:19:59.142406Z",
     "shell.execute_reply.started": "2023-05-11T12:19:58.994263Z"
    },
    "jupyter": {
     "outputs_hidden": false
    },
    "tags": []
   },
   "outputs": [
    {
     "data": {
      "image/png": "[encoded data removed]",
      "text/plain": [
       "<Figure size 640x480 with 1 Axes>"
      ]
     },
     "metadata": {},
     "output_type": "display_data"
    }
   ],
   "source": [
    "plot(x,sin(x))\n",
    "grid(True)"
   ]
  },
  {
   "cell_type": "code",
   "execution_count": 11,
   "metadata": {
    "collapsed": false,
    "deletable": true,
    "editable": true,
    "execution": {
     "iopub.execute_input": "2023-05-11T12:20:02.592578Z",
     "iopub.status.busy": "2023-05-11T12:20:02.591851Z",
     "iopub.status.idle": "2023-05-11T12:20:02.601007Z",
     "shell.execute_reply": "2023-05-11T12:20:02.600495Z",
     "shell.execute_reply.started": "2023-05-11T12:20:02.592543Z"
    },
    "jupyter": {
     "outputs_hidden": false
    },
    "tags": []
   },
   "outputs": [
    {
     "data": {
      "text/plain": [
       "array([-6.28318531, -6.23318531, -6.18318531, -6.13318531, -6.08318531,\n",
       "       -6.03318531, -5.98318531, -5.93318531, -5.88318531, -5.83318531,\n",
       "       -5.78318531, -5.73318531, -5.68318531, -5.63318531, -5.58318531,\n",
       "       -5.53318531, -5.48318531, -5.43318531, -5.38318531, -5.33318531,\n",
       "       -5.28318531, -5.23318531, -5.18318531, -5.13318531, -5.08318531,\n",
       "       -5.03318531, -4.98318531, -4.93318531, -4.88318531, -4.83318531,\n",
       "       -4.78318531, -4.73318531, -4.68318531, -4.63318531, -4.58318531,\n",
       "       -4.53318531, -4.48318531, -4.43318531, -4.38318531, -4.33318531,\n",
       "       -4.28318531, -4.23318531, -4.18318531, -4.13318531, -4.08318531,\n",
       "       -4.03318531, -3.98318531, -3.93318531, -3.88318531, -3.83318531,\n",
       "       -3.78318531, -3.73318531, -3.68318531, -3.63318531, -3.58318531,\n",
       "       -3.53318531, -3.48318531, -3.43318531, -3.38318531, -3.33318531,\n",
       "       -3.28318531, -3.23318531, -3.18318531, -3.13318531, -3.08318531,\n",
       "       -3.03318531, -2.98318531, -2.93318531, -2.88318531, -2.83318531,\n",
       "       -2.78318531, -2.73318531, -2.68318531, -2.63318531, -2.58318531,\n",
       "       -2.53318531, -2.48318531, -2.43318531, -2.38318531, -2.33318531,\n",
       "       -2.28318531, -2.23318531, -2.18318531, -2.13318531, -2.08318531,\n",
       "       -2.03318531, -1.98318531, -1.93318531, -1.88318531, -1.83318531,\n",
       "       -1.78318531, -1.73318531, -1.68318531, -1.63318531, -1.58318531,\n",
       "       -1.53318531, -1.48318531, -1.43318531, -1.38318531, -1.33318531,\n",
       "       -1.28318531, -1.23318531, -1.18318531, -1.13318531, -1.08318531,\n",
       "       -1.03318531, -0.98318531, -0.93318531, -0.88318531, -0.83318531,\n",
       "       -0.78318531, -0.73318531, -0.68318531, -0.63318531, -0.58318531,\n",
       "       -0.53318531, -0.48318531, -0.43318531, -0.38318531, -0.33318531,\n",
       "       -0.28318531, -0.23318531, -0.18318531, -0.13318531, -0.08318531,\n",
       "       -0.03318531,  0.01681469,  0.06681469,  0.11681469,  0.16681469,\n",
       "        0.21681469,  0.26681469,  0.31681469,  0.36681469,  0.41681469,\n",
       "        0.46681469,  0.51681469,  0.56681469,  0.61681469,  0.66681469,\n",
       "        0.71681469,  0.76681469,  0.81681469,  0.86681469,  0.91681469,\n",
       "        0.96681469,  1.01681469,  1.06681469,  1.11681469,  1.16681469,\n",
       "        1.21681469,  1.26681469,  1.31681469,  1.36681469,  1.41681469,\n",
       "        1.46681469,  1.51681469,  1.56681469,  1.61681469,  1.66681469,\n",
       "        1.71681469,  1.76681469,  1.81681469,  1.86681469,  1.91681469,\n",
       "        1.96681469,  2.01681469,  2.06681469,  2.11681469,  2.16681469,\n",
       "        2.21681469,  2.26681469,  2.31681469,  2.36681469,  2.41681469,\n",
       "        2.46681469,  2.51681469,  2.56681469,  2.61681469,  2.66681469,\n",
       "        2.71681469,  2.76681469,  2.81681469,  2.86681469,  2.91681469,\n",
       "        2.96681469,  3.01681469,  3.06681469,  3.11681469,  3.16681469,\n",
       "        3.21681469,  3.26681469,  3.31681469,  3.36681469,  3.41681469,\n",
       "        3.46681469,  3.51681469,  3.56681469,  3.61681469,  3.66681469,\n",
       "        3.71681469,  3.76681469,  3.81681469,  3.86681469,  3.91681469,\n",
       "        3.96681469,  4.01681469,  4.06681469,  4.11681469,  4.16681469,\n",
       "        4.21681469,  4.26681469,  4.31681469,  4.36681469,  4.41681469,\n",
       "        4.46681469,  4.51681469,  4.56681469,  4.61681469,  4.66681469,\n",
       "        4.71681469,  4.76681469,  4.81681469,  4.86681469,  4.91681469,\n",
       "        4.96681469,  5.01681469,  5.06681469,  5.11681469,  5.16681469,\n",
       "        5.21681469,  5.26681469,  5.31681469,  5.36681469,  5.41681469,\n",
       "        5.46681469,  5.51681469,  5.56681469,  5.61681469,  5.66681469,\n",
       "        5.71681469,  5.76681469,  5.81681469,  5.86681469,  5.91681469,\n",
       "        5.96681469,  6.01681469,  6.06681469,  6.11681469,  6.16681469,\n",
       "        6.21681469,  6.26681469])"
      ]
     },
     "execution_count": 11,
     "metadata": {},
     "output_type": "execute_result"
    }
   ],
   "source": [
    "x = arange(-2*pi,2*pi,0.05)\n",
    "x"
   ]
  },
  {
   "cell_type": "code",
   "execution_count": 12,
   "metadata": {
    "execution": {
     "iopub.execute_input": "2023-05-11T12:20:07.782904Z",
     "iopub.status.busy": "2023-05-11T12:20:07.781323Z",
     "iopub.status.idle": "2023-05-11T12:20:07.800511Z",
     "shell.execute_reply": "2023-05-11T12:20:07.799344Z",
     "shell.execute_reply.started": "2023-05-11T12:20:07.782830Z"
    },
    "scrolled": true,
    "tags": []
   },
   "outputs": [
    {
     "data": {
      "text/plain": [
       "\u001b[0;31mType:\u001b[0m        ndarray\n",
       "\u001b[0;31mString form:\u001b[0m\n",
       "[-6.28318531 -6.23318531 -6.18318531 -6.13318531 -6.08318531 -6.03318531\n",
       "           -5.98318531 -5.93318531 <...>  5.91681469  5.96681469\n",
       "           6.01681469  6.06681469  6.11681469  6.16681469  6.21681469  6.26681469]\n",
       "\u001b[0;31mLength:\u001b[0m      252\n",
       "\u001b[0;31mFile:\u001b[0m        /opt/mamba/envs/ocean/lib/python3.11/site-packages/numpy/__init__.py\n",
       "\u001b[0;31mDocstring:\u001b[0m  \n",
       "ndarray(shape, dtype=float, buffer=None, offset=0,\n",
       "        strides=None, order=None)\n",
       "\n",
       "An array object represents a multidimensional, homogeneous array\n",
       "of fixed-size items.  An associated data-type object describes the\n",
       "format of each element in the array (its byte-order, how many bytes it\n",
       "occupies in memory, whether it is an integer, a floating point number,\n",
       "or something else, etc.)\n",
       "\n",
       "Arrays should be constructed using `array`, `zeros` or `empty` (refer\n",
       "to the See Also section below).  The parameters given here refer to\n",
       "a low-level method (`ndarray(...)`) for instantiating an array.\n",
       "\n",
       "For more information, refer to the `numpy` module and examine the\n",
       "methods and attributes of an array.\n",
       "\n",
       "Parameters\n",
       "----------\n",
       "(for the __new__ method; see Notes below)\n",
       "\n",
       "shape : tuple of ints\n",
       "    Shape of created array.\n",
       "dtype : data-type, optional\n",
       "    Any object that can be interpreted as a numpy data type.\n",
       "buffer : object exposing buffer interface, optional\n",
       "    Used to fill the array with data.\n",
       "offset : int, optional\n",
       "    Offset of array data in buffer.\n",
       "strides : tuple of ints, optional\n",
       "    Strides of data in memory.\n",
       "order : {'C', 'F'}, optional\n",
       "    Row-major (C-style) or column-major (Fortran-style) order.\n",
       "\n",
       "Attributes\n",
       "----------\n",
       "T : ndarray\n",
       "    Transpose of the array.\n",
       "data : buffer\n",
       "    The array's elements, in memory.\n",
       "dtype : dtype object\n",
       "    Describes the format of the elements in the array.\n",
       "flags : dict\n",
       "    Dictionary containing information related to memory use, e.g.,\n",
       "    'C_CONTIGUOUS', 'OWNDATA', 'WRITEABLE', etc.\n",
       "flat : numpy.flatiter object\n",
       "    Flattened version of the array as an iterator.  The iterator\n",
       "    allows assignments, e.g., ``x.flat = 3`` (See `ndarray.flat` for\n",
       "    assignment examples; TODO).\n",
       "imag : ndarray\n",
       "    Imaginary part of the array.\n",
       "real : ndarray\n",
       "    Real part of the array.\n",
       "size : int\n",
       "    Number of elements in the array.\n",
       "itemsize : int\n",
       "    The memory use of each array element in bytes.\n",
       "nbytes : int\n",
       "    The total number of bytes required to store the array data,\n",
       "    i.e., ``itemsize * size``.\n",
       "ndim : int\n",
       "    The array's number of dimensions.\n",
       "shape : tuple of ints\n",
       "    Shape of the array.\n",
       "strides : tuple of ints\n",
       "    The step-size required to move from one element to the next in\n",
       "    memory. For example, a contiguous ``(3, 4)`` array of type\n",
       "    ``int16`` in C-order has strides ``(8, 2)``.  This implies that\n",
       "    to move from element to element in memory requires jumps of 2 bytes.\n",
       "    To move from row-to-row, one needs to jump 8 bytes at a time\n",
       "    (``2 * 4``).\n",
       "ctypes : ctypes object\n",
       "    Class containing properties of the array needed for interaction\n",
       "    with ctypes.\n",
       "base : ndarray\n",
       "    If the array is a view into another array, that array is its `base`\n",
       "    (unless that array is also a view).  The `base` array is where the\n",
       "    array data is actually stored.\n",
       "\n",
       "See Also\n",
       "--------\n",
       "array : Construct an array.\n",
       "zeros : Create an array, each element of which is zero.\n",
       "empty : Create an array, but leave its allocated memory unchanged (i.e.,\n",
       "        it contains \"garbage\").\n",
       "dtype : Create a data-type.\n",
       "numpy.typing.NDArray : An ndarray alias :term:`generic <generic type>`\n",
       "                       w.r.t. its `dtype.type <numpy.dtype.type>`.\n",
       "\n",
       "Notes\n",
       "-----\n",
       "There are two modes of creating an array using ``__new__``:\n",
       "\n",
       "1. If `buffer` is None, then only `shape`, `dtype`, and `order`\n",
       "   are used.\n",
       "2. If `buffer` is an object exposing the buffer interface, then\n",
       "   all keywords are interpreted.\n",
       "\n",
       "No ``__init__`` method is needed because the array is fully initialized\n",
       "after the ``__new__`` method.\n",
       "\n",
       "Examples\n",
       "--------\n",
       "These examples illustrate the low-level `ndarray` constructor.  Refer\n",
       "to the `See Also` section above for easier ways of constructing an\n",
       "ndarray.\n",
       "\n",
       "First mode, `buffer` is None:\n",
       "\n",
       ">>> np.ndarray(shape=(2,2), dtype=float, order='F')\n",
       "array([[0.0e+000, 0.0e+000], # random\n",
       "       [     nan, 2.5e-323]])\n",
       "\n",
       "Second mode:\n",
       "\n",
       ">>> np.ndarray((2,), buffer=np.array([1,2,3]),\n",
       "...            offset=np.int_().itemsize,\n",
       "...            dtype=int) # offset = 1*itemsize, i.e. skip first element\n",
       "array([2, 3])"
      ]
     },
     "metadata": {},
     "output_type": "display_data"
    }
   ],
   "source": [
    "x?"
   ]
  },
  {
   "cell_type": "code",
   "execution_count": 13,
   "metadata": {
    "collapsed": false,
    "deletable": true,
    "editable": true,
    "execution": {
     "iopub.execute_input": "2023-05-11T12:20:35.127619Z",
     "iopub.status.busy": "2023-05-11T12:20:35.127198Z",
     "iopub.status.idle": "2023-05-11T12:20:35.271204Z",
     "shell.execute_reply": "2023-05-11T12:20:35.270506Z",
     "shell.execute_reply.started": "2023-05-11T12:20:35.127598Z"
    },
    "jupyter": {
     "outputs_hidden": false
    },
    "tags": []
   },
   "outputs": [
    {
     "data": {
      "text/plain": [
       "[<matplotlib.lines.Line2D at 0x7efdd50fe590>]"
      ]
     },
     "execution_count": 13,
     "metadata": {},
     "output_type": "execute_result"
    },
    {
     "data": {
      "image/png": "[encoded data removed]",
      "text/plain": [
       "<Figure size 640x480 with 1 Axes>"
      ]
     },
     "metadata": {},
     "output_type": "display_data"
    }
   ],
   "source": [
    "plot(x,cos(x),'--')"
   ]
  },
  {
   "cell_type": "markdown",
   "metadata": {
    "editable": true
   },
   "source": [
    "### Функция как свойство структуры данных, принадлежащих данному модулю (пакету)"
   ]
  },
  {
   "cell_type": "code",
   "execution_count": 14,
   "metadata": {
    "deletable": true,
    "editable": true,
    "execution": {
     "iopub.execute_input": "2023-05-11T12:20:40.869622Z",
     "iopub.status.busy": "2023-05-11T12:20:40.869255Z",
     "iopub.status.idle": "2023-05-11T12:20:40.884356Z",
     "shell.execute_reply": "2023-05-11T12:20:40.883660Z",
     "shell.execute_reply.started": "2023-05-11T12:20:40.869590Z"
    },
    "tags": []
   },
   "outputs": [],
   "source": [
    "a = rand(1000,1000)"
   ]
  },
  {
   "cell_type": "code",
   "execution_count": 15,
   "metadata": {
    "execution": {
     "iopub.execute_input": "2023-05-11T12:20:41.826556Z",
     "iopub.status.busy": "2023-05-11T12:20:41.825844Z",
     "iopub.status.idle": "2023-05-11T12:20:41.829964Z",
     "shell.execute_reply": "2023-05-11T12:20:41.829467Z",
     "shell.execute_reply.started": "2023-05-11T12:20:41.826535Z"
    },
    "tags": []
   },
   "outputs": [
    {
     "data": {
      "text/plain": [
       "numpy.ndarray"
      ]
     },
     "execution_count": 15,
     "metadata": {},
     "output_type": "execute_result"
    }
   ],
   "source": [
    "type(a)"
   ]
  },
  {
   "cell_type": "code",
   "execution_count": 16,
   "metadata": {
    "execution": {
     "iopub.execute_input": "2023-05-11T12:20:42.764222Z",
     "iopub.status.busy": "2023-05-11T12:20:42.763863Z",
     "iopub.status.idle": "2023-05-11T12:20:42.768309Z",
     "shell.execute_reply": "2023-05-11T12:20:42.767661Z",
     "shell.execute_reply.started": "2023-05-11T12:20:42.764202Z"
    },
    "scrolled": true,
    "tags": []
   },
   "outputs": [
    {
     "data": {
      "text/plain": [
       "\u001b[0;31mType:\u001b[0m        ndarray\n",
       "\u001b[0;31mString form:\u001b[0m\n",
       "[[0.07346271 0.42320811 0.91833019 ... 0.9063783  0.4984542  0.04192889]\n",
       "           [0.94602076 0.45492897  <...>  0.08463106 0.20567495]\n",
       "           [0.85333817 0.12734535 0.06118687 ... 0.23397898 0.13624312 0.82090163]]\n",
       "\u001b[0;31mLength:\u001b[0m      1000\n",
       "\u001b[0;31mFile:\u001b[0m        /opt/mamba/envs/ocean/lib/python3.11/site-packages/numpy/__init__.py\n",
       "\u001b[0;31mDocstring:\u001b[0m  \n",
       "ndarray(shape, dtype=float, buffer=None, offset=0,\n",
       "        strides=None, order=None)\n",
       "\n",
       "An array object represents a multidimensional, homogeneous array\n",
       "of fixed-size items.  An associated data-type object describes the\n",
       "format of each element in the array (its byte-order, how many bytes it\n",
       "occupies in memory, whether it is an integer, a floating point number,\n",
       "or something else, etc.)\n",
       "\n",
       "Arrays should be constructed using `array`, `zeros` or `empty` (refer\n",
       "to the See Also section below).  The parameters given here refer to\n",
       "a low-level method (`ndarray(...)`) for instantiating an array.\n",
       "\n",
       "For more information, refer to the `numpy` module and examine the\n",
       "methods and attributes of an array.\n",
       "\n",
       "Parameters\n",
       "----------\n",
       "(for the __new__ method; see Notes below)\n",
       "\n",
       "shape : tuple of ints\n",
       "    Shape of created array.\n",
       "dtype : data-type, optional\n",
       "    Any object that can be interpreted as a numpy data type.\n",
       "buffer : object exposing buffer interface, optional\n",
       "    Used to fill the array with data.\n",
       "offset : int, optional\n",
       "    Offset of array data in buffer.\n",
       "strides : tuple of ints, optional\n",
       "    Strides of data in memory.\n",
       "order : {'C', 'F'}, optional\n",
       "    Row-major (C-style) or column-major (Fortran-style) order.\n",
       "\n",
       "Attributes\n",
       "----------\n",
       "T : ndarray\n",
       "    Transpose of the array.\n",
       "data : buffer\n",
       "    The array's elements, in memory.\n",
       "dtype : dtype object\n",
       "    Describes the format of the elements in the array.\n",
       "flags : dict\n",
       "    Dictionary containing information related to memory use, e.g.,\n",
       "    'C_CONTIGUOUS', 'OWNDATA', 'WRITEABLE', etc.\n",
       "flat : numpy.flatiter object\n",
       "    Flattened version of the array as an iterator.  The iterator\n",
       "    allows assignments, e.g., ``x.flat = 3`` (See `ndarray.flat` for\n",
       "    assignment examples; TODO).\n",
       "imag : ndarray\n",
       "    Imaginary part of the array.\n",
       "real : ndarray\n",
       "    Real part of the array.\n",
       "size : int\n",
       "    Number of elements in the array.\n",
       "itemsize : int\n",
       "    The memory use of each array element in bytes.\n",
       "nbytes : int\n",
       "    The total number of bytes required to store the array data,\n",
       "    i.e., ``itemsize * size``.\n",
       "ndim : int\n",
       "    The array's number of dimensions.\n",
       "shape : tuple of ints\n",
       "    Shape of the array.\n",
       "strides : tuple of ints\n",
       "    The step-size required to move from one element to the next in\n",
       "    memory. For example, a contiguous ``(3, 4)`` array of type\n",
       "    ``int16`` in C-order has strides ``(8, 2)``.  This implies that\n",
       "    to move from element to element in memory requires jumps of 2 bytes.\n",
       "    To move from row-to-row, one needs to jump 8 bytes at a time\n",
       "    (``2 * 4``).\n",
       "ctypes : ctypes object\n",
       "    Class containing properties of the array needed for interaction\n",
       "    with ctypes.\n",
       "base : ndarray\n",
       "    If the array is a view into another array, that array is its `base`\n",
       "    (unless that array is also a view).  The `base` array is where the\n",
       "    array data is actually stored.\n",
       "\n",
       "See Also\n",
       "--------\n",
       "array : Construct an array.\n",
       "zeros : Create an array, each element of which is zero.\n",
       "empty : Create an array, but leave its allocated memory unchanged (i.e.,\n",
       "        it contains \"garbage\").\n",
       "dtype : Create a data-type.\n",
       "numpy.typing.NDArray : An ndarray alias :term:`generic <generic type>`\n",
       "                       w.r.t. its `dtype.type <numpy.dtype.type>`.\n",
       "\n",
       "Notes\n",
       "-----\n",
       "There are two modes of creating an array using ``__new__``:\n",
       "\n",
       "1. If `buffer` is None, then only `shape`, `dtype`, and `order`\n",
       "   are used.\n",
       "2. If `buffer` is an object exposing the buffer interface, then\n",
       "   all keywords are interpreted.\n",
       "\n",
       "No ``__init__`` method is needed because the array is fully initialized\n",
       "after the ``__new__`` method.\n",
       "\n",
       "Examples\n",
       "--------\n",
       "These examples illustrate the low-level `ndarray` constructor.  Refer\n",
       "to the `See Also` section above for easier ways of constructing an\n",
       "ndarray.\n",
       "\n",
       "First mode, `buffer` is None:\n",
       "\n",
       ">>> np.ndarray(shape=(2,2), dtype=float, order='F')\n",
       "array([[0.0e+000, 0.0e+000], # random\n",
       "       [     nan, 2.5e-323]])\n",
       "\n",
       "Second mode:\n",
       "\n",
       ">>> np.ndarray((2,), buffer=np.array([1,2,3]),\n",
       "...            offset=np.int_().itemsize,\n",
       "...            dtype=int) # offset = 1*itemsize, i.e. skip first element\n",
       "array([2, 3])"
      ]
     },
     "metadata": {},
     "output_type": "display_data"
    }
   ],
   "source": [
    "a?"
   ]
  },
  {
   "cell_type": "code",
   "execution_count": 17,
   "metadata": {
    "execution": {
     "iopub.execute_input": "2023-05-11T12:21:08.579597Z",
     "iopub.status.busy": "2023-05-11T12:21:08.578911Z",
     "iopub.status.idle": "2023-05-11T12:21:08.592854Z",
     "shell.execute_reply": "2023-05-11T12:21:08.591501Z",
     "shell.execute_reply.started": "2023-05-11T12:21:08.579534Z"
    },
    "tags": []
   },
   "outputs": [
    {
     "data": {
      "text/plain": [
       "dtype('float64')"
      ]
     },
     "execution_count": 17,
     "metadata": {},
     "output_type": "execute_result"
    }
   ],
   "source": [
    "a.dtype"
   ]
  },
  {
   "cell_type": "code",
   "execution_count": 18,
   "metadata": {
    "execution": {
     "iopub.execute_input": "2023-05-11T12:21:11.677930Z",
     "iopub.status.busy": "2023-05-11T12:21:11.677236Z",
     "iopub.status.idle": "2023-05-11T12:21:11.690480Z",
     "shell.execute_reply": "2023-05-11T12:21:11.688399Z",
     "shell.execute_reply.started": "2023-05-11T12:21:11.677869Z"
    },
    "tags": []
   },
   "outputs": [
    {
     "data": {
      "text/plain": [
       "-105"
      ]
     },
     "execution_count": 18,
     "metadata": {},
     "output_type": "execute_result"
    }
   ],
   "source": [
    "min([10,20,30,-105,0.5])"
   ]
  },
  {
   "cell_type": "code",
   "execution_count": 19,
   "metadata": {
    "collapsed": false,
    "deletable": true,
    "editable": true,
    "execution": {
     "iopub.execute_input": "2023-05-11T12:21:12.871786Z",
     "iopub.status.busy": "2023-05-11T12:21:12.871518Z",
     "iopub.status.idle": "2023-05-11T12:21:12.987610Z",
     "shell.execute_reply": "2023-05-11T12:21:12.986724Z",
     "shell.execute_reply.started": "2023-05-11T12:21:12.871764Z"
    },
    "jupyter": {
     "outputs_hidden": false
    },
    "tags": []
   },
   "outputs": [
    {
     "ename": "ValueError",
     "evalue": "The truth value of an array with more than one element is ambiguous. Use a.any() or a.all()",
     "output_type": "error",
     "traceback": [
      "\u001b[0;31m---------------------------------------------------------------------------\u001b[0m",
      "\u001b[0;31mValueError\u001b[0m                                Traceback (most recent call last)",
      "Cell \u001b[0;32mIn[19], line 1\u001b[0m\n\u001b[0;32m----> 1\u001b[0m \u001b[38;5;28;43mmin\u001b[39;49m\u001b[43m(\u001b[49m\u001b[43ma\u001b[49m\u001b[43m)\u001b[49m\n",
      "\u001b[0;31mValueError\u001b[0m: The truth value of an array with more than one element is ambiguous. Use a.any() or a.all()"
     ]
    }
   ],
   "source": [
    "min(a)"
   ]
  },
  {
   "cell_type": "code",
   "execution_count": 20,
   "metadata": {
    "execution": {
     "iopub.execute_input": "2023-05-11T12:21:36.150136Z",
     "iopub.status.busy": "2023-05-11T12:21:36.149152Z",
     "iopub.status.idle": "2023-05-11T12:21:36.154574Z",
     "shell.execute_reply": "2023-05-11T12:21:36.153470Z",
     "shell.execute_reply.started": "2023-05-11T12:21:36.150093Z"
    },
    "tags": []
   },
   "outputs": [],
   "source": [
    "import numpy as np"
   ]
  },
  {
   "cell_type": "markdown",
   "metadata": {},
   "source": [
    "from pylab import * = \n",
    "from numpy import *\n",
    "from matplotlib.pyplot import *"
   ]
  },
  {
   "cell_type": "code",
   "execution_count": 21,
   "metadata": {
    "collapsed": false,
    "deletable": true,
    "editable": true,
    "execution": {
     "iopub.execute_input": "2023-05-11T12:22:16.905293Z",
     "iopub.status.busy": "2023-05-11T12:22:16.905071Z",
     "iopub.status.idle": "2023-05-11T12:22:16.909719Z",
     "shell.execute_reply": "2023-05-11T12:22:16.909109Z",
     "shell.execute_reply.started": "2023-05-11T12:22:16.905275Z"
    },
    "jupyter": {
     "outputs_hidden": false
    },
    "tags": []
   },
   "outputs": [
    {
     "data": {
      "text/plain": [
       "4.561865464269843e-07"
      ]
     },
     "execution_count": 21,
     "metadata": {},
     "output_type": "execute_result"
    }
   ],
   "source": [
    "np.min(a)"
   ]
  },
  {
   "cell_type": "code",
   "execution_count": 22,
   "metadata": {
    "collapsed": false,
    "deletable": true,
    "editable": true,
    "execution": {
     "iopub.execute_input": "2023-05-11T12:22:17.952734Z",
     "iopub.status.busy": "2023-05-11T12:22:17.952478Z",
     "iopub.status.idle": "2023-05-11T12:22:17.957294Z",
     "shell.execute_reply": "2023-05-11T12:22:17.956602Z",
     "shell.execute_reply.started": "2023-05-11T12:22:17.952712Z"
    },
    "jupyter": {
     "outputs_hidden": false
    },
    "tags": []
   },
   "outputs": [
    {
     "data": {
      "text/plain": [
       "4.561865464269843e-07"
      ]
     },
     "execution_count": 22,
     "metadata": {},
     "output_type": "execute_result"
    }
   ],
   "source": [
    "a.min()"
   ]
  },
  {
   "cell_type": "code",
   "execution_count": 23,
   "metadata": {
    "collapsed": false,
    "editable": true,
    "execution": {
     "iopub.execute_input": "2023-05-11T12:22:19.030204Z",
     "iopub.status.busy": "2023-05-11T12:22:19.029912Z",
     "iopub.status.idle": "2023-05-11T12:22:19.035777Z",
     "shell.execute_reply": "2023-05-11T12:22:19.035014Z",
     "shell.execute_reply.started": "2023-05-11T12:22:19.030180Z"
    },
    "jupyter": {
     "outputs_hidden": false
    },
    "tags": []
   },
   "outputs": [
    {
     "data": {
      "text/plain": [
       "0.5003993151597629"
      ]
     },
     "execution_count": 23,
     "metadata": {},
     "output_type": "execute_result"
    }
   ],
   "source": [
    "a.mean()"
   ]
  },
  {
   "cell_type": "code",
   "execution_count": 24,
   "metadata": {
    "collapsed": false,
    "editable": true,
    "execution": {
     "iopub.execute_input": "2023-05-11T12:22:19.920102Z",
     "iopub.status.busy": "2023-05-11T12:22:19.919885Z",
     "iopub.status.idle": "2023-05-11T12:22:19.927514Z",
     "shell.execute_reply": "2023-05-11T12:22:19.926859Z",
     "shell.execute_reply.started": "2023-05-11T12:22:19.920086Z"
    },
    "jupyter": {
     "outputs_hidden": false
    },
    "tags": []
   },
   "outputs": [
    {
     "data": {
      "text/plain": [
       "0.28883772542283787"
      ]
     },
     "execution_count": 24,
     "metadata": {},
     "output_type": "execute_result"
    }
   ],
   "source": [
    "a.std()"
   ]
  },
  {
   "cell_type": "code",
   "execution_count": 25,
   "metadata": {
    "editable": true,
    "execution": {
     "iopub.execute_input": "2023-05-11T12:22:22.839701Z",
     "iopub.status.busy": "2023-05-11T12:22:22.839023Z",
     "iopub.status.idle": "2023-05-11T12:22:22.846551Z",
     "shell.execute_reply": "2023-05-11T12:22:22.845492Z",
     "shell.execute_reply.started": "2023-05-11T12:22:22.839658Z"
    },
    "tags": []
   },
   "outputs": [],
   "source": [
    "a = rand(100,100)"
   ]
  },
  {
   "cell_type": "markdown",
   "metadata": {
    "editable": true
   },
   "source": [
    "### \"Магические\" функции"
   ]
  },
  {
   "cell_type": "code",
   "execution_count": 26,
   "metadata": {
    "collapsed": false,
    "deletable": true,
    "editable": true,
    "execution": {
     "iopub.execute_input": "2023-05-11T12:22:23.902616Z",
     "iopub.status.busy": "2023-05-11T12:22:23.902309Z",
     "iopub.status.idle": "2023-05-11T12:22:27.977276Z",
     "shell.execute_reply": "2023-05-11T12:22:27.976691Z",
     "shell.execute_reply.started": "2023-05-11T12:22:23.902591Z"
    },
    "jupyter": {
     "outputs_hidden": false
    },
    "tags": []
   },
   "outputs": [
    {
     "name": "stdout",
     "output_type": "stream",
     "text": [
      "5.81 ms ± 54.7 µs per loop (mean ± std. dev. of 7 runs, 100 loops each)\n"
     ]
    }
   ],
   "source": [
    "%timeit -n 100 rand(1000,1000)"
   ]
  },
  {
   "cell_type": "code",
   "execution_count": 27,
   "metadata": {
    "collapsed": false,
    "deletable": true,
    "editable": true,
    "execution": {
     "iopub.execute_input": "2023-05-11T12:23:22.384797Z",
     "iopub.status.busy": "2023-05-11T12:23:22.384566Z",
     "iopub.status.idle": "2023-05-11T12:23:22.419215Z",
     "shell.execute_reply": "2023-05-11T12:23:22.418768Z",
     "shell.execute_reply.started": "2023-05-11T12:23:22.384777Z"
    },
    "jupyter": {
     "outputs_hidden": false
    },
    "tags": []
   },
   "outputs": [
    {
     "name": "stdout",
     "output_type": "stream",
     "text": [
      "CPU times: user 26.8 ms, sys: 15.9 ms, total: 42.7 ms\n",
      "Wall time: 26.4 ms\n"
     ]
    },
    {
     "data": {
      "text/plain": [
       "array([ 5.02731993e+01+0.j        , -2.66106709e+00+1.34271743j,\n",
       "       -2.66106709e+00-1.34271743j,  2.48503965e+00+1.48050234j,\n",
       "        2.48503965e+00-1.48050234j,  2.75812848e-01+2.81852306j,\n",
       "        2.75812848e-01-2.81852306j, -1.30957335e+00+2.57232753j,\n",
       "       -1.30957335e+00-2.57232753j, -2.79561793e+00+0.46984118j,\n",
       "       -2.79561793e+00-0.46984118j,  2.49188543e+00+1.00081075j,\n",
       "        2.49188543e+00-1.00081075j,  2.57024744e+00+0.39890672j,\n",
       "        2.57024744e+00-0.39890672j,  2.56672453e+00+0.j        ,\n",
       "        1.53123634e+00+2.13832233j,  1.53123634e+00-2.13832233j,\n",
       "        9.29715096e-01+2.45066884j,  9.29715096e-01-2.45066884j,\n",
       "        1.78746310e+00+1.85173943j,  1.78746310e+00-1.85173943j,\n",
       "       -2.09093825e+00+1.5793395j , -2.09093825e+00-1.5793395j ,\n",
       "       -9.18390906e-01+2.42766721j, -9.18390906e-01-2.42766721j,\n",
       "       -1.40747749e+00+2.08664854j, -1.40747749e+00-2.08664854j,\n",
       "       -3.08046132e-03+2.43179974j, -3.08046132e-03-2.43179974j,\n",
       "       -2.41280754e+00+0.j        , -2.13818371e+00+1.08757761j,\n",
       "       -2.13818371e+00-1.08757761j, -2.31418048e+00+0.59323225j,\n",
       "       -2.31418048e+00-0.59323225j,  7.08629578e-01+2.2849287j ,\n",
       "        7.08629578e-01-2.2849287j , -1.76982159e+00+1.46253161j,\n",
       "       -1.76982159e+00-1.46253161j, -8.49214922e-01+2.16687952j,\n",
       "       -8.49214922e-01-2.16687952j,  1.32873460e+00+1.95132646j,\n",
       "        1.32873460e+00-1.95132646j, -4.86819075e-01+2.03570849j,\n",
       "       -4.86819075e-01-2.03570849j, -5.86809198e-01+2.0067711j ,\n",
       "       -5.86809198e-01-2.0067711j , -1.36326408e+00+1.54925782j,\n",
       "       -1.36326408e+00-1.54925782j,  1.73325451e+00+1.2623634j ,\n",
       "        1.73325451e+00-1.2623634j ,  1.06945523e+00+1.73605848j,\n",
       "        1.06945523e+00-1.73605848j, -9.06246742e-01+1.6980357j ,\n",
       "       -9.06246742e-01-1.6980357j ,  1.80459942e+00+0.87156483j,\n",
       "        1.80459942e+00-0.87156483j,  3.85123440e-01+1.7672271j ,\n",
       "        3.85123440e-01-1.7672271j ,  1.25273849e+00+1.4511626j ,\n",
       "        1.25273849e+00-1.4511626j , -2.53224453e-01+1.61650983j,\n",
       "       -2.53224453e-01-1.61650983j,  1.90124107e+00+0.j        ,\n",
       "       -1.40167868e+00+0.85786842j, -1.40167868e+00-0.85786842j,\n",
       "       -1.77328783e+00+0.j        ,  1.28979379e+00+0.84393204j,\n",
       "        1.28979379e+00-0.84393204j,  5.82396313e-01+1.32853498j,\n",
       "        5.82396313e-01-1.32853498j,  1.63957781e+00+0.j        ,\n",
       "       -1.63436159e+00+0.19853188j, -1.63436159e+00-0.19853188j,\n",
       "        1.53645801e+00+0.07972323j,  1.53645801e+00-0.07972323j,\n",
       "       -1.62537837e+00+0.j        ,  1.34116938e+00+0.53350691j,\n",
       "        1.34116938e+00-0.53350691j, -3.59510091e-01+1.27606669j,\n",
       "       -3.59510091e-01-1.27606669j, -1.17704200e+00+0.69356392j,\n",
       "       -1.17704200e+00-0.69356392j,  1.06154852e+00+0.35114907j,\n",
       "        1.06154852e+00-0.35114907j,  9.19127757e-01+0.j        ,\n",
       "       -2.37673082e-01+0.89585048j, -2.37673082e-01-0.89585048j,\n",
       "        2.22610642e-01+0.7002373j ,  2.22610642e-01-0.7002373j ,\n",
       "       -9.79262177e-01+0.30148676j, -9.79262177e-01-0.30148676j,\n",
       "       -4.18594081e-01+0.69099874j, -4.18594081e-01-0.69099874j,\n",
       "        5.39973364e-01+0.44626322j,  5.39973364e-01-0.44626322j,\n",
       "       -7.66448566e-01+0.1627779j , -7.66448566e-01-0.1627779j ,\n",
       "       -2.26672237e-01+0.j        ,  6.41828757e-02+0.j        ])"
      ]
     },
     "execution_count": 27,
     "metadata": {},
     "output_type": "execute_result"
    }
   ],
   "source": [
    "%%time\n",
    "a = rand(100,100)\n",
    "eigvals(a)"
   ]
  },
  {
   "cell_type": "markdown",
   "metadata": {},
   "source": [
    "**Примечание про присвоение!** _Присвоение в python - не всегда присвоение_ "
   ]
  },
  {
   "cell_type": "code",
   "execution_count": 28,
   "metadata": {
    "editable": true,
    "execution": {
     "iopub.execute_input": "2023-05-11T12:23:29.377858Z",
     "iopub.status.busy": "2023-05-11T12:23:29.377165Z",
     "iopub.status.idle": "2023-05-11T12:23:29.385841Z",
     "shell.execute_reply": "2023-05-11T12:23:29.384664Z",
     "shell.execute_reply.started": "2023-05-11T12:23:29.377798Z"
    },
    "tags": []
   },
   "outputs": [],
   "source": [
    "x = linspace(0,2*pi,100)"
   ]
  },
  {
   "cell_type": "code",
   "execution_count": 29,
   "metadata": {
    "execution": {
     "iopub.execute_input": "2023-05-11T12:23:31.171786Z",
     "iopub.status.busy": "2023-05-11T12:23:31.171584Z",
     "iopub.status.idle": "2023-05-11T12:23:31.177032Z",
     "shell.execute_reply": "2023-05-11T12:23:31.176501Z",
     "shell.execute_reply.started": "2023-05-11T12:23:31.171770Z"
    },
    "tags": []
   },
   "outputs": [
    {
     "data": {
      "text/plain": [
       "array([0.        , 0.06346652, 0.12693304, 0.19039955, 0.25386607,\n",
       "       0.31733259, 0.38079911, 0.44426563, 0.50773215, 0.57119866,\n",
       "       0.63466518, 0.6981317 , 0.76159822, 0.82506474, 0.88853126,\n",
       "       0.95199777, 1.01546429, 1.07893081, 1.14239733, 1.20586385,\n",
       "       1.26933037, 1.33279688, 1.3962634 , 1.45972992, 1.52319644,\n",
       "       1.58666296, 1.65012947, 1.71359599, 1.77706251, 1.84052903,\n",
       "       1.90399555, 1.96746207, 2.03092858, 2.0943951 , 2.15786162,\n",
       "       2.22132814, 2.28479466, 2.34826118, 2.41172769, 2.47519421,\n",
       "       2.53866073, 2.60212725, 2.66559377, 2.72906028, 2.7925268 ,\n",
       "       2.85599332, 2.91945984, 2.98292636, 3.04639288, 3.10985939,\n",
       "       3.17332591, 3.23679243, 3.30025895, 3.36372547, 3.42719199,\n",
       "       3.4906585 , 3.55412502, 3.61759154, 3.68105806, 3.74452458,\n",
       "       3.8079911 , 3.87145761, 3.93492413, 3.99839065, 4.06185717,\n",
       "       4.12532369, 4.1887902 , 4.25225672, 4.31572324, 4.37918976,\n",
       "       4.44265628, 4.5061228 , 4.56958931, 4.63305583, 4.69652235,\n",
       "       4.75998887, 4.82345539, 4.88692191, 4.95038842, 5.01385494,\n",
       "       5.07732146, 5.14078798, 5.2042545 , 5.26772102, 5.33118753,\n",
       "       5.39465405, 5.45812057, 5.52158709, 5.58505361, 5.64852012,\n",
       "       5.71198664, 5.77545316, 5.83891968, 5.9023862 , 5.96585272,\n",
       "       6.02931923, 6.09278575, 6.15625227, 6.21971879, 6.28318531])"
      ]
     },
     "execution_count": 29,
     "metadata": {},
     "output_type": "execute_result"
    }
   ],
   "source": [
    "x"
   ]
  },
  {
   "cell_type": "code",
   "execution_count": 30,
   "metadata": {
    "execution": {
     "iopub.execute_input": "2023-05-11T12:23:33.873802Z",
     "iopub.status.busy": "2023-05-11T12:23:33.873114Z",
     "iopub.status.idle": "2023-05-11T12:23:33.884072Z",
     "shell.execute_reply": "2023-05-11T12:23:33.882343Z",
     "shell.execute_reply.started": "2023-05-11T12:23:33.873739Z"
    },
    "tags": []
   },
   "outputs": [],
   "source": [
    "y = x"
   ]
  },
  {
   "cell_type": "code",
   "execution_count": 31,
   "metadata": {
    "execution": {
     "iopub.execute_input": "2023-05-11T12:23:42.350379Z",
     "iopub.status.busy": "2023-05-11T12:23:42.348407Z",
     "iopub.status.idle": "2023-05-11T12:23:42.361370Z",
     "shell.execute_reply": "2023-05-11T12:23:42.360032Z",
     "shell.execute_reply.started": "2023-05-11T12:23:42.350302Z"
    },
    "tags": []
   },
   "outputs": [
    {
     "data": {
      "text/plain": [
       "0.6346651825433925"
      ]
     },
     "execution_count": 31,
     "metadata": {},
     "output_type": "execute_result"
    }
   ],
   "source": [
    "x[10]"
   ]
  },
  {
   "cell_type": "code",
   "execution_count": 32,
   "metadata": {
    "execution": {
     "iopub.execute_input": "2023-05-11T12:23:43.183672Z",
     "iopub.status.busy": "2023-05-11T12:23:43.182925Z",
     "iopub.status.idle": "2023-05-11T12:23:43.198360Z",
     "shell.execute_reply": "2023-05-11T12:23:43.196701Z",
     "shell.execute_reply.started": "2023-05-11T12:23:43.183568Z"
    },
    "tags": []
   },
   "outputs": [
    {
     "data": {
      "text/plain": [
       "0.6346651825433925"
      ]
     },
     "execution_count": 32,
     "metadata": {},
     "output_type": "execute_result"
    }
   ],
   "source": [
    "y[10]"
   ]
  },
  {
   "cell_type": "code",
   "execution_count": 33,
   "metadata": {
    "execution": {
     "iopub.execute_input": "2023-05-11T12:23:45.165984Z",
     "iopub.status.busy": "2023-05-11T12:23:45.165099Z",
     "iopub.status.idle": "2023-05-11T12:23:45.178586Z",
     "shell.execute_reply": "2023-05-11T12:23:45.176503Z",
     "shell.execute_reply.started": "2023-05-11T12:23:45.165920Z"
    },
    "tags": []
   },
   "outputs": [
    {
     "data": {
      "text/plain": [
       "0.6"
      ]
     },
     "execution_count": 33,
     "metadata": {},
     "output_type": "execute_result"
    }
   ],
   "source": [
    "x[10] = 0.6\n",
    "x[10]"
   ]
  },
  {
   "cell_type": "code",
   "execution_count": null,
   "metadata": {
    "tags": []
   },
   "outputs": [],
   "source": [
    "x"
   ]
  },
  {
   "cell_type": "code",
   "execution_count": 34,
   "metadata": {
    "execution": {
     "iopub.execute_input": "2023-05-11T12:23:53.185709Z",
     "iopub.status.busy": "2023-05-11T12:23:53.185005Z",
     "iopub.status.idle": "2023-05-11T12:23:53.194969Z",
     "shell.execute_reply": "2023-05-11T12:23:53.193996Z",
     "shell.execute_reply.started": "2023-05-11T12:23:53.185642Z"
    },
    "tags": []
   },
   "outputs": [
    {
     "data": {
      "text/plain": [
       "0.6"
      ]
     },
     "execution_count": 34,
     "metadata": {},
     "output_type": "execute_result"
    }
   ],
   "source": [
    "y[10]"
   ]
  },
  {
   "cell_type": "code",
   "execution_count": null,
   "metadata": {
    "tags": []
   },
   "outputs": [],
   "source": [
    "del x,y"
   ]
  },
  {
   "cell_type": "code",
   "execution_count": 35,
   "metadata": {
    "editable": true,
    "execution": {
     "iopub.execute_input": "2023-05-11T12:24:22.902024Z",
     "iopub.status.busy": "2023-05-11T12:24:22.901017Z",
     "iopub.status.idle": "2023-05-11T12:24:22.906855Z",
     "shell.execute_reply": "2023-05-11T12:24:22.905799Z",
     "shell.execute_reply.started": "2023-05-11T12:24:22.901973Z"
    },
    "tags": []
   },
   "outputs": [],
   "source": [
    "x = linspace(0,2*pi,100)"
   ]
  },
  {
   "cell_type": "code",
   "execution_count": 36,
   "metadata": {
    "execution": {
     "iopub.execute_input": "2023-05-11T12:24:23.330298Z",
     "iopub.status.busy": "2023-05-11T12:24:23.329611Z",
     "iopub.status.idle": "2023-05-11T12:24:23.340210Z",
     "shell.execute_reply": "2023-05-11T12:24:23.338177Z",
     "shell.execute_reply.started": "2023-05-11T12:24:23.330237Z"
    },
    "tags": []
   },
   "outputs": [],
   "source": [
    "y = x.copy()"
   ]
  },
  {
   "cell_type": "code",
   "execution_count": 37,
   "metadata": {
    "execution": {
     "iopub.execute_input": "2023-05-11T12:24:24.934645Z",
     "iopub.status.busy": "2023-05-11T12:24:24.933950Z",
     "iopub.status.idle": "2023-05-11T12:24:24.945628Z",
     "shell.execute_reply": "2023-05-11T12:24:24.943326Z",
     "shell.execute_reply.started": "2023-05-11T12:24:24.934580Z"
    },
    "tags": []
   },
   "outputs": [
    {
     "data": {
      "text/plain": [
       "0.6346651825433925"
      ]
     },
     "execution_count": 37,
     "metadata": {},
     "output_type": "execute_result"
    }
   ],
   "source": [
    "x[10]"
   ]
  },
  {
   "cell_type": "code",
   "execution_count": 38,
   "metadata": {
    "execution": {
     "iopub.execute_input": "2023-05-11T12:24:25.155705Z",
     "iopub.status.busy": "2023-05-11T12:24:25.154989Z",
     "iopub.status.idle": "2023-05-11T12:24:25.167064Z",
     "shell.execute_reply": "2023-05-11T12:24:25.165425Z",
     "shell.execute_reply.started": "2023-05-11T12:24:25.155610Z"
    },
    "tags": []
   },
   "outputs": [
    {
     "data": {
      "text/plain": [
       "0.6346651825433925"
      ]
     },
     "execution_count": 38,
     "metadata": {},
     "output_type": "execute_result"
    }
   ],
   "source": [
    "y[10]"
   ]
  },
  {
   "cell_type": "code",
   "execution_count": 39,
   "metadata": {
    "execution": {
     "iopub.execute_input": "2023-05-11T12:24:26.156414Z",
     "iopub.status.busy": "2023-05-11T12:24:26.155686Z",
     "iopub.status.idle": "2023-05-11T12:24:26.170186Z",
     "shell.execute_reply": "2023-05-11T12:24:26.168809Z",
     "shell.execute_reply.started": "2023-05-11T12:24:26.156350Z"
    },
    "tags": []
   },
   "outputs": [
    {
     "data": {
      "text/plain": [
       "0.6"
      ]
     },
     "execution_count": 39,
     "metadata": {},
     "output_type": "execute_result"
    }
   ],
   "source": [
    "x[10] = 0.6\n",
    "x[10]"
   ]
  },
  {
   "cell_type": "code",
   "execution_count": 40,
   "metadata": {
    "execution": {
     "iopub.execute_input": "2023-05-11T12:24:27.889378Z",
     "iopub.status.busy": "2023-05-11T12:24:27.888697Z",
     "iopub.status.idle": "2023-05-11T12:24:27.903982Z",
     "shell.execute_reply": "2023-05-11T12:24:27.900046Z",
     "shell.execute_reply.started": "2023-05-11T12:24:27.889318Z"
    },
    "tags": []
   },
   "outputs": [
    {
     "data": {
      "text/plain": [
       "0.6346651825433925"
      ]
     },
     "execution_count": 40,
     "metadata": {},
     "output_type": "execute_result"
    }
   ],
   "source": [
    "y[10]"
   ]
  },
  {
   "cell_type": "markdown",
   "metadata": {
    "execution": {
     "iopub.execute_input": "2022-11-03T10:24:19.588282Z",
     "iopub.status.busy": "2022-11-03T10:24:19.587554Z",
     "iopub.status.idle": "2022-11-03T10:24:19.597791Z",
     "shell.execute_reply": "2022-11-03T10:24:19.596054Z",
     "shell.execute_reply.started": "2022-11-03T10:24:19.588214Z"
    },
    "tags": []
   },
   "source": [
    "Конструкцию \n",
    "```python3\n",
    "x = linspace(0,2*pi,100)\n",
    "y = x\n",
    "```\n",
    "можно заменить на\n",
    "```python3\n",
    "y = x = linspace(0,2*pi,100)\n",
    "```"
   ]
  },
  {
   "cell_type": "code",
   "execution_count": 41,
   "metadata": {
    "editable": true,
    "execution": {
     "iopub.execute_input": "2023-05-11T12:24:49.942217Z",
     "iopub.status.busy": "2023-05-11T12:24:49.941864Z",
     "iopub.status.idle": "2023-05-11T12:24:49.948494Z",
     "shell.execute_reply": "2023-05-11T12:24:49.947564Z",
     "shell.execute_reply.started": "2023-05-11T12:24:49.942185Z"
    },
    "tags": []
   },
   "outputs": [],
   "source": [
    "y = x = linspace(0,2*pi,100)"
   ]
  },
  {
   "cell_type": "markdown",
   "metadata": {},
   "source": [
    "### Векторные операции, простейшая итерация по элементам массива"
   ]
  },
  {
   "cell_type": "code",
   "execution_count": 42,
   "metadata": {
    "execution": {
     "iopub.execute_input": "2023-05-11T12:24:50.654602Z",
     "iopub.status.busy": "2023-05-11T12:24:50.653890Z",
     "iopub.status.idle": "2023-05-11T12:24:50.675217Z",
     "shell.execute_reply": "2023-05-11T12:24:50.674288Z",
     "shell.execute_reply.started": "2023-05-11T12:24:50.654539Z"
    },
    "tags": []
   },
   "outputs": [],
   "source": [
    "a = rand(1000,1000)"
   ]
  },
  {
   "cell_type": "code",
   "execution_count": 43,
   "metadata": {
    "execution": {
     "iopub.execute_input": "2023-05-11T12:24:51.073533Z",
     "iopub.status.busy": "2023-05-11T12:24:51.072852Z",
     "iopub.status.idle": "2023-05-11T12:24:51.738318Z",
     "shell.execute_reply": "2023-05-11T12:24:51.737707Z",
     "shell.execute_reply.started": "2023-05-11T12:24:51.073473Z"
    },
    "tags": []
   },
   "outputs": [
    {
     "name": "stdout",
     "output_type": "stream",
     "text": [
      "939 µs ± 112 µs per loop (mean ± std. dev. of 7 runs, 100 loops each)\n"
     ]
    }
   ],
   "source": [
    "%timeit -n 100 a**2"
   ]
  },
  {
   "cell_type": "code",
   "execution_count": 44,
   "metadata": {
    "execution": {
     "iopub.execute_input": "2023-05-11T12:24:51.739870Z",
     "iopub.status.busy": "2023-05-11T12:24:51.739570Z",
     "iopub.status.idle": "2023-05-11T12:25:03.953195Z",
     "shell.execute_reply": "2023-05-11T12:25:03.952567Z",
     "shell.execute_reply.started": "2023-05-11T12:24:51.739853Z"
    },
    "tags": []
   },
   "outputs": [
    {
     "name": "stdout",
     "output_type": "stream",
     "text": [
      "17.4 ms ± 51.8 µs per loop (mean ± std. dev. of 7 runs, 100 loops each)\n"
     ]
    }
   ],
   "source": [
    "%timeit -n 100 np.power(a,2)"
   ]
  },
  {
   "cell_type": "code",
   "execution_count": 45,
   "metadata": {
    "execution": {
     "iopub.execute_input": "2023-05-11T12:25:03.954059Z",
     "iopub.status.busy": "2023-05-11T12:25:03.953820Z",
     "iopub.status.idle": "2023-05-11T12:25:03.958277Z",
     "shell.execute_reply": "2023-05-11T12:25:03.957791Z",
     "shell.execute_reply.started": "2023-05-11T12:25:03.954044Z"
    },
    "tags": []
   },
   "outputs": [
    {
     "name": "stdout",
     "output_type": "stream",
     "text": [
      "CPU times: user 2.86 ms, sys: 0 ns, total: 2.86 ms\n",
      "Wall time: 1.46 ms\n"
     ]
    }
   ],
   "source": [
    "%%time\n",
    "asqr1 = a**2"
   ]
  },
  {
   "cell_type": "code",
   "execution_count": 46,
   "metadata": {
    "execution": {
     "iopub.execute_input": "2023-05-11T12:25:03.959349Z",
     "iopub.status.busy": "2023-05-11T12:25:03.959142Z",
     "iopub.status.idle": "2023-05-11T12:25:04.002123Z",
     "shell.execute_reply": "2023-05-11T12:25:04.000941Z",
     "shell.execute_reply.started": "2023-05-11T12:25:03.959335Z"
    },
    "tags": []
   },
   "outputs": [
    {
     "name": "stdout",
     "output_type": "stream",
     "text": [
      "CPU times: user 22.7 ms, sys: 0 ns, total: 22.7 ms\n",
      "Wall time: 22.3 ms\n"
     ]
    }
   ],
   "source": [
    "%%time\n",
    "asqr2 = np.power(a,2)"
   ]
  },
  {
   "cell_type": "code",
   "execution_count": 47,
   "metadata": {
    "execution": {
     "iopub.execute_input": "2023-05-11T12:25:04.003051Z",
     "iopub.status.busy": "2023-05-11T12:25:04.002806Z",
     "iopub.status.idle": "2023-05-11T12:25:04.008361Z",
     "shell.execute_reply": "2023-05-11T12:25:04.007750Z",
     "shell.execute_reply.started": "2023-05-11T12:25:04.003032Z"
    },
    "tags": []
   },
   "outputs": [
    {
     "data": {
      "text/plain": [
       "array([[ True,  True,  True, ...,  True,  True,  True],\n",
       "       [ True,  True,  True, ...,  True,  True,  True],\n",
       "       [ True,  True,  True, ...,  True,  True,  True],\n",
       "       ...,\n",
       "       [ True,  True,  True, ...,  True,  True,  True],\n",
       "       [ True,  True,  True, ...,  True,  True,  True],\n",
       "       [ True,  True,  True, ...,  True,  True,  True]])"
      ]
     },
     "execution_count": 47,
     "metadata": {},
     "output_type": "execute_result"
    }
   ],
   "source": [
    "asqr1 == asqr2"
   ]
  },
  {
   "cell_type": "code",
   "execution_count": 48,
   "metadata": {
    "execution": {
     "iopub.execute_input": "2023-05-11T12:25:08.392977Z",
     "iopub.status.busy": "2023-05-11T12:25:08.392290Z",
     "iopub.status.idle": "2023-05-11T12:25:08.408696Z",
     "shell.execute_reply": "2023-05-11T12:25:08.407198Z",
     "shell.execute_reply.started": "2023-05-11T12:25:08.392916Z"
    },
    "tags": []
   },
   "outputs": [
    {
     "data": {
      "text/plain": [
       "False"
      ]
     },
     "execution_count": 48,
     "metadata": {},
     "output_type": "execute_result"
    }
   ],
   "source": [
    "np.all(asqr1 == asqr2)"
   ]
  },
  {
   "cell_type": "code",
   "execution_count": 49,
   "metadata": {
    "execution": {
     "iopub.execute_input": "2023-05-11T12:25:37.069952Z",
     "iopub.status.busy": "2023-05-11T12:25:37.069272Z",
     "iopub.status.idle": "2023-05-11T12:25:37.076541Z",
     "shell.execute_reply": "2023-05-11T12:25:37.075139Z",
     "shell.execute_reply.started": "2023-05-11T12:25:37.069889Z"
    },
    "tags": []
   },
   "outputs": [],
   "source": [
    "del asqr1,asqr2"
   ]
  },
  {
   "cell_type": "code",
   "execution_count": 50,
   "metadata": {
    "execution": {
     "iopub.execute_input": "2023-05-11T12:25:37.610741Z",
     "iopub.status.busy": "2023-05-11T12:25:37.610059Z",
     "iopub.status.idle": "2023-05-11T12:25:37.620000Z",
     "shell.execute_reply": "2023-05-11T12:25:37.617950Z",
     "shell.execute_reply.started": "2023-05-11T12:25:37.610681Z"
    },
    "tags": []
   },
   "outputs": [],
   "source": [
    "asqr3 = a.copy()"
   ]
  },
  {
   "cell_type": "code",
   "execution_count": 51,
   "metadata": {
    "execution": {
     "iopub.execute_input": "2023-05-11T12:25:45.340219Z",
     "iopub.status.busy": "2023-05-11T12:25:45.339459Z",
     "iopub.status.idle": "2023-05-11T12:25:45.352335Z",
     "shell.execute_reply": "2023-05-11T12:25:45.350788Z",
     "shell.execute_reply.started": "2023-05-11T12:25:45.340157Z"
    },
    "tags": []
   },
   "outputs": [
    {
     "data": {
      "text/plain": [
       "(1000, 1000)"
      ]
     },
     "execution_count": 51,
     "metadata": {},
     "output_type": "execute_result"
    }
   ],
   "source": [
    "a.shape"
   ]
  },
  {
   "cell_type": "code",
   "execution_count": 52,
   "metadata": {
    "execution": {
     "iopub.execute_input": "2023-05-11T12:25:47.493350Z",
     "iopub.status.busy": "2023-05-11T12:25:47.492627Z",
     "iopub.status.idle": "2023-05-11T12:25:47.681749Z",
     "shell.execute_reply": "2023-05-11T12:25:47.681109Z",
     "shell.execute_reply.started": "2023-05-11T12:25:47.493286Z"
    },
    "tags": []
   },
   "outputs": [
    {
     "name": "stdout",
     "output_type": "stream",
     "text": [
      "CPU times: user 173 ms, sys: 7.98 ms, total: 181 ms\n",
      "Wall time: 183 ms\n"
     ]
    }
   ],
   "source": [
    "%%time\n",
    "for l in asqr3:\n",
    "    for c in l:\n",
    "        c = c**2"
   ]
  },
  {
   "cell_type": "markdown",
   "metadata": {},
   "source": [
    "https://numpy.org/doc/stable/reference/arrays.nditer.html"
   ]
  },
  {
   "cell_type": "markdown",
   "metadata": {},
   "source": [
    "### 2Д визуализация "
   ]
  },
  {
   "cell_type": "code",
   "execution_count": 54,
   "metadata": {
    "execution": {
     "iopub.execute_input": "2023-05-11T12:48:03.453362Z",
     "iopub.status.busy": "2023-05-11T12:48:03.451859Z",
     "iopub.status.idle": "2023-05-11T12:48:03.465992Z",
     "shell.execute_reply": "2023-05-11T12:48:03.463181Z",
     "shell.execute_reply.started": "2023-05-11T12:48:03.453284Z"
    },
    "tags": []
   },
   "outputs": [],
   "source": [
    "a = rand(100,100)"
   ]
  },
  {
   "cell_type": "code",
   "execution_count": 55,
   "metadata": {
    "collapsed": false,
    "editable": true,
    "execution": {
     "iopub.execute_input": "2023-05-11T12:48:04.155451Z",
     "iopub.status.busy": "2023-05-11T12:48:04.155102Z",
     "iopub.status.idle": "2023-05-11T12:48:04.387859Z",
     "shell.execute_reply": "2023-05-11T12:48:04.386878Z",
     "shell.execute_reply.started": "2023-05-11T12:48:04.155425Z"
    },
    "jupyter": {
     "outputs_hidden": false
    },
    "tags": []
   },
   "outputs": [
    {
     "data": {
      "text/plain": [
       "<matplotlib.collections.PolyCollection at 0x7efdd50fc190>"
      ]
     },
     "execution_count": 55,
     "metadata": {},
     "output_type": "execute_result"
    },
    {
     "data": {
      "image/png": "[encoded data removed]",
      "text/plain": [
       "<Figure size 640x480 with 1 Axes>"
      ]
     },
     "metadata": {},
     "output_type": "display_data"
    }
   ],
   "source": [
    "pcolor(a)"
   ]
  },
  {
   "cell_type": "code",
   "execution_count": 56,
   "metadata": {
    "deletable": true,
    "editable": true,
    "execution": {
     "iopub.execute_input": "2023-05-11T12:48:05.323944Z",
     "iopub.status.busy": "2023-05-11T12:48:05.316739Z",
     "iopub.status.idle": "2023-05-11T12:48:05.334311Z",
     "shell.execute_reply": "2023-05-11T12:48:05.331705Z",
     "shell.execute_reply.started": "2023-05-11T12:48:05.323860Z"
    },
    "tags": []
   },
   "outputs": [],
   "source": [
    "x,y = meshgrid(x,y)"
   ]
  },
  {
   "cell_type": "code",
   "execution_count": 57,
   "metadata": {
    "deletable": true,
    "editable": true,
    "execution": {
     "iopub.execute_input": "2023-05-11T12:48:05.851165Z",
     "iopub.status.busy": "2023-05-11T12:48:05.850231Z",
     "iopub.status.idle": "2023-05-11T12:48:05.857500Z",
     "shell.execute_reply": "2023-05-11T12:48:05.856611Z",
     "shell.execute_reply.started": "2023-05-11T12:48:05.851125Z"
    },
    "tags": []
   },
   "outputs": [],
   "source": [
    "z = sin(x+y)"
   ]
  },
  {
   "cell_type": "code",
   "execution_count": 58,
   "metadata": {
    "collapsed": false,
    "deletable": true,
    "editable": true,
    "execution": {
     "iopub.execute_input": "2023-05-11T12:48:06.311142Z",
     "iopub.status.busy": "2023-05-11T12:48:06.310439Z",
     "iopub.status.idle": "2023-05-11T12:48:06.506420Z",
     "shell.execute_reply": "2023-05-11T12:48:06.505725Z",
     "shell.execute_reply.started": "2023-05-11T12:48:06.311079Z"
    },
    "jupyter": {
     "outputs_hidden": false
    },
    "tags": []
   },
   "outputs": [
    {
     "data": {
      "text/plain": [
       "<matplotlib.contour.QuadContourSet at 0x7efdd50cb190>"
      ]
     },
     "execution_count": 58,
     "metadata": {},
     "output_type": "execute_result"
    },
    {
     "data": {
      "image/png": "[encoded data removed]",
      "text/plain": [
       "<Figure size 640x480 with 1 Axes>"
      ]
     },
     "metadata": {},
     "output_type": "display_data"
    }
   ],
   "source": [
    "contourf(x,y,z)"
   ]
  },
  {
   "cell_type": "code",
   "execution_count": 59,
   "metadata": {
    "collapsed": false,
    "editable": true,
    "execution": {
     "iopub.execute_input": "2023-05-11T12:48:07.513552Z",
     "iopub.status.busy": "2023-05-11T12:48:07.513244Z",
     "iopub.status.idle": "2023-05-11T12:48:07.766895Z",
     "shell.execute_reply": "2023-05-11T12:48:07.766253Z",
     "shell.execute_reply.started": "2023-05-11T12:48:07.513527Z"
    },
    "jupyter": {
     "outputs_hidden": false
    },
    "tags": []
   },
   "outputs": [
    {
     "data": {
      "text/plain": [
       "<matplotlib.colorbar.Colorbar at 0x7efdd42ff790>"
      ]
     },
     "execution_count": 59,
     "metadata": {},
     "output_type": "execute_result"
    },
    {
     "data": {
      "image/png": "[encoded data removed]",
      "text/plain": [
       "<Figure size 640x480 with 2 Axes>"
      ]
     },
     "metadata": {},
     "output_type": "display_data"
    }
   ],
   "source": [
    "pcolor(x,y,z)\n",
    "colorbar()"
   ]
  },
  {
   "cell_type": "code",
   "execution_count": 60,
   "metadata": {
    "collapsed": false,
    "deletable": true,
    "editable": true,
    "execution": {
     "iopub.execute_input": "2023-05-11T12:48:08.581577Z",
     "iopub.status.busy": "2023-05-11T12:48:08.580790Z",
     "iopub.status.idle": "2023-05-11T12:48:08.832070Z",
     "shell.execute_reply": "2023-05-11T12:48:08.831384Z",
     "shell.execute_reply.started": "2023-05-11T12:48:08.581547Z"
    },
    "jupyter": {
     "outputs_hidden": false
    },
    "tags": []
   },
   "outputs": [
    {
     "data": {
      "text/plain": [
       "<matplotlib.colorbar.Colorbar at 0x7efdd69df790>"
      ]
     },
     "execution_count": 60,
     "metadata": {},
     "output_type": "execute_result"
    },
    {
     "data": {
      "image/png": "[encoded data removed]",
      "text/plain": [
       "<Figure size 640x480 with 2 Axes>"
      ]
     },
     "metadata": {},
     "output_type": "display_data"
    }
   ],
   "source": [
    "contourf(x,y,z,30)\n",
    "colorbar()"
   ]
  },
  {
   "cell_type": "code",
   "execution_count": 61,
   "metadata": {
    "collapsed": false,
    "deletable": true,
    "editable": true,
    "execution": {
     "iopub.execute_input": "2023-05-11T12:48:12.161956Z",
     "iopub.status.busy": "2023-05-11T12:48:12.161273Z",
     "iopub.status.idle": "2023-05-11T12:48:12.346639Z",
     "shell.execute_reply": "2023-05-11T12:48:12.345958Z",
     "shell.execute_reply.started": "2023-05-11T12:48:12.161894Z"
    },
    "jupyter": {
     "outputs_hidden": false
    },
    "tags": []
   },
   "outputs": [
    {
     "data": {
      "text/plain": [
       "<matplotlib.contour.QuadContourSet at 0x7efdd49fc710>"
      ]
     },
     "execution_count": 61,
     "metadata": {},
     "output_type": "execute_result"
    },
    {
     "data": {
      "image/png": "[encoded data removed]",
      "text/plain": [
       "<Figure size 640x480 with 1 Axes>"
      ]
     },
     "metadata": {},
     "output_type": "display_data"
    }
   ],
   "source": [
    "contourf(x,y,z,30,cmap=\"CMRmap\")"
   ]
  },
  {
   "cell_type": "code",
   "execution_count": 62,
   "metadata": {
    "collapsed": false,
    "deletable": true,
    "editable": true,
    "execution": {
     "iopub.execute_input": "2023-05-11T12:48:13.090782Z",
     "iopub.status.busy": "2023-05-11T12:48:13.090391Z",
     "iopub.status.idle": "2023-05-11T12:48:13.259729Z",
     "shell.execute_reply": "2023-05-11T12:48:13.259091Z",
     "shell.execute_reply.started": "2023-05-11T12:48:13.090747Z"
    },
    "jupyter": {
     "outputs_hidden": false
    },
    "tags": []
   },
   "outputs": [
    {
     "data": {
      "text/plain": [
       "<matplotlib.contour.QuadContourSet at 0x7efdd4867d50>"
      ]
     },
     "execution_count": 62,
     "metadata": {},
     "output_type": "execute_result"
    },
    {
     "data": {
      "image/png": "[encoded data removed]",
      "text/plain": [
       "<Figure size 640x480 with 1 Axes>"
      ]
     },
     "metadata": {},
     "output_type": "display_data"
    }
   ],
   "source": [
    "contourf(x,y,z,30,cmap=\"RdBu\")"
   ]
  },
  {
   "cell_type": "markdown",
   "metadata": {},
   "source": [
    "### Данные из текстового файла "
   ]
  },
  {
   "cell_type": "code",
   "execution_count": 63,
   "metadata": {
    "execution": {
     "iopub.execute_input": "2023-05-11T12:48:14.942163Z",
     "iopub.status.busy": "2023-05-11T12:48:14.941285Z",
     "iopub.status.idle": "2023-05-11T12:48:14.955112Z",
     "shell.execute_reply": "2023-05-11T12:48:14.952817Z",
     "shell.execute_reply.started": "2023-05-11T12:48:14.942072Z"
    },
    "tags": []
   },
   "outputs": [],
   "source": [
    "wind_data_file = \"../test_data/wind.txt\""
   ]
  },
  {
   "cell_type": "code",
   "execution_count": 64,
   "metadata": {
    "execution": {
     "iopub.execute_input": "2023-05-11T12:48:24.524911Z",
     "iopub.status.busy": "2023-05-11T12:48:24.524663Z",
     "iopub.status.idle": "2023-05-11T12:48:24.647274Z",
     "shell.execute_reply": "2023-05-11T12:48:24.646277Z",
     "shell.execute_reply.started": "2023-05-11T12:48:24.524883Z"
    },
    "tags": []
   },
   "outputs": [
    {
     "name": "stdout",
     "output_type": "stream",
     "text": [
      "0,0.87,1.18\n",
      "1,1.89,1.96\n",
      "2,-0.23,NaN\n",
      "3,1.85,1.18\n",
      "4,2.64,1.18\n"
     ]
    }
   ],
   "source": [
    "!head -5 $wind_data_file"
   ]
  },
  {
   "cell_type": "code",
   "execution_count": 65,
   "metadata": {
    "execution": {
     "iopub.execute_input": "2023-05-11T12:48:25.622834Z",
     "iopub.status.busy": "2023-05-11T12:48:25.621996Z",
     "iopub.status.idle": "2023-05-11T12:48:25.793190Z",
     "shell.execute_reply": "2023-05-11T12:48:25.792379Z",
     "shell.execute_reply.started": "2023-05-11T12:48:25.622731Z"
    },
    "tags": []
   },
   "outputs": [
    {
     "name": "stdout",
     "output_type": "stream",
     "text": [
      "0,0.87,1.18\n",
      "1,1.89,1.96\n",
      "2,-0.23,NaN\n",
      "3,1.85,1.18\n",
      "4,2.64,1.18\n"
     ]
    }
   ],
   "source": [
    "!head -5 {wind_data_file}"
   ]
  },
  {
   "cell_type": "code",
   "execution_count": 66,
   "metadata": {
    "execution": {
     "iopub.execute_input": "2023-05-11T12:48:29.545850Z",
     "iopub.status.busy": "2023-05-11T12:48:29.544988Z",
     "iopub.status.idle": "2023-05-11T12:48:29.578639Z",
     "shell.execute_reply": "2023-05-11T12:48:29.575385Z",
     "shell.execute_reply.started": "2023-05-11T12:48:29.545747Z"
    },
    "tags": []
   },
   "outputs": [
    {
     "data": {
      "text/plain": [
       "\u001b[0;31mSignature:\u001b[0m\n",
       "\u001b[0mloadtxt\u001b[0m\u001b[0;34m(\u001b[0m\u001b[0;34m\u001b[0m\n",
       "\u001b[0;34m\u001b[0m    \u001b[0mfname\u001b[0m\u001b[0;34m,\u001b[0m\u001b[0;34m\u001b[0m\n",
       "\u001b[0;34m\u001b[0m    \u001b[0mdtype\u001b[0m\u001b[0;34m=\u001b[0m\u001b[0;34m<\u001b[0m\u001b[0;32mclass\u001b[0m \u001b[0;34m'float'\u001b[0m\u001b[0;34m>\u001b[0m\u001b[0;34m,\u001b[0m\u001b[0;34m\u001b[0m\n",
       "\u001b[0;34m\u001b[0m    \u001b[0mcomments\u001b[0m\u001b[0;34m=\u001b[0m\u001b[0;34m'#'\u001b[0m\u001b[0;34m,\u001b[0m\u001b[0;34m\u001b[0m\n",
       "\u001b[0;34m\u001b[0m    \u001b[0mdelimiter\u001b[0m\u001b[0;34m=\u001b[0m\u001b[0;32mNone\u001b[0m\u001b[0;34m,\u001b[0m\u001b[0;34m\u001b[0m\n",
       "\u001b[0;34m\u001b[0m    \u001b[0mconverters\u001b[0m\u001b[0;34m=\u001b[0m\u001b[0;32mNone\u001b[0m\u001b[0;34m,\u001b[0m\u001b[0;34m\u001b[0m\n",
       "\u001b[0;34m\u001b[0m    \u001b[0mskiprows\u001b[0m\u001b[0;34m=\u001b[0m\u001b[0;36m0\u001b[0m\u001b[0;34m,\u001b[0m\u001b[0;34m\u001b[0m\n",
       "\u001b[0;34m\u001b[0m    \u001b[0musecols\u001b[0m\u001b[0;34m=\u001b[0m\u001b[0;32mNone\u001b[0m\u001b[0;34m,\u001b[0m\u001b[0;34m\u001b[0m\n",
       "\u001b[0;34m\u001b[0m    \u001b[0munpack\u001b[0m\u001b[0;34m=\u001b[0m\u001b[0;32mFalse\u001b[0m\u001b[0;34m,\u001b[0m\u001b[0;34m\u001b[0m\n",
       "\u001b[0;34m\u001b[0m    \u001b[0mndmin\u001b[0m\u001b[0;34m=\u001b[0m\u001b[0;36m0\u001b[0m\u001b[0;34m,\u001b[0m\u001b[0;34m\u001b[0m\n",
       "\u001b[0;34m\u001b[0m    \u001b[0mencoding\u001b[0m\u001b[0;34m=\u001b[0m\u001b[0;34m'bytes'\u001b[0m\u001b[0;34m,\u001b[0m\u001b[0;34m\u001b[0m\n",
       "\u001b[0;34m\u001b[0m    \u001b[0mmax_rows\u001b[0m\u001b[0;34m=\u001b[0m\u001b[0;32mNone\u001b[0m\u001b[0;34m,\u001b[0m\u001b[0;34m\u001b[0m\n",
       "\u001b[0;34m\u001b[0m    \u001b[0;34m*\u001b[0m\u001b[0;34m,\u001b[0m\u001b[0;34m\u001b[0m\n",
       "\u001b[0;34m\u001b[0m    \u001b[0mquotechar\u001b[0m\u001b[0;34m=\u001b[0m\u001b[0;32mNone\u001b[0m\u001b[0;34m,\u001b[0m\u001b[0;34m\u001b[0m\n",
       "\u001b[0;34m\u001b[0m    \u001b[0mlike\u001b[0m\u001b[0;34m=\u001b[0m\u001b[0;32mNone\u001b[0m\u001b[0;34m,\u001b[0m\u001b[0;34m\u001b[0m\n",
       "\u001b[0;34m\u001b[0m\u001b[0;34m)\u001b[0m\u001b[0;34m\u001b[0m\u001b[0;34m\u001b[0m\u001b[0m\n",
       "\u001b[0;31mDocstring:\u001b[0m\n",
       "Load data from a text file.\n",
       "\n",
       "Parameters\n",
       "----------\n",
       "fname : file, str, pathlib.Path, list of str, generator\n",
       "    File, filename, list, or generator to read.  If the filename\n",
       "    extension is ``.gz`` or ``.bz2``, the file is first decompressed. Note\n",
       "    that generators must return bytes or strings. The strings\n",
       "    in a list or produced by a generator are treated as lines.\n",
       "dtype : data-type, optional\n",
       "    Data-type of the resulting array; default: float.  If this is a\n",
       "    structured data-type, the resulting array will be 1-dimensional, and\n",
       "    each row will be interpreted as an element of the array.  In this\n",
       "    case, the number of columns used must match the number of fields in\n",
       "    the data-type.\n",
       "comments : str or sequence of str or None, optional\n",
       "    The characters or list of characters used to indicate the start of a\n",
       "    comment. None implies no comments. For backwards compatibility, byte\n",
       "    strings will be decoded as 'latin1'. The default is '#'.\n",
       "delimiter : str, optional\n",
       "    The character used to separate the values. For backwards compatibility,\n",
       "    byte strings will be decoded as 'latin1'. The default is whitespace.\n",
       "\n",
       "    .. versionchanged:: 1.23.0\n",
       "       Only single character delimiters are supported. Newline characters\n",
       "       cannot be used as the delimiter.\n",
       "\n",
       "converters : dict or callable, optional\n",
       "    Converter functions to customize value parsing. If `converters` is\n",
       "    callable, the function is applied to all columns, else it must be a\n",
       "    dict that maps column number to a parser function.\n",
       "    See examples for further details.\n",
       "    Default: None.\n",
       "\n",
       "    .. versionchanged:: 1.23.0\n",
       "       The ability to pass a single callable to be applied to all columns\n",
       "       was added.\n",
       "\n",
       "skiprows : int, optional\n",
       "    Skip the first `skiprows` lines, including comments; default: 0.\n",
       "usecols : int or sequence, optional\n",
       "    Which columns to read, with 0 being the first. For example,\n",
       "    ``usecols = (1,4,5)`` will extract the 2nd, 5th and 6th columns.\n",
       "    The default, None, results in all columns being read.\n",
       "\n",
       "    .. versionchanged:: 1.11.0\n",
       "        When a single column has to be read it is possible to use\n",
       "        an integer instead of a tuple. E.g ``usecols = 3`` reads the\n",
       "        fourth column the same way as ``usecols = (3,)`` would.\n",
       "unpack : bool, optional\n",
       "    If True, the returned array is transposed, so that arguments may be\n",
       "    unpacked using ``x, y, z = loadtxt(...)``.  When used with a\n",
       "    structured data-type, arrays are returned for each field.\n",
       "    Default is False.\n",
       "ndmin : int, optional\n",
       "    The returned array will have at least `ndmin` dimensions.\n",
       "    Otherwise mono-dimensional axes will be squeezed.\n",
       "    Legal values: 0 (default), 1 or 2.\n",
       "\n",
       "    .. versionadded:: 1.6.0\n",
       "encoding : str, optional\n",
       "    Encoding used to decode the inputfile. Does not apply to input streams.\n",
       "    The special value 'bytes' enables backward compatibility workarounds\n",
       "    that ensures you receive byte arrays as results if possible and passes\n",
       "    'latin1' encoded strings to converters. Override this value to receive\n",
       "    unicode arrays and pass strings as input to converters.  If set to None\n",
       "    the system default is used. The default value is 'bytes'.\n",
       "\n",
       "    .. versionadded:: 1.14.0\n",
       "max_rows : int, optional\n",
       "    Read `max_rows` rows of content after `skiprows` lines. The default is\n",
       "    to read all the rows. Note that empty rows containing no data such as\n",
       "    empty lines and comment lines are not counted towards `max_rows`,\n",
       "    while such lines are counted in `skiprows`.\n",
       "\n",
       "    .. versionadded:: 1.16.0\n",
       "    \n",
       "    .. versionchanged:: 1.23.0\n",
       "        Lines containing no data, including comment lines (e.g., lines \n",
       "        starting with '#' or as specified via `comments`) are not counted \n",
       "        towards `max_rows`.\n",
       "quotechar : unicode character or None, optional\n",
       "    The character used to denote the start and end of a quoted item.\n",
       "    Occurrences of the delimiter or comment characters are ignored within\n",
       "    a quoted item. The default value is ``quotechar=None``, which means\n",
       "    quoting support is disabled.\n",
       "\n",
       "    If two consecutive instances of `quotechar` are found within a quoted\n",
       "    field, the first is treated as an escape character. See examples.\n",
       "\n",
       "    .. versionadded:: 1.23.0\n",
       "like : array_like, optional\n",
       "    Reference object to allow the creation of arrays which are not\n",
       "    NumPy arrays. If an array-like passed in as ``like`` supports\n",
       "    the ``__array_function__`` protocol, the result will be defined\n",
       "    by it. In this case, it ensures the creation of an array object\n",
       "    compatible with that passed in via this argument.\n",
       "\n",
       "    .. versionadded:: 1.20.0\n",
       "\n",
       "Returns\n",
       "-------\n",
       "out : ndarray\n",
       "    Data read from the text file.\n",
       "\n",
       "See Also\n",
       "--------\n",
       "load, fromstring, fromregex\n",
       "genfromtxt : Load data with missing values handled as specified.\n",
       "scipy.io.loadmat : reads MATLAB data files\n",
       "\n",
       "Notes\n",
       "-----\n",
       "This function aims to be a fast reader for simply formatted files.  The\n",
       "`genfromtxt` function provides more sophisticated handling of, e.g.,\n",
       "lines with missing values.\n",
       "\n",
       "Each row in the input text file must have the same number of values to be\n",
       "able to read all values. If all rows do not have same number of values, a\n",
       "subset of up to n columns (where n is the least number of values present\n",
       "in all rows) can be read by specifying the columns via `usecols`.\n",
       "\n",
       ".. versionadded:: 1.10.0\n",
       "\n",
       "The strings produced by the Python float.hex method can be used as\n",
       "input for floats.\n",
       "\n",
       "Examples\n",
       "--------\n",
       ">>> from io import StringIO   # StringIO behaves like a file object\n",
       ">>> c = StringIO(\"0 1\\n2 3\")\n",
       ">>> np.loadtxt(c)\n",
       "array([[0., 1.],\n",
       "       [2., 3.]])\n",
       "\n",
       ">>> d = StringIO(\"M 21 72\\nF 35 58\")\n",
       ">>> np.loadtxt(d, dtype={'names': ('gender', 'age', 'weight'),\n",
       "...                      'formats': ('S1', 'i4', 'f4')})\n",
       "array([(b'M', 21, 72.), (b'F', 35, 58.)],\n",
       "      dtype=[('gender', 'S1'), ('age', '<i4'), ('weight', '<f4')])\n",
       "\n",
       ">>> c = StringIO(\"1,0,2\\n3,0,4\")\n",
       ">>> x, y = np.loadtxt(c, delimiter=',', usecols=(0, 2), unpack=True)\n",
       ">>> x\n",
       "array([1., 3.])\n",
       ">>> y\n",
       "array([2., 4.])\n",
       "\n",
       "The `converters` argument is used to specify functions to preprocess the\n",
       "text prior to parsing. `converters` can be a dictionary that maps\n",
       "preprocessing functions to each column:\n",
       "\n",
       ">>> s = StringIO(\"1.618, 2.296\\n3.141, 4.669\\n\")\n",
       ">>> conv = {\n",
       "...     0: lambda x: np.floor(float(x)),  # conversion fn for column 0\n",
       "...     1: lambda x: np.ceil(float(x)),  # conversion fn for column 1\n",
       "... }\n",
       ">>> np.loadtxt(s, delimiter=\",\", converters=conv)\n",
       "array([[1., 3.],\n",
       "       [3., 5.]])\n",
       "\n",
       "`converters` can be a callable instead of a dictionary, in which case it\n",
       "is applied to all columns:\n",
       "\n",
       ">>> s = StringIO(\"0xDE 0xAD\\n0xC0 0xDE\")\n",
       ">>> import functools\n",
       ">>> conv = functools.partial(int, base=16)\n",
       ">>> np.loadtxt(s, converters=conv)\n",
       "array([[222., 173.],\n",
       "       [192., 222.]])\n",
       "\n",
       "This example shows how `converters` can be used to convert a field\n",
       "with a trailing minus sign into a negative number.\n",
       "\n",
       ">>> s = StringIO('10.01 31.25-\\n19.22 64.31\\n17.57- 63.94')\n",
       ">>> def conv(fld):\n",
       "...     return -float(fld[:-1]) if fld.endswith(b'-') else float(fld)\n",
       "...\n",
       ">>> np.loadtxt(s, converters=conv)\n",
       "array([[ 10.01, -31.25],\n",
       "       [ 19.22,  64.31],\n",
       "       [-17.57,  63.94]])\n",
       "\n",
       "Using a callable as the converter can be particularly useful for handling\n",
       "values with different formatting, e.g. floats with underscores:\n",
       "\n",
       ">>> s = StringIO(\"1 2.7 100_000\")\n",
       ">>> np.loadtxt(s, converters=float)\n",
       "array([1.e+00, 2.7e+00, 1.e+05])\n",
       "\n",
       "This idea can be extended to automatically handle values specified in\n",
       "many different formats:\n",
       "\n",
       ">>> def conv(val):\n",
       "...     try:\n",
       "...         return float(val)\n",
       "...     except ValueError:\n",
       "...         return float.fromhex(val)\n",
       ">>> s = StringIO(\"1, 2.5, 3_000, 0b4, 0x1.4000000000000p+2\")\n",
       ">>> np.loadtxt(s, delimiter=\",\", converters=conv, encoding=None)\n",
       "array([1.0e+00, 2.5e+00, 3.0e+03, 1.8e+02, 5.0e+00])\n",
       "\n",
       "Note that with the default ``encoding=\"bytes\"``, the inputs to the\n",
       "converter function are latin-1 encoded byte strings. To deactivate the\n",
       "implicit encoding prior to conversion, use ``encoding=None``\n",
       "\n",
       ">>> s = StringIO('10.01 31.25-\\n19.22 64.31\\n17.57- 63.94')\n",
       ">>> conv = lambda x: -float(x[:-1]) if x.endswith('-') else float(x)\n",
       ">>> np.loadtxt(s, converters=conv, encoding=None)\n",
       "array([[ 10.01, -31.25],\n",
       "       [ 19.22,  64.31],\n",
       "       [-17.57,  63.94]])\n",
       "\n",
       "Support for quoted fields is enabled with the `quotechar` parameter.\n",
       "Comment and delimiter characters are ignored when they appear within a\n",
       "quoted item delineated by `quotechar`:\n",
       "\n",
       ">>> s = StringIO('\"alpha, #42\", 10.0\\n\"beta, #64\", 2.0\\n')\n",
       ">>> dtype = np.dtype([(\"label\", \"U12\"), (\"value\", float)])\n",
       ">>> np.loadtxt(s, dtype=dtype, delimiter=\",\", quotechar='\"')\n",
       "array([('alpha, #42', 10.), ('beta, #64',  2.)],\n",
       "      dtype=[('label', '<U12'), ('value', '<f8')])\n",
       "\n",
       "Quoted fields can be separated by multiple whitespace characters:\n",
       "\n",
       ">>> s = StringIO('\"alpha, #42\"       10.0\\n\"beta, #64\" 2.0\\n')\n",
       ">>> dtype = np.dtype([(\"label\", \"U12\"), (\"value\", float)])\n",
       ">>> np.loadtxt(s, dtype=dtype, delimiter=None, quotechar='\"')\n",
       "array([('alpha, #42', 10.), ('beta, #64',  2.)],\n",
       "      dtype=[('label', '<U12'), ('value', '<f8')])\n",
       "\n",
       "Two consecutive quote characters within a quoted field are treated as a\n",
       "single escaped character:\n",
       "\n",
       ">>> s = StringIO('\"Hello, my name is \"\"Monty\"\"!\"')\n",
       ">>> np.loadtxt(s, dtype=\"U\", delimiter=\",\", quotechar='\"')\n",
       "array('Hello, my name is \"Monty\"!', dtype='<U26')\n",
       "\n",
       "Read subset of columns when all rows do not contain equal number of values:\n",
       "\n",
       ">>> d = StringIO(\"1 2\\n2 4\\n3 9 12\\n4 16 20\")\n",
       ">>> np.loadtxt(d, usecols=(0, 1))\n",
       "array([[ 1.,  2.],\n",
       "       [ 2.,  4.],\n",
       "       [ 3.,  9.],\n",
       "       [ 4., 16.]])\n",
       "\u001b[0;31mFile:\u001b[0m      /opt/mamba/envs/ocean/lib/python3.11/site-packages/numpy/lib/npyio.py\n",
       "\u001b[0;31mType:\u001b[0m      function"
      ]
     },
     "metadata": {},
     "output_type": "display_data"
    }
   ],
   "source": [
    "loadtxt?"
   ]
  },
  {
   "cell_type": "code",
   "execution_count": 67,
   "metadata": {
    "execution": {
     "iopub.execute_input": "2023-05-11T12:48:41.985450Z",
     "iopub.status.busy": "2023-05-11T12:48:41.984728Z",
     "iopub.status.idle": "2023-05-11T12:48:42.217383Z",
     "shell.execute_reply": "2023-05-11T12:48:42.216579Z",
     "shell.execute_reply.started": "2023-05-11T12:48:41.985386Z"
    },
    "tags": []
   },
   "outputs": [],
   "source": [
    "data = genfromtxt(wind_data_file,delimiter=\",\")"
   ]
  },
  {
   "cell_type": "code",
   "execution_count": 68,
   "metadata": {
    "execution": {
     "iopub.execute_input": "2023-05-11T12:48:52.588735Z",
     "iopub.status.busy": "2023-05-11T12:48:52.586407Z",
     "iopub.status.idle": "2023-05-11T12:48:52.602688Z",
     "shell.execute_reply": "2023-05-11T12:48:52.600486Z",
     "shell.execute_reply.started": "2023-05-11T12:48:52.588649Z"
    },
    "tags": []
   },
   "outputs": [
    {
     "data": {
      "text/plain": [
       "(49994, 3)"
      ]
     },
     "execution_count": 68,
     "metadata": {},
     "output_type": "execute_result"
    }
   ],
   "source": [
    "data.shape"
   ]
  },
  {
   "cell_type": "code",
   "execution_count": 69,
   "metadata": {
    "execution": {
     "iopub.execute_input": "2023-05-11T12:48:53.603546Z",
     "iopub.status.busy": "2023-05-11T12:48:53.602036Z",
     "iopub.status.idle": "2023-05-11T12:48:53.665478Z",
     "shell.execute_reply": "2023-05-11T12:48:53.663752Z",
     "shell.execute_reply.started": "2023-05-11T12:48:53.603466Z"
    },
    "tags": []
   },
   "outputs": [
    {
     "ename": "ValueError",
     "evalue": "too many values to unpack (expected 3)",
     "output_type": "error",
     "traceback": [
      "\u001b[0;31m---------------------------------------------------------------------------\u001b[0m",
      "\u001b[0;31mValueError\u001b[0m                                Traceback (most recent call last)",
      "Cell \u001b[0;32mIn[69], line 1\u001b[0m\n\u001b[0;32m----> 1\u001b[0m t,Mag,Dir \u001b[38;5;241m=\u001b[39m data\n",
      "\u001b[0;31mValueError\u001b[0m: too many values to unpack (expected 3)"
     ]
    }
   ],
   "source": [
    "t,Mag,Dir = data"
   ]
  },
  {
   "cell_type": "code",
   "execution_count": 70,
   "metadata": {
    "execution": {
     "iopub.execute_input": "2023-05-11T12:48:56.514178Z",
     "iopub.status.busy": "2023-05-11T12:48:56.512120Z",
     "iopub.status.idle": "2023-05-11T12:48:56.528877Z",
     "shell.execute_reply": "2023-05-11T12:48:56.525620Z",
     "shell.execute_reply.started": "2023-05-11T12:48:56.513998Z"
    },
    "tags": []
   },
   "outputs": [
    {
     "data": {
      "text/plain": [
       "(3, 49994)"
      ]
     },
     "execution_count": 70,
     "metadata": {},
     "output_type": "execute_result"
    }
   ],
   "source": [
    "data.T.shape"
   ]
  },
  {
   "cell_type": "code",
   "execution_count": 71,
   "metadata": {
    "execution": {
     "iopub.execute_input": "2023-05-11T12:48:57.393789Z",
     "iopub.status.busy": "2023-05-11T12:48:57.393063Z",
     "iopub.status.idle": "2023-05-11T12:48:57.402922Z",
     "shell.execute_reply": "2023-05-11T12:48:57.400653Z",
     "shell.execute_reply.started": "2023-05-11T12:48:57.393721Z"
    },
    "tags": []
   },
   "outputs": [],
   "source": [
    "time,Mag,Dir = data.T"
   ]
  },
  {
   "cell_type": "code",
   "execution_count": 72,
   "metadata": {
    "execution": {
     "iopub.execute_input": "2023-05-11T12:48:58.649307Z",
     "iopub.status.busy": "2023-05-11T12:48:58.647291Z",
     "iopub.status.idle": "2023-05-11T12:48:58.664259Z",
     "shell.execute_reply": "2023-05-11T12:48:58.661954Z",
     "shell.execute_reply.started": "2023-05-11T12:48:58.649223Z"
    },
    "tags": []
   },
   "outputs": [
    {
     "data": {
      "text/plain": [
       "(49994,)"
      ]
     },
     "execution_count": 72,
     "metadata": {},
     "output_type": "execute_result"
    }
   ],
   "source": [
    "time.shape"
   ]
  },
  {
   "cell_type": "code",
   "execution_count": 73,
   "metadata": {
    "execution": {
     "iopub.execute_input": "2023-05-11T12:49:02.770347Z",
     "iopub.status.busy": "2023-05-11T12:49:02.769623Z",
     "iopub.status.idle": "2023-05-11T12:49:02.782536Z",
     "shell.execute_reply": "2023-05-11T12:49:02.780085Z",
     "shell.execute_reply.started": "2023-05-11T12:49:02.770284Z"
    },
    "tags": []
   },
   "outputs": [],
   "source": [
    "del time,Mag,Dir"
   ]
  },
  {
   "cell_type": "code",
   "execution_count": 74,
   "metadata": {
    "execution": {
     "iopub.execute_input": "2023-05-11T12:49:03.133213Z",
     "iopub.status.busy": "2023-05-11T12:49:03.131180Z",
     "iopub.status.idle": "2023-05-11T12:49:03.144715Z",
     "shell.execute_reply": "2023-05-11T12:49:03.142281Z",
     "shell.execute_reply.started": "2023-05-11T12:49:03.133132Z"
    },
    "tags": []
   },
   "outputs": [],
   "source": [
    "datadict = {n:v for (n,v) in zip((\"time\",\"Mag\",\"Dir\"),data.T)}"
   ]
  },
  {
   "cell_type": "code",
   "execution_count": 75,
   "metadata": {
    "execution": {
     "iopub.execute_input": "2023-05-11T12:49:03.584582Z",
     "iopub.status.busy": "2023-05-11T12:49:03.582931Z",
     "iopub.status.idle": "2023-05-11T12:49:03.598609Z",
     "shell.execute_reply": "2023-05-11T12:49:03.596471Z",
     "shell.execute_reply.started": "2023-05-11T12:49:03.584503Z"
    },
    "tags": []
   },
   "outputs": [
    {
     "data": {
      "text/plain": [
       "{'time': array([0.0000e+00, 1.0000e+00, 2.0000e+00, ..., 4.9991e+04, 4.9992e+04,\n",
       "        4.9993e+04]),\n",
       " 'Mag': array([ 0.87,  1.89, -0.23, ...,  8.77,  7.67,  3.98]),\n",
       " 'Dir': array([1.18, 1.96,  nan, ..., 5.11, 4.71, 5.11])}"
      ]
     },
     "execution_count": 75,
     "metadata": {},
     "output_type": "execute_result"
    }
   ],
   "source": [
    "datadict"
   ]
  },
  {
   "cell_type": "code",
   "execution_count": 76,
   "metadata": {
    "execution": {
     "iopub.execute_input": "2023-05-11T12:49:04.492599Z",
     "iopub.status.busy": "2023-05-11T12:49:04.491862Z",
     "iopub.status.idle": "2023-05-11T12:49:04.819478Z",
     "shell.execute_reply": "2023-05-11T12:49:04.818800Z",
     "shell.execute_reply.started": "2023-05-11T12:49:04.492536Z"
    },
    "tags": []
   },
   "outputs": [
    {
     "data": {
      "text/plain": [
       "[<matplotlib.lines.Line2D at 0x7efdc751bb90>]"
      ]
     },
     "execution_count": 76,
     "metadata": {},
     "output_type": "execute_result"
    },
    {
     "data": {
      "image/png": "[encoded data removed]",
      "text/plain": [
       "<Figure size 640x480 with 1 Axes>"
      ]
     },
     "metadata": {},
     "output_type": "display_data"
    }
   ],
   "source": [
    "plot(datadict[\"time\"],datadict[\"Mag\"])"
   ]
  },
  {
   "cell_type": "code",
   "execution_count": 77,
   "metadata": {
    "execution": {
     "iopub.execute_input": "2023-05-11T12:49:05.734913Z",
     "iopub.status.busy": "2023-05-11T12:49:05.733714Z",
     "iopub.status.idle": "2023-05-11T12:49:05.900897Z",
     "shell.execute_reply": "2023-05-11T12:49:05.899995Z",
     "shell.execute_reply.started": "2023-05-11T12:49:05.734845Z"
    },
    "tags": []
   },
   "outputs": [],
   "source": [
    "data = genfromtxt(\"../test_data/wind.txt\",delimiter=\",\",names=(\"time\",\"Mag\",\"Dir\"))"
   ]
  },
  {
   "cell_type": "code",
   "execution_count": 78,
   "metadata": {
    "execution": {
     "iopub.execute_input": "2023-05-11T12:49:07.868396Z",
     "iopub.status.busy": "2023-05-11T12:49:07.866345Z",
     "iopub.status.idle": "2023-05-11T12:49:07.883192Z",
     "shell.execute_reply": "2023-05-11T12:49:07.881297Z",
     "shell.execute_reply.started": "2023-05-11T12:49:07.868309Z"
    },
    "tags": []
   },
   "outputs": [
    {
     "data": {
      "text/plain": [
       "array([0.0000e+00, 1.0000e+00, 2.0000e+00, ..., 4.9991e+04, 4.9992e+04,\n",
       "       4.9993e+04])"
      ]
     },
     "execution_count": 78,
     "metadata": {},
     "output_type": "execute_result"
    }
   ],
   "source": [
    "data[\"time\"]"
   ]
  },
  {
   "cell_type": "code",
   "execution_count": 79,
   "metadata": {
    "execution": {
     "iopub.execute_input": "2023-05-11T12:49:09.575890Z",
     "iopub.status.busy": "2023-05-11T12:49:09.575140Z",
     "iopub.status.idle": "2023-05-11T12:49:09.863443Z",
     "shell.execute_reply": "2023-05-11T12:49:09.862748Z",
     "shell.execute_reply.started": "2023-05-11T12:49:09.575825Z"
    },
    "tags": []
   },
   "outputs": [
    {
     "data": {
      "text/plain": [
       "[<matplotlib.lines.Line2D at 0x7efdc7545490>]"
      ]
     },
     "execution_count": 79,
     "metadata": {},
     "output_type": "execute_result"
    },
    {
     "data": {
      "image/png": "[encoded data removed]",
      "text/plain": [
       "<Figure size 640x480 with 1 Axes>"
      ]
     },
     "metadata": {},
     "output_type": "display_data"
    }
   ],
   "source": [
    "plot(data[\"time\"],data[\"Mag\"])"
   ]
  },
  {
   "cell_type": "markdown",
   "metadata": {},
   "source": [
    "## NumPy + Matplotlib + SciPy = PyLAB"
   ]
  },
  {
   "cell_type": "markdown",
   "metadata": {},
   "source": [
    "Использования PyLAB надо избегать!"
   ]
  },
  {
   "cell_type": "code",
   "execution_count": 80,
   "metadata": {
    "execution": {
     "iopub.execute_input": "2023-05-11T12:49:42.926388Z",
     "iopub.status.busy": "2023-05-11T12:49:42.925012Z",
     "iopub.status.idle": "2023-05-11T12:49:42.934803Z",
     "shell.execute_reply": "2023-05-11T12:49:42.932438Z",
     "shell.execute_reply.started": "2023-05-11T12:49:42.926311Z"
    },
    "tags": []
   },
   "outputs": [],
   "source": [
    "import numpy as np\n",
    "import matplotlib.pyplot as plt"
   ]
  },
  {
   "cell_type": "markdown",
   "metadata": {},
   "source": [
    "...to be continued"
   ]
  }
 ],
 "metadata": {
  "kernelspec": {
   "display_name": "ocean",
   "language": "python3",
   "name": "ocean"
  },
  "language_info": {
   "codemirror_mode": {
    "name": "ipython",
    "version": 3
   },
   "file_extension": ".py",
   "mimetype": "text/x-python",
   "name": "python",
   "nbconvert_exporter": "python",
   "pygments_lexer": "ipython3",
   "version": "3.11.0"
  },
  "widgets": {
   "application/vnd.jupyter.widget-state+json": {
    "state": {},
    "version_major": 2,
    "version_minor": 0
   }
  }
 },
 "nbformat": 4,
 "nbformat_minor": 4
}
