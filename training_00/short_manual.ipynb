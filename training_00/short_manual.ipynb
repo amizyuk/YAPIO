{
 "cells": [
  {
   "cell_type": "markdown",
   "metadata": {
    "slideshow": {
     "slide_type": "slide"
    }
   },
   "source": [
    "# Виртуальные окружения Python через Conda\n",
    "# (для ОС Windows 10)\n",
    "*to be updated*"
   ]
  },
  {
   "cell_type": "markdown",
   "metadata": {
    "slideshow": {
     "slide_type": "slide"
    }
   },
   "source": [
    "## 1. Заходим на сайт [conda.io](https://conda.io/miniconda)\n",
    "\n",
    "\n",
    "<img src=\"./pngs/vbox_0000.png\" width=\"70%\"/>"
   ]
  },
  {
   "cell_type": "markdown",
   "metadata": {
    "slideshow": {
     "slide_type": "slide"
    }
   },
   "source": [
    "## 2. Выберем для наших работ Python версии 3\n",
    "\n",
    "<img src=\"./pngs/vbox_0001.png\" width=\"70%\"/>"
   ]
  },
  {
   "cell_type": "markdown",
   "metadata": {
    "slideshow": {
     "slide_type": "slide"
    }
   },
   "source": [
    "## 3. Если вы не знаете разрядность вашей ОС выполним команду (Win+R → cmd)\n",
    "```bash\n",
    "wmic os get osarchitecture\n",
    "```\n",
    "\n",
    "<img src=\"./pngs/vbox_0002.png\" width=\"70%\"/>"
   ]
  },
  {
   "cell_type": "markdown",
   "metadata": {
    "slideshow": {
     "slide_type": "slide"
    }
   },
   "source": [
    "## 4. Качаем нужную версию (в моем случае 32-разрядную)\n",
    "\n",
    "<img src=\"./pngs/vbox_0003.png\" width=\"70%\"/>"
   ]
  },
  {
   "cell_type": "markdown",
   "metadata": {
    "slideshow": {
     "slide_type": "slide"
    }
   },
   "source": [
    "## 5. Запускаем скачанное приложение\n",
    "\n",
    "<img src=\"./pngs/vbox_0004.png\" width=\"70%\"/>"
   ]
  },
  {
   "cell_type": "markdown",
   "metadata": {
    "slideshow": {
     "slide_type": "slide"
    }
   },
   "source": [
    "## 6. Следуем требованиям установщика (рекомендованные настройки на картинках)\n",
    "\n",
    "<img src=\"./pngs/vbox_0005_1.png\" width=\"35%\"/> <img src=\"./pngs/vbox_0005_2.png\" width=\"35%\"/>\n",
    "\n",
    "Для установки рекомендую путь \n",
    "```bash\n",
    "c:\\miniconda3\n",
    "```\n",
    "__Почему?__: *К сожалению в русскоязычной версии Винды python не любит очень многого. Например, пробелы, русские буквы в полном пути к файлам*"
   ]
  },
  {
   "cell_type": "markdown",
   "metadata": {
    "slideshow": {
     "slide_type": "slide"
    }
   },
   "source": [
    "## 7. После установки ищем в меню Пуск Anaconda Promt \n",
    "\n",
    "<img src=\"./pngs/vbox_0007.png\" width=\"70%\"/>\n"
   ]
  },
  {
   "cell_type": "markdown",
   "metadata": {
    "slideshow": {
     "slide_type": "slide"
    }
   },
   "source": [
    "## 8. **conda** – команда управления виртуальными окружениями\n",
    "Проверьте результат команды, по умолчанию базовое окружение называется base\n",
    "```bash\n",
    "conda env list\n",
    "```"
   ]
  },
  {
   "cell_type": "markdown",
   "metadata": {
    "slideshow": {
     "slide_type": "subslide"
    }
   },
   "source": [
    "Создаем новое окружение командой\n",
    "```bash\n",
    "conda env create -f environment.yaml\n",
    "```"
   ]
  },
  {
   "cell_type": "markdown",
   "metadata": {
    "slideshow": {
     "slide_type": "slide"
    }
   },
   "source": [
    "## 9. Когда установщик свяжется с облаком, он будет скачивать оттуда пакеты с зависимостями\n",
    "### т.е. во время установки вам нужно устойчивое интернет соединение\n",
    "##### *вам не нужно самим знать, какие пакеты надо ставить для выполнения всех зависимостей*\n",
    "\n",
    "<img src=\"./pngs/vbox_0009.png\" width=\"60%\"/>\n",
    "\n",
    "В конце установки будет написана инструкция как перейти и выйти из окружения\n",
    "\n",
    "Перейдем в окружение командой\n",
    "```bash\n",
    "conda activate ocean\n",
    "```\n",
    "##### *короткий ликбез \"зачем нужны виртуальные окружения\" будет на вводном занятии*"
   ]
  },
  {
   "cell_type": "markdown",
   "metadata": {
    "slideshow": {
     "slide_type": "slide"
    }
   },
   "source": [
    "## 10. Для тех, кто работал с matlab и хочет аналогичную оболочку\n",
    "![](https://upload.wikimedia.org/wikipedia/commons/thumb/2/21/Matlab_Logo.png/300px-Matlab_Logo.png)\n",
    "\n",
    "## Есть решение - Spyder\n",
    "![](https://pclinks.org/wp-content/uploads/2022/01/1200px-Spyder_logo.svg_-300x300-1.png)\n",
    "\n",
    "\n",
    "Установим его в нашем окружении satocean (видно по вводному слову) с помощью команды\n",
    "```bash\n",
    "(ocean) conda install spyder -c conda-forge\n",
    "```"
   ]
  },
  {
   "cell_type": "markdown",
   "metadata": {
    "slideshow": {
     "slide_type": "slide"
    }
   },
   "source": [
    "## 11. Аналогично соглашаемся с установкой зависимостей\n",
    "\n",
    "<img src=\"./pngs/vbox_0011.png\" width=\"60%\"/>\n"
   ]
  },
  {
   "cell_type": "markdown",
   "metadata": {
    "slideshow": {
     "slide_type": "slide"
    }
   },
   "source": [
    "## 12. Для запуска создадим папку notebooks* перейдем в нее и выполним\n",
    "#### * *(любое другое имя, которое удобно)*\n",
    "\n",
    "```bash\n",
    "(ocean) jupyter lab\n",
    "```\n",
    "<img src=\"./pngs/vbox_0013.png\" width=\"70%\"/>\n",
    "\n",
    "#### *Желательно иметь установленный Chrome, Firefox, Safari ... (Yandex тоже работает). С Edge могут быть проблемы*"
   ]
  },
  {
   "cell_type": "markdown",
   "metadata": {
    "slideshow": {
     "slide_type": "slide"
    }
   },
   "source": [
    "## 13. Создадим \"ноутбук\" (блокнот, тетрадка) кликнув по кнопке\n",
    "\n",
    "<img src=\"./pngs/vbox_0015.png\" width=\"70%\"/>\n"
   ]
  },
  {
   "cell_type": "markdown",
   "metadata": {},
   "source": [
    "### Ноутбук это не просто код на пайтон. Это среда, где могут быть записи, картинки, результаты выполнения кода и т.д. Вплоть до самой статьи."
   ]
  },
  {
   "cell_type": "markdown",
   "metadata": {
    "slideshow": {
     "slide_type": "slide"
    }
   },
   "source": [
    "### Если никаких ошибок по ходу выполнения описанных действий не возникло, значит всё хорошо\n",
    "### Всю последовательность буду проделывать на занятии..."
   ]
  },
  {
   "cell_type": "code",
   "execution_count": 1,
   "metadata": {},
   "outputs": [],
   "source": [
    "import numpy "
   ]
  },
  {
   "cell_type": "code",
   "execution_count": null,
   "metadata": {},
   "outputs": [],
   "source": [
    "numpy.__version__"
   ]
  }
 ],
 "metadata": {
  "kernelspec": {
   "display_name": "ocean",
   "language": "python3",
   "name": "ocean"
  },
  "language_info": {
   "codemirror_mode": {
    "name": "ipython",
    "version": 3
   },
   "file_extension": ".py",
   "mimetype": "text/x-python",
   "name": "python",
   "nbconvert_exporter": "python",
   "pygments_lexer": "ipython3",
   "version": "3.9.15"
  },
  "widgets": {
   "application/vnd.jupyter.widget-state+json": {
    "state": {},
    "version_major": 2,
    "version_minor": 0
   }
  }
 },
 "nbformat": 4,
 "nbformat_minor": 4
}
