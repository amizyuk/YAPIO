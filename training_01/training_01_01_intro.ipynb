{
 "cells": [
  {
   "cell_type": "markdown",
   "metadata": {
    "deletable": true,
    "editable": true,
    "tags": []
   },
   "source": [
    "# Training 1. Основы работы в Jupyter"
   ]
  },
  {
   "cell_type": "markdown",
   "metadata": {},
   "source": [
    "## Цель:\n",
    "научиться работать в среде Jupyter и знать основы языка Python"
   ]
  },
  {
   "cell_type": "markdown",
   "metadata": {
    "deletable": true,
    "editable": true,
    "tags": []
   },
   "source": [
    "## Работа с ячейками"
   ]
  },
  {
   "cell_type": "markdown",
   "metadata": {},
   "source": [
    "### Основные сочетаня клавиш "
   ]
  },
  {
   "cell_type": "markdown",
   "metadata": {},
   "source": [
    "Esc &mdash; переход в режим работы с ячейками"
   ]
  },
  {
   "cell_type": "markdown",
   "metadata": {},
   "source": [
    "a &mdash; создать ячейку выше текущей\\\n",
    "b &mdash; создать ячейку ниже текущей"
   ]
  },
  {
   "cell_type": "markdown",
   "metadata": {},
   "source": [
    "Ctrl+Enter &mdash; выполнить код в ячейке и остаться в ней\\\n",
    "Shift+Enter &mdash; выполнить код в ячейке и перейти в следующую\\\n",
    "Alt+Enter &mdash; выполнить код в ячейке и создать новую ниже"
   ]
  },
  {
   "cell_type": "markdown",
   "metadata": {},
   "source": [
    "x &mdash; вырезать ячейку\\\n",
    "с &mdash; копировать ячейку\\\n",
    "v &mdash; вставить ячейку\\\n",
    "dd &mdash; удалить ячейку"
   ]
  },
  {
   "cell_type": "markdown",
   "metadata": {},
   "source": [
    "m &mdash; тип ячейки Markdown\\\n",
    "y &mdash; тип ячейки сполняемая\\\n",
    "r &mdash; тип ячейки Текстовая (Raw)"
   ]
  },
  {
   "cell_type": "code",
   "execution_count": 1,
   "metadata": {
    "execution": {
     "iopub.execute_input": "2023-05-11T08:06:54.023938Z",
     "iopub.status.busy": "2023-05-11T08:06:54.023653Z",
     "iopub.status.idle": "2023-05-11T08:06:54.028154Z",
     "shell.execute_reply": "2023-05-11T08:06:54.027382Z",
     "shell.execute_reply.started": "2023-05-11T08:06:54.023911Z"
    },
    "tags": []
   },
   "outputs": [],
   "source": [
    "# Комментарий"
   ]
  },
  {
   "cell_type": "raw",
   "metadata": {},
   "source": [
    "## Текстовая ячейка не рендерится в MD"
   ]
  },
  {
   "cell_type": "markdown",
   "metadata": {},
   "source": [
    "Ctrl+Shift+c &mdash; список команд\\\n",
    "Ctrl+f &mdash; поиск"
   ]
  },
  {
   "cell_type": "markdown",
   "metadata": {},
   "source": [
    "### \"Магические\" комнады  "
   ]
  },
  {
   "cell_type": "code",
   "execution_count": 2,
   "metadata": {
    "execution": {
     "iopub.execute_input": "2023-05-11T08:07:07.964381Z",
     "iopub.status.busy": "2023-05-11T08:07:07.963913Z",
     "iopub.status.idle": "2023-05-11T08:07:07.978050Z",
     "shell.execute_reply": "2023-05-11T08:07:07.977413Z",
     "shell.execute_reply.started": "2023-05-11T08:07:07.964337Z"
    },
    "tags": []
   },
   "outputs": [
    {
     "data": {
      "application/json": {
       "cell": {
        "!": "OSMagics",
        "HTML": "Other",
        "SVG": "Other",
        "bash": "Other",
        "capture": "ExecutionMagics",
        "debug": "ExecutionMagics",
        "file": "Other",
        "html": "DisplayMagics",
        "javascript": "DisplayMagics",
        "js": "DisplayMagics",
        "latex": "DisplayMagics",
        "markdown": "DisplayMagics",
        "perl": "Other",
        "prun": "ExecutionMagics",
        "pypy": "Other",
        "python": "Other",
        "python2": "Other",
        "python3": "Other",
        "ruby": "Other",
        "script": "ScriptMagics",
        "sh": "Other",
        "svg": "DisplayMagics",
        "sx": "OSMagics",
        "system": "OSMagics",
        "time": "ExecutionMagics",
        "timeit": "ExecutionMagics",
        "writefile": "OSMagics"
       },
       "line": {
        "alias": "OSMagics",
        "alias_magic": "BasicMagics",
        "autoawait": "AsyncMagics",
        "autocall": "AutoMagics",
        "automagic": "AutoMagics",
        "autosave": "KernelMagics",
        "bookmark": "OSMagics",
        "cat": "Other",
        "cd": "OSMagics",
        "clear": "KernelMagics",
        "colors": "BasicMagics",
        "conda": "PackagingMagics",
        "config": "ConfigMagics",
        "connect_info": "KernelMagics",
        "cp": "Other",
        "debug": "ExecutionMagics",
        "dhist": "OSMagics",
        "dirs": "OSMagics",
        "doctest_mode": "BasicMagics",
        "ed": "Other",
        "edit": "KernelMagics",
        "env": "OSMagics",
        "gui": "BasicMagics",
        "hist": "Other",
        "history": "HistoryMagics",
        "killbgscripts": "ScriptMagics",
        "ldir": "Other",
        "less": "KernelMagics",
        "lf": "Other",
        "lk": "Other",
        "ll": "Other",
        "load": "CodeMagics",
        "load_ext": "ExtensionMagics",
        "loadpy": "CodeMagics",
        "logoff": "LoggingMagics",
        "logon": "LoggingMagics",
        "logstart": "LoggingMagics",
        "logstate": "LoggingMagics",
        "logstop": "LoggingMagics",
        "ls": "Other",
        "lsmagic": "BasicMagics",
        "lx": "Other",
        "macro": "ExecutionMagics",
        "magic": "BasicMagics",
        "man": "KernelMagics",
        "matplotlib": "PylabMagics",
        "mkdir": "Other",
        "more": "KernelMagics",
        "mv": "Other",
        "notebook": "BasicMagics",
        "page": "BasicMagics",
        "pastebin": "CodeMagics",
        "pdb": "ExecutionMagics",
        "pdef": "NamespaceMagics",
        "pdoc": "NamespaceMagics",
        "pfile": "NamespaceMagics",
        "pinfo": "NamespaceMagics",
        "pinfo2": "NamespaceMagics",
        "pip": "PackagingMagics",
        "popd": "OSMagics",
        "pprint": "BasicMagics",
        "precision": "BasicMagics",
        "prun": "ExecutionMagics",
        "psearch": "NamespaceMagics",
        "psource": "NamespaceMagics",
        "pushd": "OSMagics",
        "pwd": "OSMagics",
        "pycat": "OSMagics",
        "pylab": "PylabMagics",
        "qtconsole": "KernelMagics",
        "quickref": "BasicMagics",
        "recall": "HistoryMagics",
        "rehashx": "OSMagics",
        "reload_ext": "ExtensionMagics",
        "rep": "Other",
        "rerun": "HistoryMagics",
        "reset": "NamespaceMagics",
        "reset_selective": "NamespaceMagics",
        "rm": "Other",
        "rmdir": "Other",
        "run": "ExecutionMagics",
        "save": "CodeMagics",
        "sc": "OSMagics",
        "set_env": "OSMagics",
        "store": "StoreMagics",
        "sx": "OSMagics",
        "system": "OSMagics",
        "tb": "ExecutionMagics",
        "time": "ExecutionMagics",
        "timeit": "ExecutionMagics",
        "unalias": "OSMagics",
        "unload_ext": "ExtensionMagics",
        "who": "NamespaceMagics",
        "who_ls": "NamespaceMagics",
        "whos": "NamespaceMagics",
        "xdel": "NamespaceMagics",
        "xmode": "BasicMagics"
       }
      },
      "text/plain": [
       "Available line magics:\n",
       "%alias  %alias_magic  %autoawait  %autocall  %automagic  %autosave  %bookmark  %cat  %cd  %clear  %colors  %conda  %config  %connect_info  %cp  %debug  %dhist  %dirs  %doctest_mode  %ed  %edit  %env  %gui  %hist  %history  %killbgscripts  %ldir  %less  %lf  %lk  %ll  %load  %load_ext  %loadpy  %logoff  %logon  %logstart  %logstate  %logstop  %ls  %lsmagic  %lx  %macro  %magic  %man  %matplotlib  %mkdir  %more  %mv  %notebook  %page  %pastebin  %pdb  %pdef  %pdoc  %pfile  %pinfo  %pinfo2  %pip  %popd  %pprint  %precision  %prun  %psearch  %psource  %pushd  %pwd  %pycat  %pylab  %qtconsole  %quickref  %recall  %rehashx  %reload_ext  %rep  %rerun  %reset  %reset_selective  %rm  %rmdir  %run  %save  %sc  %set_env  %store  %sx  %system  %tb  %time  %timeit  %unalias  %unload_ext  %who  %who_ls  %whos  %xdel  %xmode\n",
       "\n",
       "Available cell magics:\n",
       "%%!  %%HTML  %%SVG  %%bash  %%capture  %%debug  %%file  %%html  %%javascript  %%js  %%latex  %%markdown  %%perl  %%prun  %%pypy  %%python  %%python2  %%python3  %%ruby  %%script  %%sh  %%svg  %%sx  %%system  %%time  %%timeit  %%writefile\n",
       "\n",
       "Automagic is ON, % prefix IS NOT needed for line magics."
      ]
     },
     "execution_count": 2,
     "metadata": {},
     "output_type": "execute_result"
    }
   ],
   "source": [
    "%lsmagic"
   ]
  },
  {
   "cell_type": "code",
   "execution_count": 3,
   "metadata": {
    "execution": {
     "iopub.execute_input": "2023-05-11T08:07:08.701485Z",
     "iopub.status.busy": "2023-05-11T08:07:08.700817Z",
     "iopub.status.idle": "2023-05-11T08:07:08.709705Z",
     "shell.execute_reply": "2023-05-11T08:07:08.708353Z",
     "shell.execute_reply.started": "2023-05-11T08:07:08.701424Z"
    },
    "tags": []
   },
   "outputs": [
    {
     "name": "stdout",
     "output_type": "stream",
     "text": [
      "Interactive namespace is empty.\n"
     ]
    }
   ],
   "source": [
    "%whos"
   ]
  },
  {
   "cell_type": "code",
   "execution_count": 4,
   "metadata": {
    "execution": {
     "iopub.execute_input": "2023-05-11T08:07:09.296286Z",
     "iopub.status.busy": "2023-05-11T08:07:09.295825Z",
     "iopub.status.idle": "2023-05-11T08:07:09.303375Z",
     "shell.execute_reply": "2023-05-11T08:07:09.302299Z",
     "shell.execute_reply.started": "2023-05-11T08:07:09.296244Z"
    },
    "tags": []
   },
   "outputs": [
    {
     "data": {
      "text/plain": [
       "\u001b[0;31mDocstring:\u001b[0m\n",
       "Like %who, but gives some extra information about each variable.\n",
       "\n",
       "The same type filtering of %who can be applied here.\n",
       "\n",
       "For all variables, the type is printed. Additionally it prints:\n",
       "\n",
       "  - For {},[],(): their length.\n",
       "\n",
       "  - For numpy arrays, a summary with shape, number of\n",
       "    elements, typecode and size in memory.\n",
       "\n",
       "  - Everything else: a string representation, snipping their middle if\n",
       "    too long.\n",
       "\n",
       "Examples\n",
       "--------\n",
       "Define two variables and list them with whos::\n",
       "\n",
       "  In [1]: alpha = 123\n",
       "\n",
       "  In [2]: beta = 'test'\n",
       "\n",
       "  In [3]: %whos\n",
       "  Variable   Type        Data/Info\n",
       "  --------------------------------\n",
       "  alpha      int         123\n",
       "  beta       str         test\n",
       "\u001b[0;31mFile:\u001b[0m      /opt/mamba/envs/ocean/lib/python3.11/site-packages/IPython/core/magics/namespace.py"
      ]
     },
     "metadata": {},
     "output_type": "display_data"
    }
   ],
   "source": [
    "%whos?"
   ]
  },
  {
   "cell_type": "code",
   "execution_count": 5,
   "metadata": {
    "execution": {
     "iopub.execute_input": "2023-05-11T08:07:10.099580Z",
     "iopub.status.busy": "2023-05-11T08:07:10.099361Z",
     "iopub.status.idle": "2023-05-11T08:07:10.103448Z",
     "shell.execute_reply": "2023-05-11T08:07:10.102903Z",
     "shell.execute_reply.started": "2023-05-11T08:07:10.099563Z"
    },
    "tags": []
   },
   "outputs": [
    {
     "name": "stdout",
     "output_type": "stream",
     "text": [
      "Overwriting test.txt\n"
     ]
    }
   ],
   "source": [
    "%%writefile test.txt\n",
    "Try read this 1234\n",
    "Try read this 1234\n",
    "Try read this 1234"
   ]
  },
  {
   "cell_type": "markdown",
   "metadata": {
    "deletable": true,
    "editable": true,
    "tags": []
   },
   "source": [
    "## Арифметика (Python)"
   ]
  },
  {
   "cell_type": "markdown",
   "metadata": {
    "deletable": true,
    "editable": true,
    "tags": []
   },
   "source": [
    "\"Голый\" интерпритатор (консоль, jupyter) содержит минимум необходимых функций и позволяет выполнять простую арифметику из коробки (import не нужен)"
   ]
  },
  {
   "cell_type": "code",
   "execution_count": 6,
   "metadata": {
    "collapsed": false,
    "deletable": true,
    "editable": true,
    "execution": {
     "iopub.execute_input": "2023-05-11T08:07:26.159709Z",
     "iopub.status.busy": "2023-05-11T08:07:26.159473Z",
     "iopub.status.idle": "2023-05-11T08:07:26.164998Z",
     "shell.execute_reply": "2023-05-11T08:07:26.164238Z",
     "shell.execute_reply.started": "2023-05-11T08:07:26.159693Z"
    },
    "jupyter": {
     "outputs_hidden": false
    },
    "tags": []
   },
   "outputs": [
    {
     "data": {
      "text/plain": [
       "23"
      ]
     },
     "execution_count": 6,
     "metadata": {},
     "output_type": "execute_result"
    }
   ],
   "source": [
    "5+18"
   ]
  },
  {
   "cell_type": "code",
   "execution_count": 7,
   "metadata": {
    "collapsed": false,
    "deletable": true,
    "editable": true,
    "execution": {
     "iopub.execute_input": "2023-05-11T08:07:26.660599Z",
     "iopub.status.busy": "2023-05-11T08:07:26.660341Z",
     "iopub.status.idle": "2023-05-11T08:07:26.664998Z",
     "shell.execute_reply": "2023-05-11T08:07:26.664348Z",
     "shell.execute_reply.started": "2023-05-11T08:07:26.660576Z"
    },
    "jupyter": {
     "outputs_hidden": false
    },
    "tags": []
   },
   "outputs": [
    {
     "data": {
      "text/plain": [
       "23.2"
      ]
     },
     "execution_count": 7,
     "metadata": {},
     "output_type": "execute_result"
    }
   ],
   "source": [
    "5+18.2"
   ]
  },
  {
   "cell_type": "code",
   "execution_count": 8,
   "metadata": {
    "collapsed": false,
    "editable": true,
    "execution": {
     "iopub.execute_input": "2023-05-11T08:07:27.014221Z",
     "iopub.status.busy": "2023-05-11T08:07:27.013944Z",
     "iopub.status.idle": "2023-05-11T08:07:27.020420Z",
     "shell.execute_reply": "2023-05-11T08:07:27.019823Z",
     "shell.execute_reply.started": "2023-05-11T08:07:27.014195Z"
    },
    "jupyter": {
     "outputs_hidden": false
    },
    "tags": []
   },
   "outputs": [
    {
     "data": {
      "text/plain": [
       "30"
      ]
     },
     "execution_count": 8,
     "metadata": {},
     "output_type": "execute_result"
    }
   ],
   "source": [
    "15*2"
   ]
  },
  {
   "cell_type": "code",
   "execution_count": 9,
   "metadata": {
    "collapsed": false,
    "editable": true,
    "execution": {
     "iopub.execute_input": "2023-05-11T08:07:27.222036Z",
     "iopub.status.busy": "2023-05-11T08:07:27.221785Z",
     "iopub.status.idle": "2023-05-11T08:07:27.226368Z",
     "shell.execute_reply": "2023-05-11T08:07:27.225786Z",
     "shell.execute_reply.started": "2023-05-11T08:07:27.222014Z"
    },
    "jupyter": {
     "outputs_hidden": false
    },
    "tags": []
   },
   "outputs": [
    {
     "data": {
      "text/plain": [
       "30.0"
      ]
     },
     "execution_count": 9,
     "metadata": {},
     "output_type": "execute_result"
    }
   ],
   "source": [
    "15.*2"
   ]
  },
  {
   "cell_type": "code",
   "execution_count": 10,
   "metadata": {
    "collapsed": false,
    "deletable": true,
    "editable": true,
    "execution": {
     "iopub.execute_input": "2023-05-11T08:07:27.443786Z",
     "iopub.status.busy": "2023-05-11T08:07:27.443518Z",
     "iopub.status.idle": "2023-05-11T08:07:27.447827Z",
     "shell.execute_reply": "2023-05-11T08:07:27.447158Z",
     "shell.execute_reply.started": "2023-05-11T08:07:27.443764Z"
    },
    "jupyter": {
     "outputs_hidden": false
    },
    "tags": []
   },
   "outputs": [
    {
     "data": {
      "text/plain": [
       "6.0"
      ]
     },
     "execution_count": 10,
     "metadata": {},
     "output_type": "execute_result"
    }
   ],
   "source": [
    "30/5"
   ]
  },
  {
   "cell_type": "markdown",
   "metadata": {
    "editable": true
   },
   "source": [
    "__*Деление в Python 3 всегда с типом float (в отличие от Python 2)!*__"
   ]
  },
  {
   "cell_type": "code",
   "execution_count": 11,
   "metadata": {
    "collapsed": false,
    "deletable": true,
    "editable": true,
    "execution": {
     "iopub.execute_input": "2023-05-11T08:07:28.470168Z",
     "iopub.status.busy": "2023-05-11T08:07:28.469910Z",
     "iopub.status.idle": "2023-05-11T08:07:28.473985Z",
     "shell.execute_reply": "2023-05-11T08:07:28.473336Z",
     "shell.execute_reply.started": "2023-05-11T08:07:28.470149Z"
    },
    "jupyter": {
     "outputs_hidden": false
    },
    "tags": []
   },
   "outputs": [
    {
     "data": {
      "text/plain": [
       "6.25"
      ]
     },
     "execution_count": 11,
     "metadata": {},
     "output_type": "execute_result"
    }
   ],
   "source": [
    "30/4.8"
   ]
  },
  {
   "cell_type": "code",
   "execution_count": 12,
   "metadata": {
    "collapsed": false,
    "deletable": true,
    "editable": true,
    "execution": {
     "iopub.execute_input": "2023-05-11T08:07:28.945754Z",
     "iopub.status.busy": "2023-05-11T08:07:28.945523Z",
     "iopub.status.idle": "2023-05-11T08:07:28.949647Z",
     "shell.execute_reply": "2023-05-11T08:07:28.949050Z",
     "shell.execute_reply.started": "2023-05-11T08:07:28.945734Z"
    },
    "jupyter": {
     "outputs_hidden": false
    },
    "tags": []
   },
   "outputs": [
    {
     "data": {
      "text/plain": [
       "-4"
      ]
     },
     "execution_count": 12,
     "metadata": {},
     "output_type": "execute_result"
    }
   ],
   "source": [
    "15-19"
   ]
  },
  {
   "cell_type": "markdown",
   "metadata": {
    "deletable": true,
    "editable": true
   },
   "source": [
    "Определение типа с помощью _type()_"
   ]
  },
  {
   "cell_type": "code",
   "execution_count": 13,
   "metadata": {
    "collapsed": false,
    "deletable": true,
    "editable": true,
    "execution": {
     "iopub.execute_input": "2023-05-11T08:07:29.583372Z",
     "iopub.status.busy": "2023-05-11T08:07:29.583113Z",
     "iopub.status.idle": "2023-05-11T08:07:29.588053Z",
     "shell.execute_reply": "2023-05-11T08:07:29.587362Z",
     "shell.execute_reply.started": "2023-05-11T08:07:29.583349Z"
    },
    "jupyter": {
     "outputs_hidden": false
    },
    "tags": []
   },
   "outputs": [
    {
     "data": {
      "text/plain": [
       "(int, float)"
      ]
     },
     "execution_count": 13,
     "metadata": {},
     "output_type": "execute_result"
    }
   ],
   "source": [
    "type(5),type(5.)"
   ]
  },
  {
   "cell_type": "markdown",
   "metadata": {
    "deletable": true,
    "editable": true
   },
   "source": [
    "Возведение в степень"
   ]
  },
  {
   "cell_type": "code",
   "execution_count": 14,
   "metadata": {
    "collapsed": false,
    "deletable": true,
    "editable": true,
    "execution": {
     "iopub.execute_input": "2023-05-11T08:07:30.695066Z",
     "iopub.status.busy": "2023-05-11T08:07:30.694846Z",
     "iopub.status.idle": "2023-05-11T08:07:30.699370Z",
     "shell.execute_reply": "2023-05-11T08:07:30.698764Z",
     "shell.execute_reply.started": "2023-05-11T08:07:30.695047Z"
    },
    "jupyter": {
     "outputs_hidden": false
    },
    "tags": []
   },
   "outputs": [
    {
     "data": {
      "text/plain": [
       "125"
      ]
     },
     "execution_count": 14,
     "metadata": {},
     "output_type": "execute_result"
    }
   ],
   "source": [
    "5**3"
   ]
  },
  {
   "cell_type": "code",
   "execution_count": 15,
   "metadata": {
    "collapsed": false,
    "deletable": true,
    "editable": true,
    "execution": {
     "iopub.execute_input": "2023-05-11T08:07:31.363282Z",
     "iopub.status.busy": "2023-05-11T08:07:31.363028Z",
     "iopub.status.idle": "2023-05-11T08:07:31.368087Z",
     "shell.execute_reply": "2023-05-11T08:07:31.367456Z",
     "shell.execute_reply.started": "2023-05-11T08:07:31.363259Z"
    },
    "jupyter": {
     "outputs_hidden": false
    },
    "tags": []
   },
   "outputs": [
    {
     "data": {
      "text/plain": [
       "125"
      ]
     },
     "execution_count": 15,
     "metadata": {},
     "output_type": "execute_result"
    }
   ],
   "source": [
    "pow(5,3)"
   ]
  },
  {
   "cell_type": "markdown",
   "metadata": {},
   "source": [
    "Остаток от деления"
   ]
  },
  {
   "cell_type": "code",
   "execution_count": 16,
   "metadata": {
    "execution": {
     "iopub.execute_input": "2023-05-11T08:07:32.886905Z",
     "iopub.status.busy": "2023-05-11T08:07:32.886242Z",
     "iopub.status.idle": "2023-05-11T08:07:32.897465Z",
     "shell.execute_reply": "2023-05-11T08:07:32.895909Z",
     "shell.execute_reply.started": "2023-05-11T08:07:32.886844Z"
    },
    "tags": []
   },
   "outputs": [
    {
     "data": {
      "text/plain": [
       "1"
      ]
     },
     "execution_count": 16,
     "metadata": {},
     "output_type": "execute_result"
    }
   ],
   "source": [
    "31 % 3"
   ]
  },
  {
   "cell_type": "code",
   "execution_count": 17,
   "metadata": {
    "collapsed": false,
    "deletable": true,
    "editable": true,
    "execution": {
     "iopub.execute_input": "2023-05-11T08:07:33.500934Z",
     "iopub.status.busy": "2023-05-11T08:07:33.500682Z",
     "iopub.status.idle": "2023-05-11T08:07:33.505109Z",
     "shell.execute_reply": "2023-05-11T08:07:33.504605Z",
     "shell.execute_reply.started": "2023-05-11T08:07:33.500912Z"
    },
    "jupyter": {
     "outputs_hidden": false
    },
    "tags": []
   },
   "outputs": [
    {
     "data": {
      "text/plain": [
       "(10, 1)"
      ]
     },
     "execution_count": 17,
     "metadata": {},
     "output_type": "execute_result"
    }
   ],
   "source": [
    "divmod(31,3)"
   ]
  },
  {
   "cell_type": "markdown",
   "metadata": {
    "deletable": true,
    "editable": true,
    "execution": {
     "iopub.execute_input": "2022-10-26T18:29:06.664562Z",
     "iopub.status.busy": "2022-10-26T18:29:06.664349Z",
     "iopub.status.idle": "2022-10-26T18:29:06.668690Z",
     "shell.execute_reply": "2022-10-26T18:29:06.668230Z",
     "shell.execute_reply.started": "2022-10-26T18:29:06.664544Z"
    },
    "jupyter": {
     "outputs_hidden": false
    },
    "tags": []
   },
   "source": [
    "Округление _round()_"
   ]
  },
  {
   "cell_type": "code",
   "execution_count": 18,
   "metadata": {
    "collapsed": false,
    "deletable": true,
    "editable": true,
    "execution": {
     "iopub.execute_input": "2023-05-11T08:07:47.875277Z",
     "iopub.status.busy": "2023-05-11T08:07:47.874781Z",
     "iopub.status.idle": "2023-05-11T08:07:47.880444Z",
     "shell.execute_reply": "2023-05-11T08:07:47.879665Z",
     "shell.execute_reply.started": "2023-05-11T08:07:47.875259Z"
    },
    "jupyter": {
     "outputs_hidden": false
    },
    "tags": []
   },
   "outputs": [
    {
     "data": {
      "text/plain": [
       "(12, 13)"
      ]
     },
     "execution_count": 18,
     "metadata": {},
     "output_type": "execute_result"
    }
   ],
   "source": [
    "round(12.499999),round(12.500001)"
   ]
  },
  {
   "cell_type": "markdown",
   "metadata": {
    "tags": []
   },
   "source": [
    "## Символьные переменные"
   ]
  },
  {
   "cell_type": "code",
   "execution_count": 19,
   "metadata": {
    "editable": true,
    "execution": {
     "iopub.execute_input": "2023-05-11T08:07:53.193014Z",
     "iopub.status.busy": "2023-05-11T08:07:53.192665Z",
     "iopub.status.idle": "2023-05-11T08:07:53.197496Z",
     "shell.execute_reply": "2023-05-11T08:07:53.196519Z",
     "shell.execute_reply.started": "2023-05-11T08:07:53.192983Z"
    },
    "tags": []
   },
   "outputs": [],
   "source": [
    "bstr = 'abcdefghijklmnopqrstwxyz'"
   ]
  },
  {
   "cell_type": "code",
   "execution_count": 20,
   "metadata": {
    "collapsed": false,
    "editable": true,
    "execution": {
     "iopub.execute_input": "2023-05-11T08:07:53.428472Z",
     "iopub.status.busy": "2023-05-11T08:07:53.428210Z",
     "iopub.status.idle": "2023-05-11T08:07:53.433545Z",
     "shell.execute_reply": "2023-05-11T08:07:53.432895Z",
     "shell.execute_reply.started": "2023-05-11T08:07:53.428449Z"
    },
    "jupyter": {
     "outputs_hidden": false
    },
    "tags": []
   },
   "outputs": [
    {
     "data": {
      "text/plain": [
       "'Abcdefghijklmnopqrstwxyz'"
      ]
     },
     "execution_count": 20,
     "metadata": {},
     "output_type": "execute_result"
    }
   ],
   "source": [
    "bstr.capitalize()"
   ]
  },
  {
   "cell_type": "code",
   "execution_count": 21,
   "metadata": {
    "editable": true,
    "execution": {
     "iopub.execute_input": "2023-05-11T08:07:53.645410Z",
     "iopub.status.busy": "2023-05-11T08:07:53.644949Z",
     "iopub.status.idle": "2023-05-11T08:07:53.649734Z",
     "shell.execute_reply": "2023-05-11T08:07:53.648896Z",
     "shell.execute_reply.started": "2023-05-11T08:07:53.645375Z"
    },
    "tags": []
   },
   "outputs": [],
   "source": [
    "bstr = bstr+\",\"+bstr"
   ]
  },
  {
   "cell_type": "code",
   "execution_count": 22,
   "metadata": {
    "collapsed": false,
    "editable": true,
    "execution": {
     "iopub.execute_input": "2023-05-11T08:07:54.255758Z",
     "iopub.status.busy": "2023-05-11T08:07:54.255441Z",
     "iopub.status.idle": "2023-05-11T08:07:54.259367Z",
     "shell.execute_reply": "2023-05-11T08:07:54.258663Z",
     "shell.execute_reply.started": "2023-05-11T08:07:54.255732Z"
    },
    "jupyter": {
     "outputs_hidden": false
    },
    "tags": []
   },
   "outputs": [],
   "source": [
    "l1 = bstr.split(',')"
   ]
  },
  {
   "cell_type": "code",
   "execution_count": 23,
   "metadata": {
    "collapsed": false,
    "editable": true,
    "execution": {
     "iopub.execute_input": "2023-05-11T08:07:54.633981Z",
     "iopub.status.busy": "2023-05-11T08:07:54.633726Z",
     "iopub.status.idle": "2023-05-11T08:07:54.638100Z",
     "shell.execute_reply": "2023-05-11T08:07:54.637386Z",
     "shell.execute_reply.started": "2023-05-11T08:07:54.633955Z"
    },
    "jupyter": {
     "outputs_hidden": false
    },
    "tags": []
   },
   "outputs": [],
   "source": [
    "bstr = bstr+\"\\n\"+bstr+\"\\n\""
   ]
  },
  {
   "cell_type": "code",
   "execution_count": 24,
   "metadata": {
    "collapsed": false,
    "editable": true,
    "execution": {
     "iopub.execute_input": "2023-05-11T08:07:54.916554Z",
     "iopub.status.busy": "2023-05-11T08:07:54.916255Z",
     "iopub.status.idle": "2023-05-11T08:07:54.921252Z",
     "shell.execute_reply": "2023-05-11T08:07:54.920495Z",
     "shell.execute_reply.started": "2023-05-11T08:07:54.916529Z"
    },
    "jupyter": {
     "outputs_hidden": false
    },
    "tags": []
   },
   "outputs": [
    {
     "data": {
      "text/plain": [
       "['abcdefghijklmnopqrstwxyz,abcdefghijklmnopqrstwxyz',\n",
       " 'abcdefghijklmnopqrstwxyz,abcdefghijklmnopqrstwxyz']"
      ]
     },
     "execution_count": 24,
     "metadata": {},
     "output_type": "execute_result"
    }
   ],
   "source": [
    "bstr.splitlines()"
   ]
  },
  {
   "cell_type": "code",
   "execution_count": 25,
   "metadata": {
    "execution": {
     "iopub.execute_input": "2023-05-11T08:07:55.328848Z",
     "iopub.status.busy": "2023-05-11T08:07:55.328171Z",
     "iopub.status.idle": "2023-05-11T08:07:55.342417Z",
     "shell.execute_reply": "2023-05-11T08:07:55.340710Z",
     "shell.execute_reply.started": "2023-05-11T08:07:55.328787Z"
    },
    "tags": []
   },
   "outputs": [
    {
     "data": {
      "text/plain": [
       "'abcdefghijklmnopqrstwxyz,abcdefghijklmnopqrstwxyz abcdefghijklmnopqrstwxyz,abcdefghijklmnopqrstwxyz'"
      ]
     },
     "execution_count": 25,
     "metadata": {},
     "output_type": "execute_result"
    }
   ],
   "source": [
    "\" \".join(bstr.splitlines())"
   ]
  },
  {
   "cell_type": "code",
   "execution_count": 26,
   "metadata": {
    "execution": {
     "iopub.execute_input": "2023-05-11T08:07:56.424981Z",
     "iopub.status.busy": "2023-05-11T08:07:56.424318Z",
     "iopub.status.idle": "2023-05-11T08:07:56.433545Z",
     "shell.execute_reply": "2023-05-11T08:07:56.432435Z",
     "shell.execute_reply.started": "2023-05-11T08:07:56.424920Z"
    },
    "tags": []
   },
   "outputs": [
    {
     "data": {
      "text/plain": [
       "'abcdefghijklmnopqrstwxyz,abcdefghijklmnopqrstwxyz_abcdefghijklmnopqrstwxyz,abcdefghijklmnopqrstwxyz'"
      ]
     },
     "execution_count": 26,
     "metadata": {},
     "output_type": "execute_result"
    }
   ],
   "source": [
    "\"_\".join(bstr.splitlines())"
   ]
  },
  {
   "cell_type": "code",
   "execution_count": 27,
   "metadata": {
    "collapsed": false,
    "editable": true,
    "execution": {
     "iopub.execute_input": "2023-05-11T08:07:56.698182Z",
     "iopub.status.busy": "2023-05-11T08:07:56.697938Z",
     "iopub.status.idle": "2023-05-11T08:07:56.704256Z",
     "shell.execute_reply": "2023-05-11T08:07:56.703521Z",
     "shell.execute_reply.started": "2023-05-11T08:07:56.698160Z"
    },
    "jupyter": {
     "outputs_hidden": false
    },
    "tags": []
   },
   "outputs": [
    {
     "data": {
      "text/plain": [
       "True"
      ]
     },
     "execution_count": 27,
     "metadata": {},
     "output_type": "execute_result"
    }
   ],
   "source": [
    "'q' in bstr"
   ]
  },
  {
   "cell_type": "code",
   "execution_count": 28,
   "metadata": {
    "collapsed": false,
    "editable": true,
    "execution": {
     "iopub.execute_input": "2023-05-11T08:07:57.074636Z",
     "iopub.status.busy": "2023-05-11T08:07:57.074346Z",
     "iopub.status.idle": "2023-05-11T08:07:57.081370Z",
     "shell.execute_reply": "2023-05-11T08:07:57.080628Z",
     "shell.execute_reply.started": "2023-05-11T08:07:57.074609Z"
    },
    "jupyter": {
     "outputs_hidden": false
    },
    "tags": []
   },
   "outputs": [
    {
     "data": {
      "text/plain": [
       "True"
      ]
     },
     "execution_count": 28,
     "metadata": {},
     "output_type": "execute_result"
    }
   ],
   "source": [
    "'a' in bstr"
   ]
  },
  {
   "cell_type": "code",
   "execution_count": 29,
   "metadata": {
    "collapsed": false,
    "editable": true,
    "execution": {
     "iopub.execute_input": "2023-05-11T08:07:57.315528Z",
     "iopub.status.busy": "2023-05-11T08:07:57.315239Z",
     "iopub.status.idle": "2023-05-11T08:07:57.320169Z",
     "shell.execute_reply": "2023-05-11T08:07:57.319397Z",
     "shell.execute_reply.started": "2023-05-11T08:07:57.315502Z"
    },
    "jupyter": {
     "outputs_hidden": false
    },
    "tags": []
   },
   "outputs": [
    {
     "data": {
      "text/plain": [
       "True"
      ]
     },
     "execution_count": 29,
     "metadata": {},
     "output_type": "execute_result"
    }
   ],
   "source": [
    "'abcde' in bstr"
   ]
  },
  {
   "cell_type": "code",
   "execution_count": 30,
   "metadata": {
    "collapsed": false,
    "editable": true,
    "execution": {
     "iopub.execute_input": "2023-05-11T08:07:57.576342Z",
     "iopub.status.busy": "2023-05-11T08:07:57.575890Z",
     "iopub.status.idle": "2023-05-11T08:07:57.585534Z",
     "shell.execute_reply": "2023-05-11T08:07:57.584402Z",
     "shell.execute_reply.started": "2023-05-11T08:07:57.576300Z"
    },
    "jupyter": {
     "outputs_hidden": false
    },
    "tags": []
   },
   "outputs": [
    {
     "data": {
      "text/plain": [
       "False"
      ]
     },
     "execution_count": 30,
     "metadata": {},
     "output_type": "execute_result"
    }
   ],
   "source": [
    "'abcb' in bstr"
   ]
  },
  {
   "cell_type": "markdown",
   "metadata": {
    "tags": []
   },
   "source": [
    "## Типы данных: обобщение и конвертирование"
   ]
  },
  {
   "cell_type": "code",
   "execution_count": 31,
   "metadata": {
    "execution": {
     "iopub.execute_input": "2023-05-11T08:07:59.068605Z",
     "iopub.status.busy": "2023-05-11T08:07:59.067906Z",
     "iopub.status.idle": "2023-05-11T08:07:59.083199Z",
     "shell.execute_reply": "2023-05-11T08:07:59.081906Z",
     "shell.execute_reply.started": "2023-05-11T08:07:59.068544Z"
    },
    "tags": []
   },
   "outputs": [
    {
     "data": {
      "text/plain": [
       "int"
      ]
     },
     "execution_count": 31,
     "metadata": {},
     "output_type": "execute_result"
    }
   ],
   "source": [
    "type(5)"
   ]
  },
  {
   "cell_type": "code",
   "execution_count": 32,
   "metadata": {
    "execution": {
     "iopub.execute_input": "2023-05-11T08:07:59.884585Z",
     "iopub.status.busy": "2023-05-11T08:07:59.884396Z",
     "iopub.status.idle": "2023-05-11T08:07:59.889749Z",
     "shell.execute_reply": "2023-05-11T08:07:59.889216Z",
     "shell.execute_reply.started": "2023-05-11T08:07:59.884569Z"
    },
    "tags": []
   },
   "outputs": [
    {
     "data": {
      "text/plain": [
       "5"
      ]
     },
     "execution_count": 32,
     "metadata": {},
     "output_type": "execute_result"
    }
   ],
   "source": [
    "int(5.)"
   ]
  },
  {
   "cell_type": "code",
   "execution_count": 33,
   "metadata": {
    "execution": {
     "iopub.execute_input": "2023-05-11T08:08:00.128129Z",
     "iopub.status.busy": "2023-05-11T08:08:00.127883Z",
     "iopub.status.idle": "2023-05-11T08:08:00.134143Z",
     "shell.execute_reply": "2023-05-11T08:08:00.133514Z",
     "shell.execute_reply.started": "2023-05-11T08:08:00.128108Z"
    },
    "tags": []
   },
   "outputs": [
    {
     "data": {
      "text/plain": [
       "float"
      ]
     },
     "execution_count": 33,
     "metadata": {},
     "output_type": "execute_result"
    }
   ],
   "source": [
    "type(5.)"
   ]
  },
  {
   "cell_type": "code",
   "execution_count": 34,
   "metadata": {
    "execution": {
     "iopub.execute_input": "2023-05-11T08:08:00.351967Z",
     "iopub.status.busy": "2023-05-11T08:08:00.351230Z",
     "iopub.status.idle": "2023-05-11T08:08:00.361594Z",
     "shell.execute_reply": "2023-05-11T08:08:00.360159Z",
     "shell.execute_reply.started": "2023-05-11T08:08:00.351901Z"
    },
    "tags": []
   },
   "outputs": [
    {
     "data": {
      "text/plain": [
       "5.0"
      ]
     },
     "execution_count": 34,
     "metadata": {},
     "output_type": "execute_result"
    }
   ],
   "source": [
    "float(5)"
   ]
  },
  {
   "cell_type": "code",
   "execution_count": 35,
   "metadata": {
    "execution": {
     "iopub.execute_input": "2023-05-11T08:08:00.655621Z",
     "iopub.status.busy": "2023-05-11T08:08:00.655332Z",
     "iopub.status.idle": "2023-05-11T08:08:00.660784Z",
     "shell.execute_reply": "2023-05-11T08:08:00.659873Z",
     "shell.execute_reply.started": "2023-05-11T08:08:00.655596Z"
    },
    "tags": []
   },
   "outputs": [
    {
     "data": {
      "text/plain": [
       "str"
      ]
     },
     "execution_count": 35,
     "metadata": {},
     "output_type": "execute_result"
    }
   ],
   "source": [
    "type(\"text\")"
   ]
  },
  {
   "cell_type": "code",
   "execution_count": 36,
   "metadata": {
    "execution": {
     "iopub.execute_input": "2023-05-11T08:08:00.915605Z",
     "iopub.status.busy": "2023-05-11T08:08:00.915325Z",
     "iopub.status.idle": "2023-05-11T08:08:00.920276Z",
     "shell.execute_reply": "2023-05-11T08:08:00.919625Z",
     "shell.execute_reply.started": "2023-05-11T08:08:00.915579Z"
    },
    "tags": []
   },
   "outputs": [
    {
     "data": {
      "text/plain": [
       "'5'"
      ]
     },
     "execution_count": 36,
     "metadata": {},
     "output_type": "execute_result"
    }
   ],
   "source": [
    "str(5)"
   ]
  },
  {
   "cell_type": "code",
   "execution_count": 37,
   "metadata": {
    "execution": {
     "iopub.execute_input": "2023-05-11T08:08:01.151042Z",
     "iopub.status.busy": "2023-05-11T08:08:01.150334Z",
     "iopub.status.idle": "2023-05-11T08:08:01.160619Z",
     "shell.execute_reply": "2023-05-11T08:08:01.159279Z",
     "shell.execute_reply.started": "2023-05-11T08:08:01.150981Z"
    },
    "tags": []
   },
   "outputs": [
    {
     "data": {
      "text/plain": [
       "str"
      ]
     },
     "execution_count": 37,
     "metadata": {},
     "output_type": "execute_result"
    }
   ],
   "source": [
    "type('text')"
   ]
  },
  {
   "cell_type": "code",
   "execution_count": 38,
   "metadata": {
    "execution": {
     "iopub.execute_input": "2023-05-11T08:08:01.355101Z",
     "iopub.status.busy": "2023-05-11T08:08:01.354397Z",
     "iopub.status.idle": "2023-05-11T08:08:01.366977Z",
     "shell.execute_reply": "2023-05-11T08:08:01.365287Z",
     "shell.execute_reply.started": "2023-05-11T08:08:01.355038Z"
    },
    "tags": []
   },
   "outputs": [
    {
     "data": {
      "text/plain": [
       "10"
      ]
     },
     "execution_count": 38,
     "metadata": {},
     "output_type": "execute_result"
    }
   ],
   "source": [
    "int(\"10\")"
   ]
  },
  {
   "cell_type": "code",
   "execution_count": 39,
   "metadata": {
    "execution": {
     "iopub.execute_input": "2023-05-11T08:08:01.539720Z",
     "iopub.status.busy": "2023-05-11T08:08:01.539475Z",
     "iopub.status.idle": "2023-05-11T08:08:01.544201Z",
     "shell.execute_reply": "2023-05-11T08:08:01.543469Z",
     "shell.execute_reply.started": "2023-05-11T08:08:01.539700Z"
    },
    "tags": []
   },
   "outputs": [
    {
     "data": {
      "text/plain": [
       "0.0001"
      ]
     },
     "execution_count": 39,
     "metadata": {},
     "output_type": "execute_result"
    }
   ],
   "source": [
    "float(\"10.e-5\")"
   ]
  },
  {
   "cell_type": "code",
   "execution_count": 40,
   "metadata": {
    "execution": {
     "iopub.execute_input": "2023-05-11T08:08:01.744405Z",
     "iopub.status.busy": "2023-05-11T08:08:01.743225Z",
     "iopub.status.idle": "2023-05-11T08:08:01.886844Z",
     "shell.execute_reply": "2023-05-11T08:08:01.885911Z",
     "shell.execute_reply.started": "2023-05-11T08:08:01.744338Z"
    },
    "tags": []
   },
   "outputs": [
    {
     "ename": "ValueError",
     "evalue": "invalid literal for int() with base 10: 't'",
     "output_type": "error",
     "traceback": [
      "\u001b[0;31m---------------------------------------------------------------------------\u001b[0m",
      "\u001b[0;31mValueError\u001b[0m                                Traceback (most recent call last)",
      "Cell \u001b[0;32mIn[40], line 1\u001b[0m\n\u001b[0;32m----> 1\u001b[0m \u001b[38;5;28;43mint\u001b[39;49m\u001b[43m(\u001b[49m\u001b[38;5;124;43m\"\u001b[39;49m\u001b[38;5;124;43mt\u001b[39;49m\u001b[38;5;124;43m\"\u001b[39;49m\u001b[43m)\u001b[49m\n",
      "\u001b[0;31mValueError\u001b[0m: invalid literal for int() with base 10: 't'"
     ]
    }
   ],
   "source": [
    "int(\"t\")"
   ]
  },
  {
   "cell_type": "code",
   "execution_count": 41,
   "metadata": {
    "execution": {
     "iopub.execute_input": "2023-05-11T08:08:01.946092Z",
     "iopub.status.busy": "2023-05-11T08:08:01.945103Z",
     "iopub.status.idle": "2023-05-11T08:08:01.950210Z",
     "shell.execute_reply": "2023-05-11T08:08:01.949526Z",
     "shell.execute_reply.started": "2023-05-11T08:08:01.946062Z"
    },
    "tags": []
   },
   "outputs": [
    {
     "data": {
      "text/plain": [
       "bool"
      ]
     },
     "execution_count": 41,
     "metadata": {},
     "output_type": "execute_result"
    }
   ],
   "source": [
    "type(True)"
   ]
  },
  {
   "cell_type": "code",
   "execution_count": 42,
   "metadata": {
    "execution": {
     "iopub.execute_input": "2023-05-11T08:08:02.121035Z",
     "iopub.status.busy": "2023-05-11T08:08:02.120825Z",
     "iopub.status.idle": "2023-05-11T08:08:02.127156Z",
     "shell.execute_reply": "2023-05-11T08:08:02.124678Z",
     "shell.execute_reply.started": "2023-05-11T08:08:02.121021Z"
    },
    "tags": []
   },
   "outputs": [
    {
     "data": {
      "text/plain": [
       "str"
      ]
     },
     "execution_count": 42,
     "metadata": {},
     "output_type": "execute_result"
    }
   ],
   "source": [
    "type(\"True\")"
   ]
  },
  {
   "cell_type": "code",
   "execution_count": 43,
   "metadata": {
    "execution": {
     "iopub.execute_input": "2023-05-11T08:08:03.657235Z",
     "iopub.status.busy": "2023-05-11T08:08:03.656552Z",
     "iopub.status.idle": "2023-05-11T08:08:03.666194Z",
     "shell.execute_reply": "2023-05-11T08:08:03.664868Z",
     "shell.execute_reply.started": "2023-05-11T08:08:03.657173Z"
    },
    "tags": []
   },
   "outputs": [
    {
     "data": {
      "text/plain": [
       "True"
      ]
     },
     "execution_count": 43,
     "metadata": {},
     "output_type": "execute_result"
    }
   ],
   "source": [
    "bool(\"True\")"
   ]
  },
  {
   "cell_type": "code",
   "execution_count": 44,
   "metadata": {
    "execution": {
     "iopub.execute_input": "2023-05-11T08:08:03.866865Z",
     "iopub.status.busy": "2023-05-11T08:08:03.866168Z",
     "iopub.status.idle": "2023-05-11T08:08:03.877763Z",
     "shell.execute_reply": "2023-05-11T08:08:03.876525Z",
     "shell.execute_reply.started": "2023-05-11T08:08:03.866804Z"
    },
    "tags": []
   },
   "outputs": [
    {
     "data": {
      "text/plain": [
       "True"
      ]
     },
     "execution_count": 44,
     "metadata": {},
     "output_type": "execute_result"
    }
   ],
   "source": [
    "bool(10)"
   ]
  },
  {
   "cell_type": "code",
   "execution_count": 45,
   "metadata": {
    "execution": {
     "iopub.execute_input": "2023-05-11T08:08:04.066659Z",
     "iopub.status.busy": "2023-05-11T08:08:04.065986Z",
     "iopub.status.idle": "2023-05-11T08:08:04.076864Z",
     "shell.execute_reply": "2023-05-11T08:08:04.075883Z",
     "shell.execute_reply.started": "2023-05-11T08:08:04.066598Z"
    },
    "tags": []
   },
   "outputs": [
    {
     "data": {
      "text/plain": [
       "False"
      ]
     },
     "execution_count": 45,
     "metadata": {},
     "output_type": "execute_result"
    }
   ],
   "source": [
    "bool(0)"
   ]
  },
  {
   "cell_type": "code",
   "execution_count": 46,
   "metadata": {
    "execution": {
     "iopub.execute_input": "2023-05-11T08:08:04.267127Z",
     "iopub.status.busy": "2023-05-11T08:08:04.264941Z",
     "iopub.status.idle": "2023-05-11T08:08:04.292425Z",
     "shell.execute_reply": "2023-05-11T08:08:04.291583Z",
     "shell.execute_reply.started": "2023-05-11T08:08:04.267048Z"
    },
    "tags": []
   },
   "outputs": [
    {
     "ename": "NameError",
     "evalue": "name 'true' is not defined",
     "output_type": "error",
     "traceback": [
      "\u001b[0;31m---------------------------------------------------------------------------\u001b[0m",
      "\u001b[0;31mNameError\u001b[0m                                 Traceback (most recent call last)",
      "Cell \u001b[0;32mIn[46], line 1\u001b[0m\n\u001b[0;32m----> 1\u001b[0m \u001b[38;5;28mtype\u001b[39m(\u001b[43mtrue\u001b[49m)\n",
      "\u001b[0;31mNameError\u001b[0m: name 'true' is not defined"
     ]
    }
   ],
   "source": [
    "type(true)"
   ]
  },
  {
   "cell_type": "code",
   "execution_count": 47,
   "metadata": {
    "execution": {
     "iopub.execute_input": "2023-05-11T08:08:04.457106Z",
     "iopub.status.busy": "2023-05-11T08:08:04.455353Z",
     "iopub.status.idle": "2023-05-11T08:08:04.465302Z",
     "shell.execute_reply": "2023-05-11T08:08:04.464216Z",
     "shell.execute_reply.started": "2023-05-11T08:08:04.457034Z"
    },
    "tags": []
   },
   "outputs": [
    {
     "data": {
      "text/plain": [
       "NoneType"
      ]
     },
     "execution_count": 47,
     "metadata": {},
     "output_type": "execute_result"
    }
   ],
   "source": [
    "type(None)"
   ]
  },
  {
   "cell_type": "markdown",
   "metadata": {},
   "source": [
    "## Ввод и вывод"
   ]
  },
  {
   "cell_type": "markdown",
   "metadata": {},
   "source": [
    "### Присвоение"
   ]
  },
  {
   "cell_type": "code",
   "execution_count": 48,
   "metadata": {
    "editable": true,
    "execution": {
     "iopub.execute_input": "2023-05-11T08:08:21.314393Z",
     "iopub.status.busy": "2023-05-11T08:08:21.313982Z",
     "iopub.status.idle": "2023-05-11T08:08:21.320927Z",
     "shell.execute_reply": "2023-05-11T08:08:21.320026Z",
     "shell.execute_reply.started": "2023-05-11T08:08:21.314361Z"
    },
    "tags": []
   },
   "outputs": [],
   "source": [
    "a = 10.\n",
    "b = 12.5"
   ]
  },
  {
   "cell_type": "markdown",
   "metadata": {
    "editable": true
   },
   "source": [
    "В одну строку"
   ]
  },
  {
   "cell_type": "code",
   "execution_count": 49,
   "metadata": {
    "editable": true,
    "execution": {
     "iopub.execute_input": "2023-05-11T08:08:22.379662Z",
     "iopub.status.busy": "2023-05-11T08:08:22.379250Z",
     "iopub.status.idle": "2023-05-11T08:08:22.385235Z",
     "shell.execute_reply": "2023-05-11T08:08:22.384316Z",
     "shell.execute_reply.started": "2023-05-11T08:08:22.379604Z"
    },
    "tags": []
   },
   "outputs": [],
   "source": [
    "c,d = 15.85,-4.27"
   ]
  },
  {
   "cell_type": "code",
   "execution_count": 50,
   "metadata": {
    "collapsed": false,
    "editable": true,
    "execution": {
     "iopub.execute_input": "2023-05-11T08:08:22.589622Z",
     "iopub.status.busy": "2023-05-11T08:08:22.589376Z",
     "iopub.status.idle": "2023-05-11T08:08:22.604195Z",
     "shell.execute_reply": "2023-05-11T08:08:22.603172Z",
     "shell.execute_reply.started": "2023-05-11T08:08:22.589601Z"
    },
    "jupyter": {
     "outputs_hidden": false
    },
    "tags": []
   },
   "outputs": [
    {
     "ename": "ValueError",
     "evalue": "too many values to unpack (expected 2)",
     "output_type": "error",
     "traceback": [
      "\u001b[0;31m---------------------------------------------------------------------------\u001b[0m",
      "\u001b[0;31mValueError\u001b[0m                                Traceback (most recent call last)",
      "Cell \u001b[0;32mIn[50], line 1\u001b[0m\n\u001b[0;32m----> 1\u001b[0m c,d \u001b[38;5;241m=\u001b[39m \u001b[38;5;241m15.85\u001b[39m,\u001b[38;5;241m-\u001b[39m\u001b[38;5;241m4.27\u001b[39m,\u001b[38;5;241m8\u001b[39m\n",
      "\u001b[0;31mValueError\u001b[0m: too many values to unpack (expected 2)"
     ]
    }
   ],
   "source": [
    "c,d = 15.85,-4.27,8"
   ]
  },
  {
   "cell_type": "markdown",
   "metadata": {},
   "source": [
    " &ndash; _Как озадачить сотрудника, читающего твой код, на несколько часов?_ \\\n",
    " &ndash; _Добавить где-то в началае_:\\\n",
    " &emsp;     __true, false = False, True__"
   ]
  },
  {
   "cell_type": "code",
   "execution_count": 51,
   "metadata": {
    "execution": {
     "iopub.execute_input": "2023-05-11T08:08:24.444694Z",
     "iopub.status.busy": "2023-05-11T08:08:24.443486Z",
     "iopub.status.idle": "2023-05-11T08:08:24.454669Z",
     "shell.execute_reply": "2023-05-11T08:08:24.453163Z",
     "shell.execute_reply.started": "2023-05-11T08:08:24.444624Z"
    },
    "tags": []
   },
   "outputs": [
    {
     "name": "stdout",
     "output_type": "stream",
     "text": [
      "Variable   Type     Data/Info\n",
      "-----------------------------\n",
      "a          float    10.0\n",
      "b          float    12.5\n",
      "bstr       str      abcdefghijklmnopqrstwxyz,<...>bcdefghijklmnopqrstwxyz\\n\n",
      "c          float    15.85\n",
      "d          float    -4.27\n",
      "l1         list     n=2\n"
     ]
    }
   ],
   "source": [
    "%whos"
   ]
  },
  {
   "cell_type": "code",
   "execution_count": 52,
   "metadata": {
    "execution": {
     "iopub.execute_input": "2023-05-11T08:08:27.484291Z",
     "iopub.status.busy": "2023-05-11T08:08:27.483663Z",
     "iopub.status.idle": "2023-05-11T08:08:27.489919Z",
     "shell.execute_reply": "2023-05-11T08:08:27.488824Z",
     "shell.execute_reply.started": "2023-05-11T08:08:27.484249Z"
    },
    "tags": []
   },
   "outputs": [],
   "source": [
    "del d"
   ]
  },
  {
   "cell_type": "code",
   "execution_count": 53,
   "metadata": {
    "execution": {
     "iopub.execute_input": "2023-05-11T08:08:27.880885Z",
     "iopub.status.busy": "2023-05-11T08:08:27.880171Z",
     "iopub.status.idle": "2023-05-11T08:08:27.888696Z",
     "shell.execute_reply": "2023-05-11T08:08:27.887221Z",
     "shell.execute_reply.started": "2023-05-11T08:08:27.880822Z"
    },
    "tags": []
   },
   "outputs": [
    {
     "name": "stdout",
     "output_type": "stream",
     "text": [
      "Variable   Type     Data/Info\n",
      "-----------------------------\n",
      "a          float    10.0\n",
      "b          float    12.5\n",
      "bstr       str      abcdefghijklmnopqrstwxyz,<...>bcdefghijklmnopqrstwxyz\\n\n",
      "c          float    15.85\n",
      "l1         list     n=2\n"
     ]
    }
   ],
   "source": [
    "%whos"
   ]
  },
  {
   "cell_type": "markdown",
   "metadata": {
    "editable": true
   },
   "source": [
    "Работают операторы типа +=,-=,*=,/="
   ]
  },
  {
   "cell_type": "markdown",
   "metadata": {},
   "source": [
    "### Простейший ввод через _input()_"
   ]
  },
  {
   "cell_type": "code",
   "execution_count": 54,
   "metadata": {
    "execution": {
     "iopub.execute_input": "2023-05-11T08:08:38.794889Z",
     "iopub.status.busy": "2023-05-11T08:08:38.793510Z",
     "iopub.status.idle": "2023-05-11T08:08:46.203984Z",
     "shell.execute_reply": "2023-05-11T08:08:46.201780Z",
     "shell.execute_reply.started": "2023-05-11T08:08:38.794810Z"
    },
    "tags": []
   },
   "outputs": [
    {
     "name": "stdin",
     "output_type": "stream",
     "text": [
      "Input float 5.2\n"
     ]
    }
   ],
   "source": [
    "a = float(input(\"Input float\"))"
   ]
  },
  {
   "cell_type": "markdown",
   "metadata": {},
   "source": [
    "### Простейший вывод через _print()_"
   ]
  },
  {
   "cell_type": "code",
   "execution_count": 55,
   "metadata": {
    "execution": {
     "iopub.execute_input": "2023-05-11T08:08:55.666937Z",
     "iopub.status.busy": "2023-05-11T08:08:55.666264Z",
     "iopub.status.idle": "2023-05-11T08:08:55.677414Z",
     "shell.execute_reply": "2023-05-11T08:08:55.675995Z",
     "shell.execute_reply.started": "2023-05-11T08:08:55.666875Z"
    },
    "tags": []
   },
   "outputs": [
    {
     "data": {
      "text/plain": [
       "5.2"
      ]
     },
     "execution_count": 55,
     "metadata": {},
     "output_type": "execute_result"
    }
   ],
   "source": [
    "a"
   ]
  },
  {
   "cell_type": "code",
   "execution_count": 56,
   "metadata": {
    "collapsed": false,
    "editable": true,
    "execution": {
     "iopub.execute_input": "2023-05-11T08:08:56.654170Z",
     "iopub.status.busy": "2023-05-11T08:08:56.653854Z",
     "iopub.status.idle": "2023-05-11T08:08:56.660852Z",
     "shell.execute_reply": "2023-05-11T08:08:56.659941Z",
     "shell.execute_reply.started": "2023-05-11T08:08:56.654148Z"
    },
    "jupyter": {
     "outputs_hidden": false
    },
    "tags": []
   },
   "outputs": [
    {
     "name": "stdout",
     "output_type": "stream",
     "text": [
      "5.2\n",
      "6.2\n",
      "-8.8\n",
      "-17.6\n",
      "-5.415384615384616\n"
     ]
    }
   ],
   "source": [
    "print(a)\n",
    "a += 1\n",
    "print(a)\n",
    "a -= 15.\n",
    "print(a)\n",
    "a *= 2\n",
    "print(a)\n",
    "a /= 3.25\n",
    "print(a)"
   ]
  },
  {
   "cell_type": "code",
   "execution_count": 57,
   "metadata": {
    "execution": {
     "iopub.execute_input": "2023-05-11T08:09:02.578664Z",
     "iopub.status.busy": "2023-05-11T08:09:02.577939Z",
     "iopub.status.idle": "2023-05-11T08:09:02.589262Z",
     "shell.execute_reply": "2023-05-11T08:09:02.587516Z",
     "shell.execute_reply.started": "2023-05-11T08:09:02.578596Z"
    },
    "tags": []
   },
   "outputs": [
    {
     "data": {
      "text/plain": [
       "-67.6923076923077"
      ]
     },
     "execution_count": 57,
     "metadata": {},
     "output_type": "execute_result"
    }
   ],
   "source": [
    "a*b"
   ]
  },
  {
   "cell_type": "code",
   "execution_count": 58,
   "metadata": {
    "execution": {
     "iopub.execute_input": "2023-05-11T08:09:03.260894Z",
     "iopub.status.busy": "2023-05-11T08:09:03.259667Z",
     "iopub.status.idle": "2023-05-11T08:09:03.270008Z",
     "shell.execute_reply": "2023-05-11T08:09:03.268855Z",
     "shell.execute_reply.started": "2023-05-11T08:09:03.260814Z"
    },
    "tags": []
   },
   "outputs": [
    {
     "data": {
      "text/plain": [
       "29.326390532544384"
      ]
     },
     "execution_count": 58,
     "metadata": {},
     "output_type": "execute_result"
    }
   ],
   "source": [
    "a**2"
   ]
  },
  {
   "cell_type": "markdown",
   "metadata": {
    "editable": true,
    "execution": {
     "iopub.execute_input": "2022-10-26T18:39:17.761980Z",
     "iopub.status.busy": "2022-10-26T18:39:17.761166Z",
     "iopub.status.idle": "2022-10-26T18:39:17.771231Z",
     "shell.execute_reply": "2022-10-26T18:39:17.770595Z",
     "shell.execute_reply.started": "2022-10-26T18:39:17.761907Z"
    },
    "jupyter": {
     "outputs_hidden": false
    },
    "tags": []
   },
   "source": [
    "объект из буфера"
   ]
  },
  {
   "cell_type": "code",
   "execution_count": 59,
   "metadata": {
    "collapsed": false,
    "editable": true,
    "execution": {
     "iopub.execute_input": "2023-05-11T08:09:06.283922Z",
     "iopub.status.busy": "2023-05-11T08:09:06.283596Z",
     "iopub.status.idle": "2023-05-11T08:09:06.289220Z",
     "shell.execute_reply": "2023-05-11T08:09:06.288398Z",
     "shell.execute_reply.started": "2023-05-11T08:09:06.283894Z"
    },
    "jupyter": {
     "outputs_hidden": false
    },
    "tags": []
   },
   "outputs": [
    {
     "data": {
      "text/plain": [
       "29.326390532544384"
      ]
     },
     "execution_count": 59,
     "metadata": {},
     "output_type": "execute_result"
    }
   ],
   "source": [
    "_"
   ]
  },
  {
   "cell_type": "markdown",
   "metadata": {},
   "source": [
    "### Форматированный вывод"
   ]
  },
  {
   "cell_type": "code",
   "execution_count": 60,
   "metadata": {
    "execution": {
     "iopub.execute_input": "2023-05-11T08:09:10.714079Z",
     "iopub.status.busy": "2023-05-11T08:09:10.713404Z",
     "iopub.status.idle": "2023-05-11T08:09:10.721561Z",
     "shell.execute_reply": "2023-05-11T08:09:10.720306Z",
     "shell.execute_reply.started": "2023-05-11T08:09:10.714017Z"
    },
    "tags": []
   },
   "outputs": [
    {
     "data": {
      "text/plain": [
       "-5.415384615384616"
      ]
     },
     "execution_count": 60,
     "metadata": {},
     "output_type": "execute_result"
    }
   ],
   "source": [
    "a"
   ]
  },
  {
   "cell_type": "markdown",
   "metadata": {
    "editable": true,
    "execution": {
     "iopub.execute_input": "2022-10-26T18:53:11.439803Z",
     "iopub.status.busy": "2022-10-26T18:53:11.439015Z",
     "iopub.status.idle": "2022-10-26T18:53:11.450299Z",
     "shell.execute_reply": "2022-10-26T18:53:11.449849Z",
     "shell.execute_reply.started": "2022-10-26T18:53:11.439730Z"
    },
    "jupyter": {
     "outputs_hidden": false
    },
    "tags": []
   },
   "source": [
    "#### _C_-подобный"
   ]
  },
  {
   "cell_type": "code",
   "execution_count": 61,
   "metadata": {
    "collapsed": false,
    "editable": true,
    "execution": {
     "iopub.execute_input": "2023-05-11T08:09:14.349959Z",
     "iopub.status.busy": "2023-05-11T08:09:14.349712Z",
     "iopub.status.idle": "2023-05-11T08:09:14.354311Z",
     "shell.execute_reply": "2023-05-11T08:09:14.353513Z",
     "shell.execute_reply.started": "2023-05-11T08:09:14.349937Z"
    },
    "jupyter": {
     "outputs_hidden": false
    },
    "tags": []
   },
   "outputs": [
    {
     "name": "stdout",
     "output_type": "stream",
     "text": [
      "a = -5\n",
      "a = -5.415385\n",
      "a = -5.42\n",
      "a = -5.415385e+00\n",
      "a = -5.000000\n",
      "a = -5.415385, b = 12\n"
     ]
    }
   ],
   "source": [
    "print('a = %d'%a)\n",
    "print('a = %f'%a)\n",
    "print('a = %4.2f'%a)\n",
    "print('a = %e'%a)\n",
    "print('a = %f'%round(a))\n",
    "print('a = %f, b = %d'%(a,b))"
   ]
  },
  {
   "cell_type": "markdown",
   "metadata": {
    "editable": true,
    "execution": {
     "iopub.execute_input": "2022-10-26T18:56:41.310559Z",
     "iopub.status.busy": "2022-10-26T18:56:41.309871Z",
     "iopub.status.idle": "2022-10-26T18:56:41.317973Z",
     "shell.execute_reply": "2022-10-26T18:56:41.316195Z",
     "shell.execute_reply.started": "2022-10-26T18:56:41.310496Z"
    },
    "jupyter": {
     "outputs_hidden": false
    },
    "tags": []
   },
   "source": [
    "#### _Python_-подобный "
   ]
  },
  {
   "cell_type": "markdown",
   "metadata": {},
   "source": [
    "Не будет автоматической конверсии типов _float_ &#8594; _int_"
   ]
  },
  {
   "cell_type": "markdown",
   "metadata": {
    "editable": true,
    "execution": {
     "iopub.execute_input": "2022-10-26T18:56:41.310559Z",
     "iopub.status.busy": "2022-10-26T18:56:41.309871Z",
     "iopub.status.idle": "2022-10-26T18:56:41.317973Z",
     "shell.execute_reply": "2022-10-26T18:56:41.316195Z",
     "shell.execute_reply.started": "2022-10-26T18:56:41.310496Z"
    },
    "jupyter": {
     "outputs_hidden": false
    },
    "tags": []
   },
   "source": [
    "##### Через _format()_"
   ]
  },
  {
   "cell_type": "code",
   "execution_count": 62,
   "metadata": {
    "collapsed": false,
    "editable": true,
    "execution": {
     "iopub.execute_input": "2023-05-11T08:09:32.305528Z",
     "iopub.status.busy": "2023-05-11T08:09:32.305231Z",
     "iopub.status.idle": "2023-05-11T08:09:32.320267Z",
     "shell.execute_reply": "2023-05-11T08:09:32.319469Z",
     "shell.execute_reply.started": "2023-05-11T08:09:32.305503Z"
    },
    "jupyter": {
     "outputs_hidden": false
    },
    "tags": []
   },
   "outputs": [
    {
     "ename": "ValueError",
     "evalue": "Unknown format code 'd' for object of type 'float'",
     "output_type": "error",
     "traceback": [
      "\u001b[0;31m---------------------------------------------------------------------------\u001b[0m",
      "\u001b[0;31mValueError\u001b[0m                                Traceback (most recent call last)",
      "Cell \u001b[0;32mIn[62], line 1\u001b[0m\n\u001b[0;32m----> 1\u001b[0m \u001b[38;5;28mprint\u001b[39m(\u001b[38;5;124;43m'\u001b[39;49m\u001b[38;5;124;43ma = \u001b[39;49m\u001b[38;5;132;43;01m{:d}\u001b[39;49;00m\u001b[38;5;124;43m'\u001b[39;49m\u001b[38;5;241;43m.\u001b[39;49m\u001b[43mformat\u001b[49m\u001b[43m(\u001b[49m\u001b[43ma\u001b[49m\u001b[43m)\u001b[49m)\n",
      "\u001b[0;31mValueError\u001b[0m: Unknown format code 'd' for object of type 'float'"
     ]
    }
   ],
   "source": [
    "print('a = {:d}'.format(a))"
   ]
  },
  {
   "cell_type": "code",
   "execution_count": 63,
   "metadata": {
    "collapsed": false,
    "editable": true,
    "execution": {
     "iopub.execute_input": "2023-05-11T08:09:35.884914Z",
     "iopub.status.busy": "2023-05-11T08:09:35.884621Z",
     "iopub.status.idle": "2023-05-11T08:09:35.889573Z",
     "shell.execute_reply": "2023-05-11T08:09:35.888868Z",
     "shell.execute_reply.started": "2023-05-11T08:09:35.884889Z"
    },
    "jupyter": {
     "outputs_hidden": false
    },
    "tags": []
   },
   "outputs": [
    {
     "name": "stdout",
     "output_type": "stream",
     "text": [
      "a = -5\n"
     ]
    }
   ],
   "source": [
    "print('a = {:.0f}'.format(a))"
   ]
  },
  {
   "cell_type": "code",
   "execution_count": 64,
   "metadata": {
    "collapsed": false,
    "editable": true,
    "execution": {
     "iopub.execute_input": "2023-05-11T08:09:37.615609Z",
     "iopub.status.busy": "2023-05-11T08:09:37.615235Z",
     "iopub.status.idle": "2023-05-11T08:09:37.618980Z",
     "shell.execute_reply": "2023-05-11T08:09:37.618408Z",
     "shell.execute_reply.started": "2023-05-11T08:09:37.615587Z"
    },
    "jupyter": {
     "outputs_hidden": false
    },
    "tags": []
   },
   "outputs": [
    {
     "name": "stdout",
     "output_type": "stream",
     "text": [
      "a = -5\n"
     ]
    }
   ],
   "source": [
    "print('a = {:d}'.format(int(a)))"
   ]
  },
  {
   "cell_type": "code",
   "execution_count": 65,
   "metadata": {
    "collapsed": false,
    "editable": true,
    "execution": {
     "iopub.execute_input": "2023-05-11T08:09:38.165876Z",
     "iopub.status.busy": "2023-05-11T08:09:38.165568Z",
     "iopub.status.idle": "2023-05-11T08:09:38.170776Z",
     "shell.execute_reply": "2023-05-11T08:09:38.170024Z",
     "shell.execute_reply.started": "2023-05-11T08:09:38.165848Z"
    },
    "jupyter": {
     "outputs_hidden": false
    },
    "tags": []
   },
   "outputs": [
    {
     "name": "stdout",
     "output_type": "stream",
     "text": [
      "a = -5.415385\n",
      "a = -5.42\n",
      "a = -5.415385e+00\n",
      "a = -5.000000\n"
     ]
    }
   ],
   "source": [
    "print('a = {:f}'.format(a))\n",
    "print('a = {:4.2f}'.format(a))\n",
    "print('a = {:e}'.format(a))\n",
    "print('a = {:f}'.format(round(a)))"
   ]
  },
  {
   "cell_type": "markdown",
   "metadata": {
    "editable": true,
    "execution": {
     "iopub.execute_input": "2022-10-26T18:56:41.310559Z",
     "iopub.status.busy": "2022-10-26T18:56:41.309871Z",
     "iopub.status.idle": "2022-10-26T18:56:41.317973Z",
     "shell.execute_reply": "2022-10-26T18:56:41.316195Z",
     "shell.execute_reply.started": "2022-10-26T18:56:41.310496Z"
    },
    "jupyter": {
     "outputs_hidden": false
    },
    "tags": []
   },
   "source": [
    "##### Через _f_-строки"
   ]
  },
  {
   "cell_type": "code",
   "execution_count": 66,
   "metadata": {
    "collapsed": false,
    "editable": true,
    "execution": {
     "iopub.execute_input": "2023-05-11T08:09:44.905444Z",
     "iopub.status.busy": "2023-05-11T08:09:44.905143Z",
     "iopub.status.idle": "2023-05-11T08:09:44.909661Z",
     "shell.execute_reply": "2023-05-11T08:09:44.908834Z",
     "shell.execute_reply.started": "2023-05-11T08:09:44.905418Z"
    },
    "jupyter": {
     "outputs_hidden": false
    },
    "tags": []
   },
   "outputs": [
    {
     "name": "stdout",
     "output_type": "stream",
     "text": [
      "a = -5\n",
      "a = -5.415385\n",
      "a = -5.42\n",
      "a = -5.415385e+00\n"
     ]
    }
   ],
   "source": [
    "print(f'a = {a:.0f}')\n",
    "print(f'a = {a:f}')\n",
    "print(f'a = {a:4.2f}')\n",
    "print(f'a = {a:e}')"
   ]
  },
  {
   "cell_type": "markdown",
   "metadata": {
    "editable": true
   },
   "source": [
    "### Пример: swap variables\n",
    "_Есть переменные а и b. Нужно поменять их местами: содержимое a должно быть в b, а b в a_"
   ]
  },
  {
   "cell_type": "code",
   "execution_count": 67,
   "metadata": {
    "execution": {
     "iopub.execute_input": "2023-05-11T08:10:02.412199Z",
     "iopub.status.busy": "2023-05-11T08:10:02.411447Z",
     "iopub.status.idle": "2023-05-11T08:10:02.421049Z",
     "shell.execute_reply": "2023-05-11T08:10:02.418897Z",
     "shell.execute_reply.started": "2023-05-11T08:10:02.412137Z"
    },
    "tags": []
   },
   "outputs": [],
   "source": [
    "a,b = 10,5"
   ]
  },
  {
   "cell_type": "code",
   "execution_count": 68,
   "metadata": {
    "collapsed": false,
    "editable": true,
    "execution": {
     "iopub.execute_input": "2023-05-11T08:10:07.233224Z",
     "iopub.status.busy": "2023-05-11T08:10:07.232922Z",
     "iopub.status.idle": "2023-05-11T08:10:07.237414Z",
     "shell.execute_reply": "2023-05-11T08:10:07.236629Z",
     "shell.execute_reply.started": "2023-05-11T08:10:07.233202Z"
    },
    "jupyter": {
     "outputs_hidden": false
    },
    "tags": []
   },
   "outputs": [
    {
     "name": "stdout",
     "output_type": "stream",
     "text": [
      "Before a was 10, b was 5\n",
      "After a become 5, b become 10\n"
     ]
    }
   ],
   "source": [
    "#Swap vars with aditional var\n",
    "print(\"Before a was {}, b was {}\".format(a,b))\n",
    "c = a; a = b ;b = c\n",
    "print(\"After a become {}, b become {}\".format(a,b))"
   ]
  },
  {
   "cell_type": "code",
   "execution_count": 69,
   "metadata": {
    "collapsed": false,
    "editable": true,
    "execution": {
     "iopub.execute_input": "2023-05-11T08:10:19.053393Z",
     "iopub.status.busy": "2023-05-11T08:10:19.053143Z",
     "iopub.status.idle": "2023-05-11T08:10:19.058282Z",
     "shell.execute_reply": "2023-05-11T08:10:19.057554Z",
     "shell.execute_reply.started": "2023-05-11T08:10:19.053372Z"
    },
    "jupyter": {
     "outputs_hidden": false
    },
    "tags": []
   },
   "outputs": [
    {
     "name": "stdout",
     "output_type": "stream",
     "text": [
      "Before a was 5, b was 10\n",
      "After a become 10, b become 5\n"
     ]
    }
   ],
   "source": [
    "#Swap vars without aditional vars (only for numerics)\n",
    "print(\"Before a was %i, b was %i\"%(a,b))\n",
    "a += b;b = a-b;a -= b\n",
    "print(\"After a become %i, b become %i\"%(a,b))"
   ]
  },
  {
   "cell_type": "code",
   "execution_count": 70,
   "metadata": {
    "collapsed": false,
    "editable": true,
    "execution": {
     "iopub.execute_input": "2023-05-11T08:10:22.324273Z",
     "iopub.status.busy": "2023-05-11T08:10:22.323986Z",
     "iopub.status.idle": "2023-05-11T08:10:22.328317Z",
     "shell.execute_reply": "2023-05-11T08:10:22.327583Z",
     "shell.execute_reply.started": "2023-05-11T08:10:22.324247Z"
    },
    "jupyter": {
     "outputs_hidden": false
    },
    "tags": []
   },
   "outputs": [
    {
     "name": "stdout",
     "output_type": "stream",
     "text": [
      "Before a was 10.000000, b was 5.000000\n",
      "After a become 5.000000, b become 10.000000\n"
     ]
    }
   ],
   "source": [
    "#Python swap vars\n",
    "print(f\"Before a was {a:f}, b was {b:f}\")\n",
    "a,b = b,a\n",
    "print(f\"After a become {a:f}, b become {b:f}\")"
   ]
  },
  {
   "cell_type": "markdown",
   "metadata": {},
   "source": [
    "## \"Итерируемые\" структуры данных"
   ]
  },
  {
   "cell_type": "markdown",
   "metadata": {
    "editable": true
   },
   "source": [
    "### Список &mdash; _list()_ или _[]_ (изменяемая cтруктура данных)"
   ]
  },
  {
   "cell_type": "code",
   "execution_count": 71,
   "metadata": {
    "collapsed": false,
    "deletable": true,
    "editable": true,
    "execution": {
     "iopub.execute_input": "2023-05-11T08:10:36.219141Z",
     "iopub.status.busy": "2023-05-11T08:10:36.218899Z",
     "iopub.status.idle": "2023-05-11T08:10:36.222304Z",
     "shell.execute_reply": "2023-05-11T08:10:36.221655Z",
     "shell.execute_reply.started": "2023-05-11T08:10:36.219120Z"
    },
    "jupyter": {
     "outputs_hidden": false
    },
    "tags": []
   },
   "outputs": [],
   "source": [
    "l = list([2,3,4,5,15.,286])"
   ]
  },
  {
   "cell_type": "code",
   "execution_count": 72,
   "metadata": {
    "deletable": true,
    "editable": true,
    "execution": {
     "iopub.execute_input": "2023-05-11T08:10:37.444323Z",
     "iopub.status.busy": "2023-05-11T08:10:37.443991Z",
     "iopub.status.idle": "2023-05-11T08:10:37.448287Z",
     "shell.execute_reply": "2023-05-11T08:10:37.447335Z",
     "shell.execute_reply.started": "2023-05-11T08:10:37.444297Z"
    },
    "tags": []
   },
   "outputs": [],
   "source": [
    "l1 = [2, 3, 4, 5, 15.0, 286]"
   ]
  },
  {
   "cell_type": "code",
   "execution_count": 73,
   "metadata": {
    "editable": true,
    "execution": {
     "iopub.execute_input": "2023-05-11T08:10:37.741982Z",
     "iopub.status.busy": "2023-05-11T08:10:37.741584Z",
     "iopub.status.idle": "2023-05-11T08:10:37.744654Z",
     "shell.execute_reply": "2023-05-11T08:10:37.744036Z",
     "shell.execute_reply.started": "2023-05-11T08:10:37.741957Z"
    },
    "tags": []
   },
   "outputs": [],
   "source": [
    "l2 = [2, 3, 4, 5, 15, 286]"
   ]
  },
  {
   "cell_type": "code",
   "execution_count": 74,
   "metadata": {
    "editable": true,
    "execution": {
     "iopub.execute_input": "2023-05-11T08:10:40.160354Z",
     "iopub.status.busy": "2023-05-11T08:10:40.159716Z",
     "iopub.status.idle": "2023-05-11T08:10:40.164798Z",
     "shell.execute_reply": "2023-05-11T08:10:40.163834Z",
     "shell.execute_reply.started": "2023-05-11T08:10:40.160316Z"
    },
    "tags": []
   },
   "outputs": [],
   "source": [
    "l3 = [2, 3, 4, 5, 286, 15]"
   ]
  },
  {
   "cell_type": "code",
   "execution_count": 75,
   "metadata": {
    "execution": {
     "iopub.execute_input": "2023-05-11T08:10:40.667464Z",
     "iopub.status.busy": "2023-05-11T08:10:40.666788Z",
     "iopub.status.idle": "2023-05-11T08:10:40.679486Z",
     "shell.execute_reply": "2023-05-11T08:10:40.678052Z",
     "shell.execute_reply.started": "2023-05-11T08:10:40.667403Z"
    },
    "tags": []
   },
   "outputs": [
    {
     "data": {
      "text/plain": [
       "(list, list)"
      ]
     },
     "execution_count": 75,
     "metadata": {},
     "output_type": "execute_result"
    }
   ],
   "source": [
    "type(l),type(l1)"
   ]
  },
  {
   "cell_type": "code",
   "execution_count": 76,
   "metadata": {
    "collapsed": false,
    "deletable": true,
    "editable": true,
    "execution": {
     "iopub.execute_input": "2023-05-11T08:10:41.416106Z",
     "iopub.status.busy": "2023-05-11T08:10:41.415803Z",
     "iopub.status.idle": "2023-05-11T08:10:41.421494Z",
     "shell.execute_reply": "2023-05-11T08:10:41.420740Z",
     "shell.execute_reply.started": "2023-05-11T08:10:41.416079Z"
    },
    "jupyter": {
     "outputs_hidden": false
    },
    "tags": []
   },
   "outputs": [
    {
     "data": {
      "text/plain": [
       "True"
      ]
     },
     "execution_count": 76,
     "metadata": {},
     "output_type": "execute_result"
    }
   ],
   "source": [
    "l == l1"
   ]
  },
  {
   "cell_type": "code",
   "execution_count": 77,
   "metadata": {
    "execution": {
     "iopub.execute_input": "2023-05-11T08:10:41.978058Z",
     "iopub.status.busy": "2023-05-11T08:10:41.977344Z",
     "iopub.status.idle": "2023-05-11T08:10:41.988124Z",
     "shell.execute_reply": "2023-05-11T08:10:41.986819Z",
     "shell.execute_reply.started": "2023-05-11T08:10:41.977994Z"
    },
    "tags": []
   },
   "outputs": [
    {
     "data": {
      "text/plain": [
       "True"
      ]
     },
     "execution_count": 77,
     "metadata": {},
     "output_type": "execute_result"
    }
   ],
   "source": [
    "15 == 15.0"
   ]
  },
  {
   "cell_type": "code",
   "execution_count": 78,
   "metadata": {
    "collapsed": false,
    "editable": true,
    "execution": {
     "iopub.execute_input": "2023-05-11T08:10:42.443212Z",
     "iopub.status.busy": "2023-05-11T08:10:42.442918Z",
     "iopub.status.idle": "2023-05-11T08:10:42.447395Z",
     "shell.execute_reply": "2023-05-11T08:10:42.446713Z",
     "shell.execute_reply.started": "2023-05-11T08:10:42.443184Z"
    },
    "jupyter": {
     "outputs_hidden": false
    },
    "tags": []
   },
   "outputs": [
    {
     "data": {
      "text/plain": [
       "True"
      ]
     },
     "execution_count": 78,
     "metadata": {},
     "output_type": "execute_result"
    }
   ],
   "source": [
    "l == l2"
   ]
  },
  {
   "cell_type": "code",
   "execution_count": 79,
   "metadata": {
    "collapsed": false,
    "editable": true,
    "execution": {
     "iopub.execute_input": "2023-05-11T08:10:42.729059Z",
     "iopub.status.busy": "2023-05-11T08:10:42.728833Z",
     "iopub.status.idle": "2023-05-11T08:10:42.732969Z",
     "shell.execute_reply": "2023-05-11T08:10:42.732299Z",
     "shell.execute_reply.started": "2023-05-11T08:10:42.729040Z"
    },
    "jupyter": {
     "outputs_hidden": false
    },
    "tags": []
   },
   "outputs": [
    {
     "data": {
      "text/plain": [
       "False"
      ]
     },
     "execution_count": 79,
     "metadata": {},
     "output_type": "execute_result"
    }
   ],
   "source": [
    "l == l3"
   ]
  },
  {
   "cell_type": "code",
   "execution_count": 80,
   "metadata": {
    "execution": {
     "iopub.execute_input": "2023-05-11T08:10:43.204227Z",
     "iopub.status.busy": "2023-05-11T08:10:43.202470Z",
     "iopub.status.idle": "2023-05-11T08:10:43.215802Z",
     "shell.execute_reply": "2023-05-11T08:10:43.213699Z",
     "shell.execute_reply.started": "2023-05-11T08:10:43.204153Z"
    },
    "tags": []
   },
   "outputs": [
    {
     "data": {
      "text/plain": [
       "[2, 3, 4, 5, 15.0, 286, 2, 3, 4, 5, 15.0, 286]"
      ]
     },
     "execution_count": 80,
     "metadata": {},
     "output_type": "execute_result"
    }
   ],
   "source": [
    "2*l1"
   ]
  },
  {
   "cell_type": "code",
   "execution_count": 81,
   "metadata": {
    "execution": {
     "iopub.execute_input": "2023-05-11T08:10:43.779578Z",
     "iopub.status.busy": "2023-05-11T08:10:43.778864Z",
     "iopub.status.idle": "2023-05-11T08:10:43.790559Z",
     "shell.execute_reply": "2023-05-11T08:10:43.789004Z",
     "shell.execute_reply.started": "2023-05-11T08:10:43.779514Z"
    },
    "tags": []
   },
   "outputs": [
    {
     "data": {
      "text/plain": [
       "[2,\n",
       " 3,\n",
       " 4,\n",
       " 5,\n",
       " 15.0,\n",
       " 286,\n",
       " 2,\n",
       " 3,\n",
       " 4,\n",
       " 5,\n",
       " 15,\n",
       " 286,\n",
       " 2,\n",
       " 3,\n",
       " 4,\n",
       " 5,\n",
       " 286,\n",
       " 15,\n",
       " 2,\n",
       " 3,\n",
       " 4,\n",
       " 5,\n",
       " 286,\n",
       " 15,\n",
       " 2,\n",
       " 3,\n",
       " 4,\n",
       " 5,\n",
       " 286,\n",
       " 15]"
      ]
     },
     "execution_count": 81,
     "metadata": {},
     "output_type": "execute_result"
    }
   ],
   "source": [
    "ll = l1+l2+l3+2*l3\n",
    "ll"
   ]
  },
  {
   "cell_type": "code",
   "execution_count": 82,
   "metadata": {
    "execution": {
     "iopub.execute_input": "2023-05-11T08:10:44.057344Z",
     "iopub.status.busy": "2023-05-11T08:10:44.057067Z",
     "iopub.status.idle": "2023-05-11T08:10:44.060295Z",
     "shell.execute_reply": "2023-05-11T08:10:44.059570Z",
     "shell.execute_reply.started": "2023-05-11T08:10:44.057320Z"
    },
    "tags": []
   },
   "outputs": [],
   "source": [
    "del ll[0]"
   ]
  },
  {
   "cell_type": "code",
   "execution_count": 83,
   "metadata": {
    "execution": {
     "iopub.execute_input": "2023-05-11T08:10:44.800333Z",
     "iopub.status.busy": "2023-05-11T08:10:44.799606Z",
     "iopub.status.idle": "2023-05-11T08:10:44.807300Z",
     "shell.execute_reply": "2023-05-11T08:10:44.805814Z",
     "shell.execute_reply.started": "2023-05-11T08:10:44.800271Z"
    },
    "tags": []
   },
   "outputs": [],
   "source": [
    "ll[0] = -101."
   ]
  },
  {
   "cell_type": "code",
   "execution_count": 84,
   "metadata": {
    "execution": {
     "iopub.execute_input": "2023-05-11T08:10:45.322576Z",
     "iopub.status.busy": "2023-05-11T08:10:45.321401Z",
     "iopub.status.idle": "2023-05-11T08:10:45.330484Z",
     "shell.execute_reply": "2023-05-11T08:10:45.329506Z",
     "shell.execute_reply.started": "2023-05-11T08:10:45.322505Z"
    },
    "tags": []
   },
   "outputs": [
    {
     "name": "stdout",
     "output_type": "stream",
     "text": [
      "[-101.0, 4, 5, 15.0, 286, 2, 3, 4, 5, 15, 286, 2, 3, 4, 5, 286, 15, 2, 3, 4, 5, 286, 15, 2, 3, 4, 5, 286, 15]\n"
     ]
    }
   ],
   "source": [
    "print(ll)"
   ]
  },
  {
   "cell_type": "markdown",
   "metadata": {
    "deletable": true,
    "editable": true
   },
   "source": [
    "#### Индексация ~~списков~~ почти всего в python"
   ]
  },
  {
   "cell_type": "code",
   "execution_count": 85,
   "metadata": {
    "collapsed": false,
    "deletable": true,
    "editable": true,
    "execution": {
     "iopub.execute_input": "2023-05-11T08:10:47.107887Z",
     "iopub.status.busy": "2023-05-11T08:10:47.107609Z",
     "iopub.status.idle": "2023-05-11T08:10:47.112313Z",
     "shell.execute_reply": "2023-05-11T08:10:47.111673Z",
     "shell.execute_reply.started": "2023-05-11T08:10:47.107863Z"
    },
    "jupyter": {
     "outputs_hidden": false
    },
    "tags": []
   },
   "outputs": [
    {
     "data": {
      "text/plain": [
       "-101.0"
      ]
     },
     "execution_count": 85,
     "metadata": {},
     "output_type": "execute_result"
    }
   ],
   "source": [
    "ll[0]"
   ]
  },
  {
   "cell_type": "code",
   "execution_count": 86,
   "metadata": {
    "collapsed": false,
    "deletable": true,
    "editable": true,
    "execution": {
     "iopub.execute_input": "2023-05-11T08:10:48.059345Z",
     "iopub.status.busy": "2023-05-11T08:10:48.059095Z",
     "iopub.status.idle": "2023-05-11T08:10:48.063768Z",
     "shell.execute_reply": "2023-05-11T08:10:48.063128Z",
     "shell.execute_reply.started": "2023-05-11T08:10:48.059323Z"
    },
    "jupyter": {
     "outputs_hidden": false
    },
    "tags": []
   },
   "outputs": [
    {
     "data": {
      "text/plain": [
       "286"
      ]
     },
     "execution_count": 86,
     "metadata": {},
     "output_type": "execute_result"
    }
   ],
   "source": [
    "ll[4]"
   ]
  },
  {
   "cell_type": "code",
   "execution_count": 87,
   "metadata": {
    "collapsed": false,
    "deletable": true,
    "editable": true,
    "execution": {
     "iopub.execute_input": "2023-05-11T08:10:48.279895Z",
     "iopub.status.busy": "2023-05-11T08:10:48.279567Z",
     "iopub.status.idle": "2023-05-11T08:10:48.285318Z",
     "shell.execute_reply": "2023-05-11T08:10:48.284568Z",
     "shell.execute_reply.started": "2023-05-11T08:10:48.279868Z"
    },
    "jupyter": {
     "outputs_hidden": false
    },
    "tags": []
   },
   "outputs": [
    {
     "data": {
      "text/plain": [
       "[-101.0, 4, 5, 15.0, 286]"
      ]
     },
     "execution_count": 87,
     "metadata": {},
     "output_type": "execute_result"
    }
   ],
   "source": [
    "ll[:5]"
   ]
  },
  {
   "cell_type": "code",
   "execution_count": 88,
   "metadata": {
    "collapsed": false,
    "deletable": true,
    "editable": true,
    "execution": {
     "iopub.execute_input": "2023-05-11T08:10:48.490028Z",
     "iopub.status.busy": "2023-05-11T08:10:48.489769Z",
     "iopub.status.idle": "2023-05-11T08:10:48.494080Z",
     "shell.execute_reply": "2023-05-11T08:10:48.493432Z",
     "shell.execute_reply.started": "2023-05-11T08:10:48.490006Z"
    },
    "jupyter": {
     "outputs_hidden": false
    },
    "tags": []
   },
   "outputs": [
    {
     "data": {
      "text/plain": [
       "[-101.0]"
      ]
     },
     "execution_count": 88,
     "metadata": {},
     "output_type": "execute_result"
    }
   ],
   "source": [
    "ll[:1]"
   ]
  },
  {
   "cell_type": "code",
   "execution_count": 89,
   "metadata": {
    "collapsed": false,
    "deletable": true,
    "editable": true,
    "execution": {
     "iopub.execute_input": "2023-05-11T08:10:48.854299Z",
     "iopub.status.busy": "2023-05-11T08:10:48.854051Z",
     "iopub.status.idle": "2023-05-11T08:10:48.858636Z",
     "shell.execute_reply": "2023-05-11T08:10:48.858016Z",
     "shell.execute_reply.started": "2023-05-11T08:10:48.854278Z"
    },
    "jupyter": {
     "outputs_hidden": false
    },
    "tags": []
   },
   "outputs": [
    {
     "data": {
      "text/plain": [
       "15"
      ]
     },
     "execution_count": 89,
     "metadata": {},
     "output_type": "execute_result"
    }
   ],
   "source": [
    "ll[-1]"
   ]
  },
  {
   "cell_type": "code",
   "execution_count": 90,
   "metadata": {
    "collapsed": false,
    "deletable": true,
    "editable": true,
    "execution": {
     "iopub.execute_input": "2023-05-11T08:10:49.315120Z",
     "iopub.status.busy": "2023-05-11T08:10:49.314661Z",
     "iopub.status.idle": "2023-05-11T08:10:49.322952Z",
     "shell.execute_reply": "2023-05-11T08:10:49.321709Z",
     "shell.execute_reply.started": "2023-05-11T08:10:49.315077Z"
    },
    "jupyter": {
     "outputs_hidden": false
    },
    "tags": []
   },
   "outputs": [
    {
     "data": {
      "text/plain": [
       "[286, 15]"
      ]
     },
     "execution_count": 90,
     "metadata": {},
     "output_type": "execute_result"
    }
   ],
   "source": [
    "ll[-2:]"
   ]
  },
  {
   "cell_type": "code",
   "execution_count": 91,
   "metadata": {
    "collapsed": false,
    "deletable": true,
    "editable": true,
    "execution": {
     "iopub.execute_input": "2023-05-11T08:10:49.763330Z",
     "iopub.status.busy": "2023-05-11T08:10:49.763082Z",
     "iopub.status.idle": "2023-05-11T08:10:49.766898Z",
     "shell.execute_reply": "2023-05-11T08:10:49.766217Z",
     "shell.execute_reply.started": "2023-05-11T08:10:49.763308Z"
    },
    "jupyter": {
     "outputs_hidden": false
    },
    "tags": []
   },
   "outputs": [
    {
     "name": "stdout",
     "output_type": "stream",
     "text": [
      "[-101.0, 5, 286, 3, 5, 286, 3, 5, 15, 3, 5, 15, 3, 5, 15]\n"
     ]
    }
   ],
   "source": [
    "print(ll[::2])"
   ]
  },
  {
   "cell_type": "markdown",
   "metadata": {},
   "source": [
    "__*Интерактив*:__ Выдать список в обратном порядке?"
   ]
  },
  {
   "cell_type": "code",
   "execution_count": 92,
   "metadata": {
    "collapsed": false,
    "deletable": true,
    "editable": true,
    "execution": {
     "iopub.execute_input": "2023-05-11T08:11:07.756852Z",
     "iopub.status.busy": "2023-05-11T08:11:07.756598Z",
     "iopub.status.idle": "2023-05-11T08:11:07.760254Z",
     "shell.execute_reply": "2023-05-11T08:11:07.759622Z",
     "shell.execute_reply.started": "2023-05-11T08:11:07.756831Z"
    },
    "jupyter": {
     "outputs_hidden": false
    },
    "tags": []
   },
   "outputs": [
    {
     "name": "stdout",
     "output_type": "stream",
     "text": [
      "[-101.0, 4, 5, 15.0, 435, 2, 3, 4, 5, 15, 286, 2, 3, 4, 5, 286, 15, 2, 3, 4, 5, 286, 15, 2, 3, 4, 5, 286, 15]\n"
     ]
    }
   ],
   "source": [
    "ll[4] = 435\n",
    "print(ll)"
   ]
  },
  {
   "cell_type": "code",
   "execution_count": 93,
   "metadata": {
    "execution": {
     "iopub.execute_input": "2023-05-11T08:11:07.978689Z",
     "iopub.status.busy": "2023-05-11T08:11:07.978020Z",
     "iopub.status.idle": "2023-05-11T08:11:07.985238Z",
     "shell.execute_reply": "2023-05-11T08:11:07.983988Z",
     "shell.execute_reply.started": "2023-05-11T08:11:07.978625Z"
    },
    "tags": []
   },
   "outputs": [],
   "source": [
    "ll.remove(286)"
   ]
  },
  {
   "cell_type": "code",
   "execution_count": 94,
   "metadata": {
    "collapsed": false,
    "deletable": true,
    "editable": true,
    "execution": {
     "iopub.execute_input": "2023-05-11T08:11:14.743309Z",
     "iopub.status.busy": "2023-05-11T08:11:14.743089Z",
     "iopub.status.idle": "2023-05-11T08:11:14.746492Z",
     "shell.execute_reply": "2023-05-11T08:11:14.745794Z",
     "shell.execute_reply.started": "2023-05-11T08:11:14.743290Z"
    },
    "jupyter": {
     "outputs_hidden": false
    },
    "tags": []
   },
   "outputs": [],
   "source": [
    "myvars = ['temperature','salinity','pressure']"
   ]
  },
  {
   "cell_type": "code",
   "execution_count": 95,
   "metadata": {
    "deletable": true,
    "editable": true,
    "execution": {
     "iopub.execute_input": "2023-05-11T08:11:15.245834Z",
     "iopub.status.busy": "2023-05-11T08:11:15.245553Z",
     "iopub.status.idle": "2023-05-11T08:11:15.250617Z",
     "shell.execute_reply": "2023-05-11T08:11:15.249872Z",
     "shell.execute_reply.started": "2023-05-11T08:11:15.245810Z"
    },
    "tags": []
   },
   "outputs": [],
   "source": [
    "myvars.append('depth')"
   ]
  },
  {
   "cell_type": "code",
   "execution_count": 96,
   "metadata": {
    "collapsed": false,
    "deletable": true,
    "editable": true,
    "execution": {
     "iopub.execute_input": "2023-05-11T08:11:16.867347Z",
     "iopub.status.busy": "2023-05-11T08:11:16.867100Z",
     "iopub.status.idle": "2023-05-11T08:11:16.872342Z",
     "shell.execute_reply": "2023-05-11T08:11:16.871624Z",
     "shell.execute_reply.started": "2023-05-11T08:11:16.867327Z"
    },
    "jupyter": {
     "outputs_hidden": false
    },
    "tags": []
   },
   "outputs": [
    {
     "data": {
      "text/plain": [
       "['temperature', 'salinity', 'pressure', 'depth', 'heatflux', 'radiation']"
      ]
     },
     "execution_count": 96,
     "metadata": {},
     "output_type": "execute_result"
    }
   ],
   "source": [
    "myvars + [\"heatflux\",\"radiation\"]"
   ]
  },
  {
   "cell_type": "code",
   "execution_count": 97,
   "metadata": {
    "collapsed": false,
    "editable": true,
    "execution": {
     "iopub.execute_input": "2023-05-11T08:11:17.095205Z",
     "iopub.status.busy": "2023-05-11T08:11:17.094922Z",
     "iopub.status.idle": "2023-05-11T08:11:17.099050Z",
     "shell.execute_reply": "2023-05-11T08:11:17.098277Z",
     "shell.execute_reply.started": "2023-05-11T08:11:17.095179Z"
    },
    "jupyter": {
     "outputs_hidden": false
    },
    "tags": []
   },
   "outputs": [],
   "source": [
    "myvars += [\"heatflux\",\"radiation\"]"
   ]
  },
  {
   "cell_type": "code",
   "execution_count": 98,
   "metadata": {
    "collapsed": false,
    "editable": true,
    "execution": {
     "iopub.execute_input": "2023-05-11T08:11:19.596588Z",
     "iopub.status.busy": "2023-05-11T08:11:19.596295Z",
     "iopub.status.idle": "2023-05-11T08:11:19.600177Z",
     "shell.execute_reply": "2023-05-11T08:11:19.599405Z",
     "shell.execute_reply.started": "2023-05-11T08:11:19.596563Z"
    },
    "jupyter": {
     "outputs_hidden": false
    },
    "tags": []
   },
   "outputs": [],
   "source": [
    "myvars.extend([\"heatflux\",\"radiation\"])"
   ]
  },
  {
   "cell_type": "code",
   "execution_count": 99,
   "metadata": {
    "execution": {
     "iopub.execute_input": "2023-05-11T08:11:19.999402Z",
     "iopub.status.busy": "2023-05-11T08:11:19.998739Z",
     "iopub.status.idle": "2023-05-11T08:11:20.009510Z",
     "shell.execute_reply": "2023-05-11T08:11:20.008496Z",
     "shell.execute_reply.started": "2023-05-11T08:11:19.999343Z"
    },
    "tags": []
   },
   "outputs": [
    {
     "data": {
      "text/plain": [
       "['temperature',\n",
       " 'salinity',\n",
       " 'pressure',\n",
       " 'depth',\n",
       " 'heatflux',\n",
       " 'radiation',\n",
       " 'heatflux',\n",
       " 'radiation']"
      ]
     },
     "execution_count": 99,
     "metadata": {},
     "output_type": "execute_result"
    }
   ],
   "source": [
    "myvars"
   ]
  },
  {
   "cell_type": "markdown",
   "metadata": {},
   "source": [
    "#### Чтение и запись в файл _open()_"
   ]
  },
  {
   "cell_type": "code",
   "execution_count": 100,
   "metadata": {
    "execution": {
     "iopub.execute_input": "2023-05-11T08:11:21.147270Z",
     "iopub.status.busy": "2023-05-11T08:11:21.146603Z",
     "iopub.status.idle": "2023-05-11T08:11:21.157530Z",
     "shell.execute_reply": "2023-05-11T08:11:21.155902Z",
     "shell.execute_reply.started": "2023-05-11T08:11:21.147210Z"
    },
    "tags": []
   },
   "outputs": [],
   "source": [
    "f = open(\"test.txt\")"
   ]
  },
  {
   "cell_type": "code",
   "execution_count": 101,
   "metadata": {
    "execution": {
     "iopub.execute_input": "2023-05-11T08:11:22.997710Z",
     "iopub.status.busy": "2023-05-11T08:11:22.997042Z",
     "iopub.status.idle": "2023-05-11T08:11:23.008720Z",
     "shell.execute_reply": "2023-05-11T08:11:23.007486Z",
     "shell.execute_reply.started": "2023-05-11T08:11:22.997648Z"
    },
    "tags": []
   },
   "outputs": [
    {
     "data": {
      "text/plain": [
       "['Try read this 1234\\n', 'Try read this 1234\\n', 'Try read this 1234\\n']"
      ]
     },
     "execution_count": 101,
     "metadata": {},
     "output_type": "execute_result"
    }
   ],
   "source": [
    "f.readlines()"
   ]
  },
  {
   "cell_type": "code",
   "execution_count": 102,
   "metadata": {
    "execution": {
     "iopub.execute_input": "2023-05-11T08:11:23.233292Z",
     "iopub.status.busy": "2023-05-11T08:11:23.232618Z",
     "iopub.status.idle": "2023-05-11T08:11:23.241232Z",
     "shell.execute_reply": "2023-05-11T08:11:23.239555Z",
     "shell.execute_reply.started": "2023-05-11T08:11:23.233230Z"
    },
    "tags": []
   },
   "outputs": [],
   "source": [
    "f.close()"
   ]
  },
  {
   "cell_type": "markdown",
   "metadata": {},
   "source": [
    "Контекст"
   ]
  },
  {
   "cell_type": "code",
   "execution_count": 103,
   "metadata": {
    "execution": {
     "iopub.execute_input": "2023-05-11T08:11:23.656404Z",
     "iopub.status.busy": "2023-05-11T08:11:23.655697Z",
     "iopub.status.idle": "2023-05-11T08:11:23.664650Z",
     "shell.execute_reply": "2023-05-11T08:11:23.663134Z",
     "shell.execute_reply.started": "2023-05-11T08:11:23.656335Z"
    },
    "tags": []
   },
   "outputs": [],
   "source": [
    "with open(\"test.txt\") as f:\n",
    "    data = f.readlines()"
   ]
  },
  {
   "cell_type": "code",
   "execution_count": 104,
   "metadata": {
    "execution": {
     "iopub.execute_input": "2023-05-11T08:11:23.779533Z",
     "iopub.status.busy": "2023-05-11T08:11:23.779290Z",
     "iopub.status.idle": "2023-05-11T08:11:23.782904Z",
     "shell.execute_reply": "2023-05-11T08:11:23.782206Z",
     "shell.execute_reply.started": "2023-05-11T08:11:23.779518Z"
    },
    "tags": []
   },
   "outputs": [],
   "source": [
    "data[1] = \"I read this\\n\""
   ]
  },
  {
   "cell_type": "code",
   "execution_count": 105,
   "metadata": {
    "execution": {
     "iopub.execute_input": "2023-05-11T08:11:24.234030Z",
     "iopub.status.busy": "2023-05-11T08:11:24.233374Z",
     "iopub.status.idle": "2023-05-11T08:11:24.241744Z",
     "shell.execute_reply": "2023-05-11T08:11:24.240329Z",
     "shell.execute_reply.started": "2023-05-11T08:11:24.233968Z"
    },
    "tags": []
   },
   "outputs": [],
   "source": [
    "with open(\"test_new.txt\",\"w\") as f:\n",
    "    f.writelines(data)"
   ]
  },
  {
   "cell_type": "code",
   "execution_count": 106,
   "metadata": {
    "execution": {
     "iopub.execute_input": "2023-05-11T08:11:24.435486Z",
     "iopub.status.busy": "2023-05-11T08:11:24.435015Z",
     "iopub.status.idle": "2023-05-11T08:11:24.441675Z",
     "shell.execute_reply": "2023-05-11T08:11:24.440743Z",
     "shell.execute_reply.started": "2023-05-11T08:11:24.435443Z"
    },
    "tags": []
   },
   "outputs": [],
   "source": [
    "with open(\"test_new.txt\",\"a\") as f:\n",
    "    f.writelines(data)"
   ]
  },
  {
   "cell_type": "markdown",
   "metadata": {
    "editable": true
   },
   "source": [
    "### Кортеж &mdash; _tuple()_ или _()_ (неизменяемая структура данных)"
   ]
  },
  {
   "cell_type": "code",
   "execution_count": 107,
   "metadata": {
    "editable": true,
    "execution": {
     "iopub.execute_input": "2023-05-11T08:11:24.838103Z",
     "iopub.status.busy": "2023-05-11T08:11:24.835913Z",
     "iopub.status.idle": "2023-05-11T08:11:24.843726Z",
     "shell.execute_reply": "2023-05-11T08:11:24.842574Z",
     "shell.execute_reply.started": "2023-05-11T08:11:24.838022Z"
    },
    "tags": []
   },
   "outputs": [],
   "source": [
    "tup = (1,3,'346')"
   ]
  },
  {
   "cell_type": "code",
   "execution_count": 108,
   "metadata": {
    "execution": {
     "iopub.execute_input": "2023-05-11T08:11:25.037079Z",
     "iopub.status.busy": "2023-05-11T08:11:25.036046Z",
     "iopub.status.idle": "2023-05-11T08:11:25.058178Z",
     "shell.execute_reply": "2023-05-11T08:11:25.057116Z",
     "shell.execute_reply.started": "2023-05-11T08:11:25.037011Z"
    },
    "tags": []
   },
   "outputs": [
    {
     "ename": "TypeError",
     "evalue": "'tuple' object doesn't support item deletion",
     "output_type": "error",
     "traceback": [
      "\u001b[0;31m---------------------------------------------------------------------------\u001b[0m",
      "\u001b[0;31mTypeError\u001b[0m                                 Traceback (most recent call last)",
      "Cell \u001b[0;32mIn[108], line 1\u001b[0m\n\u001b[0;32m----> 1\u001b[0m \u001b[38;5;28;01mdel\u001b[39;00m \u001b[43mtup\u001b[49m\u001b[43m[\u001b[49m\u001b[38;5;241;43m0\u001b[39;49m\u001b[43m]\u001b[49m\n",
      "\u001b[0;31mTypeError\u001b[0m: 'tuple' object doesn't support item deletion"
     ]
    }
   ],
   "source": [
    "del tup[0]"
   ]
  },
  {
   "cell_type": "code",
   "execution_count": 109,
   "metadata": {
    "collapsed": false,
    "editable": true,
    "execution": {
     "iopub.execute_input": "2023-05-11T08:11:25.250767Z",
     "iopub.status.busy": "2023-05-11T08:11:25.250469Z",
     "iopub.status.idle": "2023-05-11T08:11:25.257512Z",
     "shell.execute_reply": "2023-05-11T08:11:25.256703Z",
     "shell.execute_reply.started": "2023-05-11T08:11:25.250741Z"
    },
    "jupyter": {
     "outputs_hidden": false
    },
    "tags": []
   },
   "outputs": [
    {
     "data": {
      "text/plain": [
       "1"
      ]
     },
     "execution_count": 109,
     "metadata": {},
     "output_type": "execute_result"
    }
   ],
   "source": [
    "tup.count('346')"
   ]
  },
  {
   "cell_type": "code",
   "execution_count": 110,
   "metadata": {
    "collapsed": false,
    "editable": true,
    "execution": {
     "iopub.execute_input": "2023-05-11T08:11:25.426703Z",
     "iopub.status.busy": "2023-05-11T08:11:25.426475Z",
     "iopub.status.idle": "2023-05-11T08:11:25.432585Z",
     "shell.execute_reply": "2023-05-11T08:11:25.432117Z",
     "shell.execute_reply.started": "2023-05-11T08:11:25.426683Z"
    },
    "jupyter": {
     "outputs_hidden": false
    },
    "tags": []
   },
   "outputs": [
    {
     "data": {
      "text/plain": [
       "(1, 3, '346', 1, 3, '346')"
      ]
     },
     "execution_count": 110,
     "metadata": {},
     "output_type": "execute_result"
    }
   ],
   "source": [
    "tup *= 2\n",
    "tup"
   ]
  },
  {
   "cell_type": "code",
   "execution_count": 111,
   "metadata": {
    "editable": true,
    "execution": {
     "iopub.execute_input": "2023-05-11T08:11:26.112360Z",
     "iopub.status.busy": "2023-05-11T08:11:26.112119Z",
     "iopub.status.idle": "2023-05-11T08:11:26.116379Z",
     "shell.execute_reply": "2023-05-11T08:11:26.115731Z",
     "shell.execute_reply.started": "2023-05-11T08:11:26.112345Z"
    },
    "tags": []
   },
   "outputs": [
    {
     "data": {
      "text/plain": [
       "2"
      ]
     },
     "execution_count": 111,
     "metadata": {},
     "output_type": "execute_result"
    }
   ],
   "source": [
    "tup.count(\"346\")"
   ]
  },
  {
   "cell_type": "code",
   "execution_count": 112,
   "metadata": {
    "collapsed": false,
    "editable": true,
    "execution": {
     "iopub.execute_input": "2023-05-11T08:11:34.532676Z",
     "iopub.status.busy": "2023-05-11T08:11:34.532386Z",
     "iopub.status.idle": "2023-05-11T08:11:34.547481Z",
     "shell.execute_reply": "2023-05-11T08:11:34.546656Z",
     "shell.execute_reply.started": "2023-05-11T08:11:34.532648Z"
    },
    "jupyter": {
     "outputs_hidden": false
    },
    "tags": []
   },
   "outputs": [
    {
     "ename": "TypeError",
     "evalue": "'tuple' object does not support item assignment",
     "output_type": "error",
     "traceback": [
      "\u001b[0;31m---------------------------------------------------------------------------\u001b[0m",
      "\u001b[0;31mTypeError\u001b[0m                                 Traceback (most recent call last)",
      "Cell \u001b[0;32mIn[112], line 1\u001b[0m\n\u001b[0;32m----> 1\u001b[0m \u001b[43mtup\u001b[49m\u001b[43m[\u001b[49m\u001b[38;5;241;43m2\u001b[39;49m\u001b[43m]\u001b[49m \u001b[38;5;241m=\u001b[39m \u001b[38;5;241m35\u001b[39m\n",
      "\u001b[0;31mTypeError\u001b[0m: 'tuple' object does not support item assignment"
     ]
    }
   ],
   "source": [
    "tup[2] = 35"
   ]
  },
  {
   "cell_type": "code",
   "execution_count": 113,
   "metadata": {
    "execution": {
     "iopub.execute_input": "2023-05-11T08:11:35.250456Z",
     "iopub.status.busy": "2023-05-11T08:11:35.249796Z",
     "iopub.status.idle": "2023-05-11T08:11:35.261364Z",
     "shell.execute_reply": "2023-05-11T08:11:35.259833Z",
     "shell.execute_reply.started": "2023-05-11T08:11:35.250395Z"
    },
    "tags": []
   },
   "outputs": [
    {
     "data": {
      "text/plain": [
       "('temperature',\n",
       " 'salinity',\n",
       " 'pressure',\n",
       " 'depth',\n",
       " 'heatflux',\n",
       " 'radiation',\n",
       " 'heatflux',\n",
       " 'radiation')"
      ]
     },
     "execution_count": 113,
     "metadata": {},
     "output_type": "execute_result"
    }
   ],
   "source": [
    "myvars = tuple(myvars)\n",
    "myvars"
   ]
  },
  {
   "cell_type": "code",
   "execution_count": 114,
   "metadata": {
    "execution": {
     "iopub.execute_input": "2023-05-11T08:11:35.444173Z",
     "iopub.status.busy": "2023-05-11T08:11:35.443917Z",
     "iopub.status.idle": "2023-05-11T08:11:35.447723Z",
     "shell.execute_reply": "2023-05-11T08:11:35.447020Z",
     "shell.execute_reply.started": "2023-05-11T08:11:35.444151Z"
    },
    "tags": []
   },
   "outputs": [],
   "source": [
    "myunits = (\"C\",\"PSU\",\"Pa\",\"m\")"
   ]
  },
  {
   "cell_type": "markdown",
   "metadata": {},
   "source": [
    "__*Интерактив*:__ Дописать в myunits единицы измерения?"
   ]
  },
  {
   "cell_type": "markdown",
   "metadata": {},
   "source": [
    "### Итерация по элементам (элементы объектно-ориентированного программирования) и циклы"
   ]
  },
  {
   "cell_type": "code",
   "execution_count": 115,
   "metadata": {
    "execution": {
     "iopub.execute_input": "2023-05-11T08:11:37.945236Z",
     "iopub.status.busy": "2023-05-11T08:11:37.944559Z",
     "iopub.status.idle": "2023-05-11T08:11:37.953868Z",
     "shell.execute_reply": "2023-05-11T08:11:37.952636Z",
     "shell.execute_reply.started": "2023-05-11T08:11:37.945175Z"
    },
    "tags": []
   },
   "outputs": [
    {
     "name": "stdout",
     "output_type": "stream",
     "text": [
      "['a', 'b', 'c', 'd', 'e', 'f', 'g', 'h', 'i', 'j', 'k', 'l', 'm', 'n', 'o', 'p', 'q', 'r', 's', 't', 'w', 'x', 'y', 'z', ',', 'a', 'b', 'c', 'd', 'e', 'f', 'g', 'h', 'i', 'j', 'k', 'l', 'm', 'n', 'o', 'p', 'q', 'r', 's', 't', 'w', 'x', 'y', 'z', '\\n', 'a', 'b', 'c', 'd', 'e', 'f', 'g', 'h', 'i', 'j', 'k', 'l', 'm', 'n', 'o', 'p', 'q', 'r', 's', 't', 'w', 'x', 'y', 'z', ',', 'a', 'b', 'c', 'd', 'e', 'f', 'g', 'h', 'i', 'j', 'k', 'l', 'm', 'n', 'o', 'p', 'q', 'r', 's', 't', 'w', 'x', 'y', 'z', '\\n']\n"
     ]
    }
   ],
   "source": [
    "print([_ for _ in bstr])"
   ]
  },
  {
   "cell_type": "code",
   "execution_count": 116,
   "metadata": {
    "execution": {
     "iopub.execute_input": "2023-05-11T08:11:49.701783Z",
     "iopub.status.busy": "2023-05-11T08:11:49.701115Z",
     "iopub.status.idle": "2023-05-11T08:11:49.710028Z",
     "shell.execute_reply": "2023-05-11T08:11:49.708626Z",
     "shell.execute_reply.started": "2023-05-11T08:11:49.701723Z"
    },
    "tags": []
   },
   "outputs": [
    {
     "name": "stdout",
     "output_type": "stream",
     "text": [
      "['-101.0', '4', '5', '15.0', '435', '2', '3', '4', '5', '15', '2', '3', '4', '5', '286', '15', '2', '3', '4', '5', '286', '15', '2', '3', '4', '5', '286', '15']\n"
     ]
    }
   ],
   "source": [
    "print([str(_) for _ in ll])"
   ]
  },
  {
   "cell_type": "code",
   "execution_count": 117,
   "metadata": {
    "execution": {
     "iopub.execute_input": "2023-05-11T08:11:49.817606Z",
     "iopub.status.busy": "2023-05-11T08:11:49.817384Z",
     "iopub.status.idle": "2023-05-11T08:11:49.821124Z",
     "shell.execute_reply": "2023-05-11T08:11:49.820636Z",
     "shell.execute_reply.started": "2023-05-11T08:11:49.817591Z"
    },
    "tags": []
   },
   "outputs": [
    {
     "name": "stdout",
     "output_type": "stream",
     "text": [
      "[-101, 4, 5, 15, 435, 2, 3, 4, 5, 15, 2, 3, 4, 5, 286, 15, 2, 3, 4, 5, 286, 15, 2, 3, 4, 5, 286, 15]\n"
     ]
    }
   ],
   "source": [
    "print([int(_) for _ in ll])"
   ]
  },
  {
   "cell_type": "markdown",
   "metadata": {},
   "source": [
    "#### Итерация по элементам нескольких последовательностей"
   ]
  },
  {
   "cell_type": "code",
   "execution_count": 118,
   "metadata": {
    "execution": {
     "iopub.execute_input": "2023-05-11T08:11:50.701247Z",
     "iopub.status.busy": "2023-05-11T08:11:50.700621Z",
     "iopub.status.idle": "2023-05-11T08:11:50.708205Z",
     "shell.execute_reply": "2023-05-11T08:11:50.707103Z",
     "shell.execute_reply.started": "2023-05-11T08:11:50.701206Z"
    },
    "tags": []
   },
   "outputs": [
    {
     "name": "stdout",
     "output_type": "stream",
     "text": [
      "[('temperature', 'C'), ('salinity', 'PSU'), ('pressure', 'Pa'), ('depth', 'm')]\n"
     ]
    }
   ],
   "source": [
    "print([_ for _ in zip(myvars,myunits)])"
   ]
  },
  {
   "cell_type": "markdown",
   "metadata": {},
   "source": [
    "При разных размерах по умолчанию будет выбран меньший размер"
   ]
  },
  {
   "cell_type": "markdown",
   "metadata": {
    "editable": true
   },
   "source": [
    "#### Циклы"
   ]
  },
  {
   "cell_type": "code",
   "execution_count": 119,
   "metadata": {
    "collapsed": false,
    "editable": true,
    "execution": {
     "iopub.execute_input": "2023-05-11T08:11:51.756735Z",
     "iopub.status.busy": "2023-05-11T08:11:51.756443Z",
     "iopub.status.idle": "2023-05-11T08:11:51.761373Z",
     "shell.execute_reply": "2023-05-11T08:11:51.760536Z",
     "shell.execute_reply.started": "2023-05-11T08:11:51.756708Z"
    },
    "jupyter": {
     "outputs_hidden": false
    },
    "tags": []
   },
   "outputs": [
    {
     "name": "stdout",
     "output_type": "stream",
     "text": [
      "('temperature', 'C')\n",
      "('salinity', 'PSU')\n",
      "('pressure', 'Pa')\n",
      "('depth', 'm')\n"
     ]
    }
   ],
   "source": [
    "for _ in zip(myvars,myunits):\n",
    "    print(_)"
   ]
  },
  {
   "cell_type": "code",
   "execution_count": 120,
   "metadata": {
    "execution": {
     "iopub.execute_input": "2023-05-11T08:11:52.119954Z",
     "iopub.status.busy": "2023-05-11T08:11:52.118652Z",
     "iopub.status.idle": "2023-05-11T08:11:52.129660Z",
     "shell.execute_reply": "2023-05-11T08:11:52.128360Z",
     "shell.execute_reply.started": "2023-05-11T08:11:52.119879Z"
    },
    "tags": []
   },
   "outputs": [
    {
     "name": "stdout",
     "output_type": "stream",
     "text": [
      "[('temperature', 'C'), ('salinity', 'PSU'), ('pressure', 'Pa'), ('depth', 'm')]\n",
      "CPU times: user 1.09 ms, sys: 262 µs, total: 1.35 ms\n",
      "Wall time: 1.37 ms\n"
     ]
    }
   ],
   "source": [
    "%%time\n",
    "print([_ for _ in zip(myvars,myunits)])"
   ]
  },
  {
   "cell_type": "code",
   "execution_count": 121,
   "metadata": {
    "collapsed": false,
    "editable": true,
    "execution": {
     "iopub.execute_input": "2023-05-11T08:11:52.987912Z",
     "iopub.status.busy": "2023-05-11T08:11:52.987354Z",
     "iopub.status.idle": "2023-05-11T08:11:52.992475Z",
     "shell.execute_reply": "2023-05-11T08:11:52.991768Z",
     "shell.execute_reply.started": "2023-05-11T08:11:52.987882Z"
    },
    "jupyter": {
     "outputs_hidden": false
    },
    "tags": []
   },
   "outputs": [
    {
     "name": "stdout",
     "output_type": "stream",
     "text": [
      "('temperature', 'C')\n",
      "('salinity', 'PSU')\n",
      "('pressure', 'Pa')\n",
      "('depth', 'm')\n",
      "CPU times: user 61 µs, sys: 15 µs, total: 76 µs\n",
      "Wall time: 80.6 µs\n"
     ]
    }
   ],
   "source": [
    "%%time\n",
    "for _ in zip(myvars,myunits):\n",
    "    print(_)"
   ]
  },
  {
   "cell_type": "code",
   "execution_count": 122,
   "metadata": {
    "execution": {
     "iopub.execute_input": "2023-05-11T08:11:53.983069Z",
     "iopub.status.busy": "2023-05-11T08:11:53.982388Z",
     "iopub.status.idle": "2023-05-11T08:11:53.995896Z",
     "shell.execute_reply": "2023-05-11T08:11:53.993298Z",
     "shell.execute_reply.started": "2023-05-11T08:11:53.983006Z"
    },
    "tags": []
   },
   "outputs": [
    {
     "name": "stdout",
     "output_type": "stream",
     "text": [
      "CPU times: user 80 µs, sys: 19 µs, total: 99 µs\n",
      "Wall time: 111 µs\n"
     ]
    }
   ],
   "source": [
    "%%time\n",
    "myalphabet = []\n",
    "for l in bstr:\n",
    "    myalphabet.append(f\"{l.capitalize()}{l}\")"
   ]
  },
  {
   "cell_type": "code",
   "execution_count": 123,
   "metadata": {
    "execution": {
     "iopub.execute_input": "2023-05-11T08:11:54.890046Z",
     "iopub.status.busy": "2023-05-11T08:11:54.889343Z",
     "iopub.status.idle": "2023-05-11T08:11:54.899383Z",
     "shell.execute_reply": "2023-05-11T08:11:54.897682Z",
     "shell.execute_reply.started": "2023-05-11T08:11:54.889977Z"
    },
    "tags": []
   },
   "outputs": [
    {
     "name": "stdout",
     "output_type": "stream",
     "text": [
      "CPU times: user 59 µs, sys: 14 µs, total: 73 µs\n",
      "Wall time: 86.8 µs\n"
     ]
    }
   ],
   "source": [
    "%%time\n",
    "myalphabet2 = [f\"{l.capitalize()}{l}\" for l in bstr]"
   ]
  },
  {
   "cell_type": "markdown",
   "metadata": {},
   "source": [
    "__*В Python зачастую \"выгоднее\" пользоваться итерацией по элементам, а не циклами*__"
   ]
  },
  {
   "cell_type": "markdown",
   "metadata": {
    "editable": true
   },
   "source": [
    "### Словарь &mdash; _dict()_ или _{}_"
   ]
  },
  {
   "cell_type": "code",
   "execution_count": 124,
   "metadata": {
    "execution": {
     "iopub.execute_input": "2023-05-11T08:11:56.659132Z",
     "iopub.status.busy": "2023-05-11T08:11:56.658465Z",
     "iopub.status.idle": "2023-05-11T08:11:56.665488Z",
     "shell.execute_reply": "2023-05-11T08:11:56.664087Z",
     "shell.execute_reply.started": "2023-05-11T08:11:56.659070Z"
    },
    "tags": []
   },
   "outputs": [],
   "source": [
    "physics = {\"pressure\":\"Pa\"}"
   ]
  },
  {
   "cell_type": "code",
   "execution_count": 125,
   "metadata": {
    "execution": {
     "iopub.execute_input": "2023-05-11T08:11:57.382990Z",
     "iopub.status.busy": "2023-05-11T08:11:57.382322Z",
     "iopub.status.idle": "2023-05-11T08:11:57.390799Z",
     "shell.execute_reply": "2023-05-11T08:11:57.389314Z",
     "shell.execute_reply.started": "2023-05-11T08:11:57.382928Z"
    },
    "tags": []
   },
   "outputs": [],
   "source": [
    "physics[\"temperature\"] = \"C\""
   ]
  },
  {
   "cell_type": "code",
   "execution_count": 126,
   "metadata": {
    "execution": {
     "iopub.execute_input": "2023-05-11T08:11:58.167394Z",
     "iopub.status.busy": "2023-05-11T08:11:58.166693Z",
     "iopub.status.idle": "2023-05-11T08:11:58.175598Z",
     "shell.execute_reply": "2023-05-11T08:11:58.174313Z",
     "shell.execute_reply.started": "2023-05-11T08:11:58.167333Z"
    },
    "tags": []
   },
   "outputs": [],
   "source": [
    "physics2 = dict(pressure=\"Pa\",temperature=\"C\")"
   ]
  },
  {
   "cell_type": "code",
   "execution_count": 127,
   "metadata": {
    "execution": {
     "iopub.execute_input": "2023-05-11T08:11:58.346426Z",
     "iopub.status.busy": "2023-05-11T08:11:58.345082Z",
     "iopub.status.idle": "2023-05-11T08:11:58.357446Z",
     "shell.execute_reply": "2023-05-11T08:11:58.355253Z",
     "shell.execute_reply.started": "2023-05-11T08:11:58.346354Z"
    },
    "tags": []
   },
   "outputs": [
    {
     "data": {
      "text/plain": [
       "True"
      ]
     },
     "execution_count": 127,
     "metadata": {},
     "output_type": "execute_result"
    }
   ],
   "source": [
    "physics == physics2"
   ]
  },
  {
   "cell_type": "code",
   "execution_count": 128,
   "metadata": {
    "execution": {
     "iopub.execute_input": "2023-05-11T08:11:58.508681Z",
     "iopub.status.busy": "2023-05-11T08:11:58.508343Z",
     "iopub.status.idle": "2023-05-11T08:11:58.514937Z",
     "shell.execute_reply": "2023-05-11T08:11:58.514116Z",
     "shell.execute_reply.started": "2023-05-11T08:11:58.508650Z"
    },
    "tags": []
   },
   "outputs": [
    {
     "data": {
      "text/plain": [
       "{'pressure': 'Pa', 'temperature': 'C', 'salinity': 'PSU'}"
      ]
     },
     "execution_count": 128,
     "metadata": {},
     "output_type": "execute_result"
    }
   ],
   "source": [
    "physics.update({\"salinity\":\"PSU\"})\n",
    "physics"
   ]
  },
  {
   "cell_type": "code",
   "execution_count": 129,
   "metadata": {
    "execution": {
     "iopub.execute_input": "2023-05-11T08:11:58.697593Z",
     "iopub.status.busy": "2023-05-11T08:11:58.696912Z",
     "iopub.status.idle": "2023-05-11T08:11:58.708186Z",
     "shell.execute_reply": "2023-05-11T08:11:58.706956Z",
     "shell.execute_reply.started": "2023-05-11T08:11:58.697532Z"
    },
    "tags": []
   },
   "outputs": [
    {
     "data": {
      "text/plain": [
       "False"
      ]
     },
     "execution_count": 129,
     "metadata": {},
     "output_type": "execute_result"
    }
   ],
   "source": [
    "physics == physics2"
   ]
  },
  {
   "cell_type": "code",
   "execution_count": 130,
   "metadata": {
    "execution": {
     "iopub.execute_input": "2023-05-11T08:11:58.853324Z",
     "iopub.status.busy": "2023-05-11T08:11:58.853008Z",
     "iopub.status.idle": "2023-05-11T08:11:58.858617Z",
     "shell.execute_reply": "2023-05-11T08:11:58.857711Z",
     "shell.execute_reply.started": "2023-05-11T08:11:58.853297Z"
    },
    "tags": []
   },
   "outputs": [],
   "source": [
    "physics3 = {v1:v2 for (v1,v2) in zip(myvars,myunits)}"
   ]
  },
  {
   "cell_type": "code",
   "execution_count": 131,
   "metadata": {
    "execution": {
     "iopub.execute_input": "2023-05-11T08:11:59.060153Z",
     "iopub.status.busy": "2023-05-11T08:11:59.059402Z",
     "iopub.status.idle": "2023-05-11T08:11:59.070076Z",
     "shell.execute_reply": "2023-05-11T08:11:59.068777Z",
     "shell.execute_reply.started": "2023-05-11T08:11:59.060088Z"
    },
    "tags": []
   },
   "outputs": [
    {
     "data": {
      "text/plain": [
       "{'temperature': 'C', 'salinity': 'PSU', 'pressure': 'Pa', 'depth': 'm'}"
      ]
     },
     "execution_count": 131,
     "metadata": {},
     "output_type": "execute_result"
    }
   ],
   "source": [
    "physics3"
   ]
  },
  {
   "cell_type": "markdown",
   "metadata": {
    "deletable": true,
    "editable": true
   },
   "source": [
    "### Последовательность &mdash; _range()_"
   ]
  },
  {
   "cell_type": "code",
   "execution_count": 132,
   "metadata": {
    "execution": {
     "iopub.execute_input": "2023-05-11T08:11:59.424974Z",
     "iopub.status.busy": "2023-05-11T08:11:59.424299Z",
     "iopub.status.idle": "2023-05-11T08:11:59.431253Z",
     "shell.execute_reply": "2023-05-11T08:11:59.430185Z",
     "shell.execute_reply.started": "2023-05-11T08:11:59.424912Z"
    },
    "tags": []
   },
   "outputs": [
    {
     "name": "stdout",
     "output_type": "stream",
     "text": [
      "range(0, 5)\n"
     ]
    }
   ],
   "source": [
    "print(range(5))"
   ]
  },
  {
   "cell_type": "code",
   "execution_count": 133,
   "metadata": {
    "collapsed": false,
    "editable": true,
    "execution": {
     "iopub.execute_input": "2023-05-11T08:11:59.602975Z",
     "iopub.status.busy": "2023-05-11T08:11:59.602575Z",
     "iopub.status.idle": "2023-05-11T08:11:59.606794Z",
     "shell.execute_reply": "2023-05-11T08:11:59.606068Z",
     "shell.execute_reply.started": "2023-05-11T08:11:59.602942Z"
    },
    "jupyter": {
     "outputs_hidden": false
    },
    "tags": []
   },
   "outputs": [],
   "source": [
    "myrange = list(range(5))"
   ]
  },
  {
   "cell_type": "code",
   "execution_count": 134,
   "metadata": {
    "collapsed": false,
    "editable": true,
    "execution": {
     "iopub.execute_input": "2023-05-11T08:11:59.774566Z",
     "iopub.status.busy": "2023-05-11T08:11:59.774217Z",
     "iopub.status.idle": "2023-05-11T08:11:59.780193Z",
     "shell.execute_reply": "2023-05-11T08:11:59.779319Z",
     "shell.execute_reply.started": "2023-05-11T08:11:59.774533Z"
    },
    "jupyter": {
     "outputs_hidden": false
    },
    "tags": []
   },
   "outputs": [
    {
     "data": {
      "text/plain": [
       "0"
      ]
     },
     "execution_count": 134,
     "metadata": {},
     "output_type": "execute_result"
    }
   ],
   "source": [
    "min(list(range(5)))"
   ]
  },
  {
   "cell_type": "code",
   "execution_count": 135,
   "metadata": {
    "collapsed": false,
    "editable": true,
    "execution": {
     "iopub.execute_input": "2023-05-11T08:11:59.941772Z",
     "iopub.status.busy": "2023-05-11T08:11:59.941473Z",
     "iopub.status.idle": "2023-05-11T08:11:59.946851Z",
     "shell.execute_reply": "2023-05-11T08:11:59.946167Z",
     "shell.execute_reply.started": "2023-05-11T08:11:59.941745Z"
    },
    "jupyter": {
     "outputs_hidden": false
    },
    "tags": []
   },
   "outputs": [
    {
     "data": {
      "text/plain": [
       "5"
      ]
     },
     "execution_count": 135,
     "metadata": {},
     "output_type": "execute_result"
    }
   ],
   "source": [
    "len(myrange)"
   ]
  },
  {
   "cell_type": "code",
   "execution_count": 136,
   "metadata": {
    "collapsed": false,
    "editable": true,
    "execution": {
     "iopub.execute_input": "2023-05-11T08:12:00.152278Z",
     "iopub.status.busy": "2023-05-11T08:12:00.151536Z",
     "iopub.status.idle": "2023-05-11T08:12:00.157806Z",
     "shell.execute_reply": "2023-05-11T08:12:00.157016Z",
     "shell.execute_reply.started": "2023-05-11T08:12:00.152243Z"
    },
    "jupyter": {
     "outputs_hidden": false
    },
    "tags": []
   },
   "outputs": [
    {
     "data": {
      "text/plain": [
       "True"
      ]
     },
     "execution_count": 136,
     "metadata": {},
     "output_type": "execute_result"
    }
   ],
   "source": [
    "4 in myrange"
   ]
  },
  {
   "cell_type": "code",
   "execution_count": 137,
   "metadata": {
    "collapsed": false,
    "editable": true,
    "execution": {
     "iopub.execute_input": "2023-05-11T08:12:00.371162Z",
     "iopub.status.busy": "2023-05-11T08:12:00.370859Z",
     "iopub.status.idle": "2023-05-11T08:12:00.375842Z",
     "shell.execute_reply": "2023-05-11T08:12:00.375080Z",
     "shell.execute_reply.started": "2023-05-11T08:12:00.371136Z"
    },
    "jupyter": {
     "outputs_hidden": false
    },
    "tags": []
   },
   "outputs": [
    {
     "data": {
      "text/plain": [
       "True"
      ]
     },
     "execution_count": 137,
     "metadata": {},
     "output_type": "execute_result"
    }
   ],
   "source": [
    "4. in myrange"
   ]
  },
  {
   "cell_type": "code",
   "execution_count": 138,
   "metadata": {
    "execution": {
     "iopub.execute_input": "2023-05-11T08:12:00.553548Z",
     "iopub.status.busy": "2023-05-11T08:12:00.552294Z",
     "iopub.status.idle": "2023-05-11T08:12:00.561305Z",
     "shell.execute_reply": "2023-05-11T08:12:00.559291Z",
     "shell.execute_reply.started": "2023-05-11T08:12:00.553473Z"
    },
    "tags": []
   },
   "outputs": [],
   "source": [
    "N = 10000"
   ]
  },
  {
   "cell_type": "code",
   "execution_count": 139,
   "metadata": {
    "collapsed": false,
    "editable": true,
    "execution": {
     "iopub.execute_input": "2023-05-11T08:12:00.751776Z",
     "iopub.status.busy": "2023-05-11T08:12:00.751329Z",
     "iopub.status.idle": "2023-05-11T08:12:00.760005Z",
     "shell.execute_reply": "2023-05-11T08:12:00.759077Z",
     "shell.execute_reply.started": "2023-05-11T08:12:00.751738Z"
    },
    "jupyter": {
     "outputs_hidden": false
    },
    "tags": []
   },
   "outputs": [
    {
     "name": "stdout",
     "output_type": "stream",
     "text": [
      "CPU times: user 671 µs, sys: 153 µs, total: 824 µs\n",
      "Wall time: 833 µs\n"
     ]
    },
    {
     "data": {
      "text/plain": [
       "49995000"
      ]
     },
     "execution_count": 139,
     "metadata": {},
     "output_type": "execute_result"
    }
   ],
   "source": [
    "%%time\n",
    "sum(list(range(N)))"
   ]
  },
  {
   "cell_type": "code",
   "execution_count": 140,
   "metadata": {
    "collapsed": false,
    "editable": true,
    "execution": {
     "iopub.execute_input": "2023-05-11T08:12:00.937527Z",
     "iopub.status.busy": "2023-05-11T08:12:00.937221Z",
     "iopub.status.idle": "2023-05-11T08:12:00.943731Z",
     "shell.execute_reply": "2023-05-11T08:12:00.942843Z",
     "shell.execute_reply.started": "2023-05-11T08:12:00.937501Z"
    },
    "jupyter": {
     "outputs_hidden": false
    },
    "tags": []
   },
   "outputs": [
    {
     "name": "stdout",
     "output_type": "stream",
     "text": [
      "CPU times: user 1.61 ms, sys: 0 ns, total: 1.61 ms\n",
      "Wall time: 1.62 ms\n"
     ]
    }
   ],
   "source": [
    "%%time\n",
    "mysum = 0\n",
    "for i in range(N):\n",
    "    mysum += i"
   ]
  },
  {
   "cell_type": "markdown",
   "metadata": {
    "deletable": true,
    "editable": true
   },
   "source": [
    "## Функции и лямбда-функции (элементы функционального программирования)"
   ]
  },
  {
   "cell_type": "code",
   "execution_count": 141,
   "metadata": {
    "execution": {
     "iopub.execute_input": "2023-05-11T08:12:01.282287Z",
     "iopub.status.busy": "2023-05-11T08:12:01.281598Z",
     "iopub.status.idle": "2023-05-11T08:12:01.291315Z",
     "shell.execute_reply": "2023-05-11T08:12:01.289694Z",
     "shell.execute_reply.started": "2023-05-11T08:12:01.282223Z"
    },
    "tags": []
   },
   "outputs": [],
   "source": [
    "def multiply(x,y):\n",
    "    return x*y"
   ]
  },
  {
   "cell_type": "code",
   "execution_count": 142,
   "metadata": {
    "execution": {
     "iopub.execute_input": "2023-05-11T08:12:01.475177Z",
     "iopub.status.busy": "2023-05-11T08:12:01.474518Z",
     "iopub.status.idle": "2023-05-11T08:12:01.485627Z",
     "shell.execute_reply": "2023-05-11T08:12:01.484388Z",
     "shell.execute_reply.started": "2023-05-11T08:12:01.475116Z"
    },
    "tags": []
   },
   "outputs": [],
   "source": [
    "numbers = range(1,15)"
   ]
  },
  {
   "cell_type": "code",
   "execution_count": 143,
   "metadata": {
    "execution": {
     "iopub.execute_input": "2023-05-11T08:12:01.735142Z",
     "iopub.status.busy": "2023-05-11T08:12:01.734851Z",
     "iopub.status.idle": "2023-05-11T08:12:01.830999Z",
     "shell.execute_reply": "2023-05-11T08:12:01.830226Z",
     "shell.execute_reply.started": "2023-05-11T08:12:01.735115Z"
    },
    "tags": []
   },
   "outputs": [
    {
     "name": "stdout",
     "output_type": "stream",
     "text": [
      "13.1 µs ± 829 ns per loop (mean ± std. dev. of 7 runs, 1,000 loops each)\n"
     ]
    }
   ],
   "source": [
    "%%timeit -n 1000\n",
    "table1 = []\n",
    "for x in numbers:\n",
    "    l = []\n",
    "    for y in numbers:\n",
    "        l.append(multiply(x,y))\n",
    "    table1.append(l)"
   ]
  },
  {
   "cell_type": "code",
   "execution_count": 144,
   "metadata": {
    "execution": {
     "iopub.execute_input": "2023-05-11T08:12:02.617829Z",
     "iopub.status.busy": "2023-05-11T08:12:02.617156Z",
     "iopub.status.idle": "2023-05-11T08:12:02.629580Z",
     "shell.execute_reply": "2023-05-11T08:12:02.628110Z",
     "shell.execute_reply.started": "2023-05-11T08:12:02.617767Z"
    },
    "tags": []
   },
   "outputs": [],
   "source": [
    "def get_product_table1(numbers):\n",
    "    table = []\n",
    "    for x in numbers:\n",
    "        l = []\n",
    "        for y in numbers:\n",
    "            l.append(multiply(x,y))\n",
    "        table.append(l)\n",
    "    return table"
   ]
  },
  {
   "cell_type": "code",
   "execution_count": 145,
   "metadata": {
    "execution": {
     "iopub.execute_input": "2023-05-11T08:12:11.008600Z",
     "iopub.status.busy": "2023-05-11T08:12:11.007932Z",
     "iopub.status.idle": "2023-05-11T08:12:11.017179Z",
     "shell.execute_reply": "2023-05-11T08:12:11.015731Z",
     "shell.execute_reply.started": "2023-05-11T08:12:11.008537Z"
    },
    "tags": []
   },
   "outputs": [],
   "source": [
    "def get_product_table2(numbers):\n",
    "    return [[multiply(x,y) for x in numbers] for y in numbers]"
   ]
  },
  {
   "cell_type": "code",
   "execution_count": 146,
   "metadata": {
    "execution": {
     "iopub.execute_input": "2023-05-11T08:12:14.236016Z",
     "iopub.status.busy": "2023-05-11T08:12:14.234675Z",
     "iopub.status.idle": "2023-05-11T08:12:14.350536Z",
     "shell.execute_reply": "2023-05-11T08:12:14.349900Z",
     "shell.execute_reply.started": "2023-05-11T08:12:14.235939Z"
    },
    "tags": []
   },
   "outputs": [
    {
     "name": "stdout",
     "output_type": "stream",
     "text": [
      "15.4 µs ± 6.38 µs per loop (mean ± std. dev. of 7 runs, 1,000 loops each)\n"
     ]
    }
   ],
   "source": [
    "%%timeit -n 1000\n",
    "get_product_table1(numbers)"
   ]
  },
  {
   "cell_type": "code",
   "execution_count": 147,
   "metadata": {
    "execution": {
     "iopub.execute_input": "2023-05-11T08:12:16.012175Z",
     "iopub.status.busy": "2023-05-11T08:12:16.011467Z",
     "iopub.status.idle": "2023-05-11T08:12:16.127211Z",
     "shell.execute_reply": "2023-05-11T08:12:16.126624Z",
     "shell.execute_reply.started": "2023-05-11T08:12:16.012113Z"
    },
    "tags": []
   },
   "outputs": [
    {
     "name": "stdout",
     "output_type": "stream",
     "text": [
      "15.5 µs ± 4.15 µs per loop (mean ± std. dev. of 7 runs, 1,000 loops each)\n"
     ]
    }
   ],
   "source": [
    "%%timeit -n 1000\n",
    "get_product_table2(numbers)"
   ]
  },
  {
   "cell_type": "code",
   "execution_count": 148,
   "metadata": {
    "execution": {
     "iopub.execute_input": "2023-05-11T08:12:27.595755Z",
     "iopub.status.busy": "2023-05-11T08:12:27.595050Z",
     "iopub.status.idle": "2023-05-11T08:12:27.604964Z",
     "shell.execute_reply": "2023-05-11T08:12:27.602378Z",
     "shell.execute_reply.started": "2023-05-11T08:12:27.595689Z"
    },
    "tags": []
   },
   "outputs": [],
   "source": [
    "table1,table2 = get_product_table1(numbers),get_product_table2(numbers)"
   ]
  },
  {
   "cell_type": "code",
   "execution_count": 149,
   "metadata": {
    "execution": {
     "iopub.execute_input": "2023-05-11T08:12:28.163400Z",
     "iopub.status.busy": "2023-05-11T08:12:28.162735Z",
     "iopub.status.idle": "2023-05-11T08:12:28.172553Z",
     "shell.execute_reply": "2023-05-11T08:12:28.171165Z",
     "shell.execute_reply.started": "2023-05-11T08:12:28.163338Z"
    },
    "tags": []
   },
   "outputs": [
    {
     "data": {
      "text/plain": [
       "True"
      ]
     },
     "execution_count": 149,
     "metadata": {},
     "output_type": "execute_result"
    }
   ],
   "source": [
    "table1 == table2"
   ]
  },
  {
   "cell_type": "markdown",
   "metadata": {},
   "source": [
    "_**Интерактив**: Напишите расчет table1 и table2, используя итерацию по функциям!_"
   ]
  },
  {
   "cell_type": "code",
   "execution_count": 150,
   "metadata": {
    "execution": {
     "iopub.execute_input": "2023-05-11T08:13:07.498000Z",
     "iopub.status.busy": "2023-05-11T08:13:07.497528Z",
     "iopub.status.idle": "2023-05-11T08:13:07.504282Z",
     "shell.execute_reply": "2023-05-11T08:13:07.503092Z",
     "shell.execute_reply.started": "2023-05-11T08:13:07.497959Z"
    },
    "tags": []
   },
   "outputs": [],
   "source": [
    "lmultiply = lambda x,y: x*y"
   ]
  },
  {
   "cell_type": "code",
   "execution_count": 151,
   "metadata": {
    "execution": {
     "iopub.execute_input": "2023-05-11T08:13:11.662277Z",
     "iopub.status.busy": "2023-05-11T08:13:11.661603Z",
     "iopub.status.idle": "2023-05-11T08:13:11.670135Z",
     "shell.execute_reply": "2023-05-11T08:13:11.668830Z",
     "shell.execute_reply.started": "2023-05-11T08:13:11.662216Z"
    },
    "tags": []
   },
   "outputs": [],
   "source": [
    "def get_product_table3(numbers):\n",
    "    return [[lmultiply(x,y) for x in numbers] for y in numbers]"
   ]
  },
  {
   "cell_type": "code",
   "execution_count": 152,
   "metadata": {
    "execution": {
     "iopub.execute_input": "2023-05-11T08:13:20.008805Z",
     "iopub.status.busy": "2023-05-11T08:13:20.008132Z",
     "iopub.status.idle": "2023-05-11T08:13:20.126198Z",
     "shell.execute_reply": "2023-05-11T08:13:20.125541Z",
     "shell.execute_reply.started": "2023-05-11T08:13:20.008744Z"
    },
    "tags": []
   },
   "outputs": [
    {
     "name": "stdout",
     "output_type": "stream",
     "text": [
      "15.8 µs ± 4.46 µs per loop (mean ± std. dev. of 7 runs, 1,000 loops each)\n"
     ]
    }
   ],
   "source": [
    "%%timeit -n 1000\n",
    "get_product_table3(numbers)"
   ]
  },
  {
   "cell_type": "code",
   "execution_count": 153,
   "metadata": {
    "execution": {
     "iopub.execute_input": "2023-05-11T08:13:36.850620Z",
     "iopub.status.busy": "2023-05-11T08:13:36.849989Z",
     "iopub.status.idle": "2023-05-11T08:13:36.854626Z",
     "shell.execute_reply": "2023-05-11T08:13:36.853734Z",
     "shell.execute_reply.started": "2023-05-11T08:13:36.850590Z"
    },
    "tags": []
   },
   "outputs": [],
   "source": [
    "numbers = range(1,25)"
   ]
  },
  {
   "cell_type": "code",
   "execution_count": 154,
   "metadata": {
    "execution": {
     "iopub.execute_input": "2023-05-11T08:13:37.524818Z",
     "iopub.status.busy": "2023-05-11T08:13:37.524140Z",
     "iopub.status.idle": "2023-05-11T08:13:37.532553Z",
     "shell.execute_reply": "2023-05-11T08:13:37.531120Z",
     "shell.execute_reply.started": "2023-05-11T08:13:37.524756Z"
    },
    "tags": []
   },
   "outputs": [],
   "source": [
    "getcbmsq = lambda x: x**3 - x**2"
   ]
  },
  {
   "cell_type": "code",
   "execution_count": 155,
   "metadata": {
    "execution": {
     "iopub.execute_input": "2023-05-11T08:13:38.021069Z",
     "iopub.status.busy": "2023-05-11T08:13:38.020576Z",
     "iopub.status.idle": "2023-05-11T08:13:38.034706Z",
     "shell.execute_reply": "2023-05-11T08:13:38.033101Z",
     "shell.execute_reply.started": "2023-05-11T08:13:38.021023Z"
    },
    "tags": []
   },
   "outputs": [
    {
     "data": {
      "text/plain": [
       "[[1, 0],\n",
       " [2, 4],\n",
       " [3, 18],\n",
       " [4, 48],\n",
       " [5, 100],\n",
       " [6, 180],\n",
       " [7, 294],\n",
       " [8, 448],\n",
       " [9, 648],\n",
       " [10, 900],\n",
       " [11, 1210],\n",
       " [12, 1584],\n",
       " [13, 2028],\n",
       " [14, 2548],\n",
       " [15, 3150],\n",
       " [16, 3840],\n",
       " [17, 4624],\n",
       " [18, 5508],\n",
       " [19, 6498],\n",
       " [20, 7600],\n",
       " [21, 8820],\n",
       " [22, 10164],\n",
       " [23, 11638],\n",
       " [24, 13248]]"
      ]
     },
     "execution_count": 155,
     "metadata": {},
     "output_type": "execute_result"
    }
   ],
   "source": [
    "[[_,getcbmsq(_)] for _ in numbers]"
   ]
  },
  {
   "cell_type": "code",
   "execution_count": 156,
   "metadata": {
    "execution": {
     "iopub.execute_input": "2023-05-11T08:13:45.300838Z",
     "iopub.status.busy": "2023-05-11T08:13:45.300531Z",
     "iopub.status.idle": "2023-05-11T08:13:45.306447Z",
     "shell.execute_reply": "2023-05-11T08:13:45.305728Z",
     "shell.execute_reply.started": "2023-05-11T08:13:45.300811Z"
    },
    "tags": []
   },
   "outputs": [
    {
     "data": {
      "text/plain": [
       "[0,\n",
       " 4,\n",
       " 18,\n",
       " 48,\n",
       " 100,\n",
       " 180,\n",
       " 294,\n",
       " 448,\n",
       " 648,\n",
       " 900,\n",
       " 1210,\n",
       " 1584,\n",
       " 2028,\n",
       " 2548,\n",
       " 3150,\n",
       " 3840,\n",
       " 4624,\n",
       " 5508,\n",
       " 6498,\n",
       " 7600,\n",
       " 8820,\n",
       " 10164,\n",
       " 11638,\n",
       " 13248]"
      ]
     },
     "execution_count": 156,
     "metadata": {},
     "output_type": "execute_result"
    }
   ],
   "source": [
    "[getcbmsq(_) for _ in numbers]"
   ]
  },
  {
   "cell_type": "markdown",
   "metadata": {},
   "source": [
    "другой вариант &mdash; использовать функцию _map()_"
   ]
  },
  {
   "cell_type": "code",
   "execution_count": 157,
   "metadata": {
    "execution": {
     "iopub.execute_input": "2023-05-11T08:13:48.929102Z",
     "iopub.status.busy": "2023-05-11T08:13:48.927271Z",
     "iopub.status.idle": "2023-05-11T08:13:48.939978Z",
     "shell.execute_reply": "2023-05-11T08:13:48.938463Z",
     "shell.execute_reply.started": "2023-05-11T08:13:48.929023Z"
    },
    "tags": []
   },
   "outputs": [
    {
     "data": {
      "text/plain": [
       "<map at 0x7f13d4e1a920>"
      ]
     },
     "execution_count": 157,
     "metadata": {},
     "output_type": "execute_result"
    }
   ],
   "source": [
    "map(getcbmsq,numbers)"
   ]
  },
  {
   "cell_type": "markdown",
   "metadata": {},
   "source": [
    "__*Интерактив*:__ Предположите, как получить _список_ с результатами применения функции?"
   ]
  }
 ],
 "metadata": {
  "kernelspec": {
   "display_name": "ocean",
   "language": "python3",
   "name": "ocean"
  },
  "language_info": {
   "codemirror_mode": {
    "name": "ipython",
    "version": 3
   },
   "file_extension": ".py",
   "mimetype": "text/x-python",
   "name": "python",
   "nbconvert_exporter": "python",
   "pygments_lexer": "ipython3",
   "version": "3.11.0"
  },
  "toc-autonumbering": true,
  "toc-showcode": false,
  "toc-showmarkdowntxt": false,
  "toc-showtags": false,
  "widgets": {
   "application/vnd.jupyter.widget-state+json": {
    "state": {},
    "version_major": 2,
    "version_minor": 0
   }
  }
 },
 "nbformat": 4,
 "nbformat_minor": 4
}
